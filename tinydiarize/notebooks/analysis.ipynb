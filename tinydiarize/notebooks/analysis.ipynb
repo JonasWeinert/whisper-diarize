{
    "cells": [
        {
            "attachments": {},
            "cell_type": "markdown",
            "metadata": {},
            "source": [
                "# Outline\n",
                "\n",
                "This notebook complements the blog post and is intended to cover the following topics:\n",
                "- Reproduce results/analysis, with code examples. This can be edited to score on your own data.\n",
                "- Deep dive into results and errors from blog post.\n",
                "- Misc discussion."
            ]
        },
        {
            "cell_type": "markdown",
            "metadata": {},
            "source": [
                "# Reproduce scoring results"
            ]
        },
        {
            "cell_type": "markdown",
            "metadata": {},
            "source": [
                "## Setup\n"
            ]
        },
        {
            "cell_type": "markdown",
            "metadata": {},
            "source": [
                "If you have cloned the repro and are running this locally, make sure you first follow setup in `tinydiarize/README.md`, particularly the section on the fstalign scoring tool. This notebook handles the rest of the setup (including downloading eval data).\n",
                "\n",
                "> NOTE: If running on Google Colab - this notebook will fetch and use pre-computed results until we figure out how to get the fstalign scoring tool working on Colab."
            ]
        },
        {
            "cell_type": "code",
            "execution_count": 2,
            "metadata": {},
            "outputs": [],
            "source": [
                "import pandas as pd\n",
                "import matplotlib.pyplot as plt\n",
                "from IPython import get_ipython\n",
                "from IPython import display as ipd"
            ]
        },
        {
            "cell_type": "code",
            "execution_count": 3,
            "metadata": {
                "tags": []
            },
            "outputs": [],
            "source": [
                "if 'google.colab' in str(get_ipython()):\n",
                "    # clone a particular branch of tinydiarize repo\n",
                "    ! git clone https://github.com/akashmjn/tinyDiarize.git -b analysis-1 --single-branch\n",
                "    # pip install\n",
                "    ! pip install -e tinyDiarize\n",
                "    # setup workdir\n",
                "    WORKDIR = 'tinyDiarize/tinydiarize/workdir_analysis'\n",
                "    CODEDIR = 'tinyDiarize/tinydiarize'\n",
                "    _PRE_COMPUTED = True\n",
                "else:\n",
                "    # if running locally, assume that tinydiarize repo is already cloned and installed\n",
                "    WORKDIR = '../workdir_analysis'\n",
                "    CODEDIR = '..'\n",
                "    _PRE_COMPUTED = False\n",
                "\n",
                "ipd.clear_output()"
            ]
        },
        {
            "attachments": {},
            "cell_type": "markdown",
            "metadata": {},
            "source": [
                "## Evaluation data\n",
                "\n",
                "We are using an out-of-distribution setup, evaluating on a different dataset than what the model was finetuned on (AMI meetings). As in Whisper, this allows us to get a more realistic estimate of real-world generalization vs the model's ability to fit dataset-specific quirks of the AMI dataset.\n",
                "\n",
                "For ease of analysis (and keeping with the 'tiny' spirit 😊), I've chosen a biased subset of 3 earnings calls from [rev/earnings21](https://github.com/revdotcom/speech-datasets/blob/main/earnings21/earnings21-file-metadata.csv). These were selected with the following criteria:\n",
                "- One interactive Q&A meeting (*939, Hershey) with a higher number of speaker switches and unique speakers\n",
                "- One meeting (*910, Amex) that is a moderated Q&A between only 2 speakers\n",
                "- One meeting (*971, Constellium) that comprises both a presentation and Q&A session, and is somewhere in between\n",
                "\n",
                "| file_id | audio_length | company_name | sector | speaker_switches | speaker_switches / minute | unique_speakers |\n",
                "|---------|--------------|--------------|--------|------------------|---------------------------|-----------------|\n",
                "| 4385939 | 3049.832     | Hershey Company | Consumer Goods | 132 | 2.60 | 19 |\n",
                "| 4374910 | 2028.536     | American Express Company | Financial | 56 | 1.66 | 2 |\n",
                "| 4359971 | 3759.944     | Constellium | Industrial Goods | 116 | 1.85 | 10 |"
            ]
        },
        {
            "cell_type": "code",
            "execution_count": 4,
            "metadata": {},
            "outputs": [],
            "source": [
                "# setup workdir structure and fetch evaluation data\n",
                "if _PRE_COMPUTED:\n",
                "    # download pre-computed results from blob\n",
                "    ! wget -O {CODEDIR}/workdir_analysis.tar.gz https://sharedstorage7190.blob.core.windows.net/tinydiarize/precomputed/workdir_analysis/5e09d4787a2674ea773547dcb9f23321a472bea883917337e0139a2ba0c2dd34.tar.gz\n",
                "    # unpack pre-computed results into WORKDIR\n",
                "    ! tar -xzf {CODEDIR}/workdir_analysis.tar.gz -C {CODEDIR}\n",
                "else:\n",
                "    ! mkdir -p {WORKDIR}\n",
                "    # call a bash script with WORKDIR as an environment variable\n",
                "    ! bash {CODEDIR}/scripts/fetch_earnings21_calls.sh {WORKDIR}\n",
                "\n",
                "ipd.clear_output()"
            ]
        },
        {
            "cell_type": "code",
            "execution_count": null,
            "metadata": {},
            "outputs": [],
            "source": [
                "# listen to an example file \n",
                "ipd.Audio(f'{WORKDIR}/audio/earnings21-4374910.mp3')"
            ]
        },
        {
            "attachments": {},
            "cell_type": "markdown",
            "metadata": {},
            "source": [
                "## Transcribing and scoring\n",
                "\n",
                "We use a convenience script  to transcribe and score the calls. `run_pipelines.py` runs ASR (Whisper `small.en`) along with various diarization pipelines (explained in the following sections), scores them and parses detailed results into a single tsv file.\n",
                "\n",
                "> *NOTE: On Google colab, we will fetch pre-computed results from my runs, as it's a bit tricky to setup the fstalign scoring tool*\n",
                "\n",
                "`TODO@Akash` - verify run_pipelines works, for now assuming that results are generated correctly"
            ]
        },
        {
            "cell_type": "code",
            "execution_count": null,
            "metadata": {},
            "outputs": [],
            "source": [
                "if not _PRE_COMPUTED:\n",
                "    # change directory to ../scripts\n",
                "    ! cd {CODEDIR}/scripts\n",
                "\n",
                "    # process all the selected calls\n",
                "    calls = [\n",
                "        (\"earnings21-4385939\", 19),\n",
                "        (\"earnings21-4374910\", 2),\n",
                "        (\"earnings21-4359971\", 10),\n",
                "    ]\n",
                "\n",
                "    # iterate over calls and run the script run_pipelines.py\n",
                "    for call_id, num_speakers in calls:\n",
                "        ! python run_pipelines.py {WORKDIR}/audio/{call_id}.mp3 {WORKDIR}/fstalign_scoring/references/{call_id}-ref.nlp {WORKDIR}/transcripts/tiny.en/{call_id} --num_speakers {num_speakers}\n",
                "\n",
                "    # change directory back to ../notebooks\n",
                "    ! cd ./notebooks\n"
            ]
        },
        {
            "cell_type": "markdown",
            "metadata": {},
            "source": [
                "## Running on your own data \n",
                "\n",
                "To do so, you will need to:\n",
                "- Replace files under `WORKDIR/audio` with your own audio files\n",
                "- Create reference files in the [fstalign NLP format](https://github.com/revdotcom/fstalign/blob/develop/docs/NLP-Format.md]) under `WORKDIR/fstalign_scoring/references` \n",
                "- Make sure that the NLP contains speaker IDs in column 2. These are only used to score speaker turns. If your transcript only has speaker turns without global IDs, you can just increment a dummy speaker ID after every turn.\n",
                "\n",
                "Once this is done, you can simply plug it in to the `run_pipelines.py` script as above."
            ]
        },
        {
            "cell_type": "markdown",
            "metadata": {},
            "source": [
                "# Deep dive into results and errors"
            ]
        },
        {
            "cell_type": "markdown",
            "metadata": {},
            "source": [
                "## Information on metrics\n",
                "\n",
                "Diarization typically uses either time-based metrics (e.g. DER measures % of time correctly attributed) or transcript-based metrics that compare the final transcript. \n",
                "\n",
                "I prefer to use the latter as:\n",
                "- It helps us see errors the way an end-user would i.e. [WYSIWYG](https://en.wikipedia.org/wiki/WYSIWYG).\n",
                "- Analyzing errors in the semantic context of the conversation is much more intuitive than time-based metrics, and helps us quickly get a sense of where we really need to focus.\n",
                "- Tricky edge cases such as disfluencies, speaker overlap, etc. can be handled in an interpretable way with the transcription convention (e.g. using special tokens for disfluencies, speaker overlap, and/or text normalization).\n",
                "\n",
                "For our analysis here, we only score the \"local\" diarization sub-task of speaker segmentation (not the \"global\" task of clustering speakers across the entire meeting). We use the following metrics:\n",
                "- WER: word error rate as measured by `fstalign`\n",
                "- Speaker turn recall: the fraction of speaker changes that are correctly identified\n",
                "- Speaker turn precision: the fraction of predicted speaker changes that are correct\n",
                "\n",
                "Just like WER, speaker turn recall and precision are computed by aligning reference and hypothesis transcripts after inserting a special `speaker__turn` token, and then counting errors on the special tokens. We also parse the aligned ref/hyp transcripts for error analysis. *(see implementation in `score.py` for details)*"
            ]
        },
        {
            "attachments": {},
            "cell_type": "markdown",
            "metadata": {},
            "source": [
                "## Comparing results\n",
                "\n",
                "We now compile all the TSV files generated by `run_pipelines.py` into a single dataframe for analysis. "
            ]
        },
        {
            "cell_type": "code",
            "execution_count": 132,
            "metadata": {},
            "outputs": [
                {
                    "name": "stdout",
                    "output_type": "stream",
                    "text": [
                        "The autoreload extension is already loaded. To reload it, use:\n",
                        "  %reload_ext autoreload\n"
                    ]
                }
            ],
            "source": [
                "# some utility functions\n",
                "%load_ext autoreload\n",
                "%autoreload 2\n",
                "import sys\n",
                "sys.path.append(CODEDIR)\n",
                "from analysis_utils import compile_results, query_metric_results, plot_metric_results, inspect_errors"
            ]
        },
        {
            "cell_type": "markdown",
            "metadata": {},
            "source": [
                "The dataframe contains both WER and speaker turn metrics along with a detailed error breakdown e.g. (DEL/INS/SUB) for WER, false negatives (DEL/SUB) for speaker turn recall, and false positives (INS/SUB) for speaker turn precision. \n",
                "\n",
                "We also parse the fstalign `*.sbs` alignment output to get the exact errors made by the model. This is useful for debugging and understanding the model's behavior."
            ]
        },
        {
            "cell_type": "code",
            "execution_count": 119,
            "metadata": {},
            "outputs": [
                {
                    "name": "stdout",
                    "output_type": "stream",
                    "text": [
                        "Read 84 results from 21 files\n",
                        "Read 21 side-by-side analysis results\n"
                    ]
                },
                {
                    "data": {
                        "text/html": [
                            "<div>\n",
                            "<style scoped>\n",
                            "    .dataframe tbody tr th:only-of-type {\n",
                            "        vertical-align: middle;\n",
                            "    }\n",
                            "\n",
                            "    .dataframe tbody tr th {\n",
                            "        vertical-align: top;\n",
                            "    }\n",
                            "\n",
                            "    .dataframe thead th {\n",
                            "        text-align: right;\n",
                            "    }\n",
                            "</style>\n",
                            "<table border=\"1\" class=\"dataframe\">\n",
                            "  <thead>\n",
                            "    <tr style=\"text-align: right;\">\n",
                            "      <th></th>\n",
                            "      <th>metric</th>\n",
                            "      <th>value</th>\n",
                            "      <th>denominator</th>\n",
                            "      <th>numerator</th>\n",
                            "      <th>deletions</th>\n",
                            "      <th>insertions</th>\n",
                            "      <th>substitutions</th>\n",
                            "      <th>result_id</th>\n",
                            "      <th>model</th>\n",
                            "      <th>call_id</th>\n",
                            "      <th>method</th>\n",
                            "    </tr>\n",
                            "  </thead>\n",
                            "  <tbody>\n",
                            "    <tr>\n",
                            "      <th>0</th>\n",
                            "      <td>wer_overall</td>\n",
                            "      <td>7.498897</td>\n",
                            "      <td>9068</td>\n",
                            "      <td>680</td>\n",
                            "      <td>83</td>\n",
                            "      <td>228</td>\n",
                            "      <td>369</td>\n",
                            "      <td>small.en-ft_decoder-frz_bpe_time_2-hp2.pt__ear...</td>\n",
                            "      <td>small.en-ft</td>\n",
                            "      <td>4385939</td>\n",
                            "      <td>tdrz_token</td>\n",
                            "    </tr>\n",
                            "    <tr>\n",
                            "      <th>1</th>\n",
                            "      <td>wer_speaker_switch</td>\n",
                            "      <td>11.422846</td>\n",
                            "      <td>998</td>\n",
                            "      <td>114</td>\n",
                            "      <td>27</td>\n",
                            "      <td>31</td>\n",
                            "      <td>56</td>\n",
                            "      <td>small.en-ft_decoder-frz_bpe_time_2-hp2.pt__ear...</td>\n",
                            "      <td>small.en-ft</td>\n",
                            "      <td>4385939</td>\n",
                            "      <td>tdrz_token</td>\n",
                            "    </tr>\n",
                            "    <tr>\n",
                            "      <th>2</th>\n",
                            "      <td>spk_turn_precision</td>\n",
                            "      <td>98.958328</td>\n",
                            "      <td>96</td>\n",
                            "      <td>95</td>\n",
                            "      <td>0</td>\n",
                            "      <td>1</td>\n",
                            "      <td>0</td>\n",
                            "      <td>small.en-ft_decoder-frz_bpe_time_2-hp2.pt__ear...</td>\n",
                            "      <td>small.en-ft</td>\n",
                            "      <td>4385939</td>\n",
                            "      <td>tdrz_token</td>\n",
                            "    </tr>\n",
                            "    <tr>\n",
                            "      <th>3</th>\n",
                            "      <td>spk_turn_recall</td>\n",
                            "      <td>72.519081</td>\n",
                            "      <td>131</td>\n",
                            "      <td>95</td>\n",
                            "      <td>30</td>\n",
                            "      <td>0</td>\n",
                            "      <td>6</td>\n",
                            "      <td>small.en-ft_decoder-frz_bpe_time_2-hp2.pt__ear...</td>\n",
                            "      <td>small.en-ft</td>\n",
                            "      <td>4385939</td>\n",
                            "      <td>tdrz_token</td>\n",
                            "    </tr>\n",
                            "    <tr>\n",
                            "      <th>0</th>\n",
                            "      <td>wer_overall</td>\n",
                            "      <td>13.713123</td>\n",
                            "      <td>4915</td>\n",
                            "      <td>674</td>\n",
                            "      <td>360</td>\n",
                            "      <td>71</td>\n",
                            "      <td>243</td>\n",
                            "      <td>small.en__earnings21-4374910_drz_pre_sr__segment</td>\n",
                            "      <td>small.en</td>\n",
                            "      <td>4374910</td>\n",
                            "      <td>pyannote_pre_sr</td>\n",
                            "    </tr>\n",
                            "  </tbody>\n",
                            "</table>\n",
                            "</div>"
                        ],
                        "text/plain": [
                            "               metric      value  denominator  numerator  deletions  \\\n",
                            "0         wer_overall   7.498897         9068        680         83   \n",
                            "1  wer_speaker_switch  11.422846          998        114         27   \n",
                            "2  spk_turn_precision  98.958328           96         95          0   \n",
                            "3     spk_turn_recall  72.519081          131         95         30   \n",
                            "0         wer_overall  13.713123         4915        674        360   \n",
                            "\n",
                            "   insertions  substitutions  \\\n",
                            "0         228            369   \n",
                            "1          31             56   \n",
                            "2           1              0   \n",
                            "3           0              6   \n",
                            "0          71            243   \n",
                            "\n",
                            "                                           result_id        model  call_id  \\\n",
                            "0  small.en-ft_decoder-frz_bpe_time_2-hp2.pt__ear...  small.en-ft  4385939   \n",
                            "1  small.en-ft_decoder-frz_bpe_time_2-hp2.pt__ear...  small.en-ft  4385939   \n",
                            "2  small.en-ft_decoder-frz_bpe_time_2-hp2.pt__ear...  small.en-ft  4385939   \n",
                            "3  small.en-ft_decoder-frz_bpe_time_2-hp2.pt__ear...  small.en-ft  4385939   \n",
                            "0   small.en__earnings21-4374910_drz_pre_sr__segment     small.en  4374910   \n",
                            "\n",
                            "            method  \n",
                            "0       tdrz_token  \n",
                            "1       tdrz_token  \n",
                            "2       tdrz_token  \n",
                            "3       tdrz_token  \n",
                            "0  pyannote_pre_sr  "
                        ]
                    },
                    "execution_count": 119,
                    "metadata": {},
                    "output_type": "execute_result"
                }
            ],
            "source": [
                "results_df, analysis_results = compile_results(f\"{WORKDIR}/fstalign_scoring/results\")\n",
                "results_df.head()"
            ]
        },
        {
            "cell_type": "markdown",
            "metadata": {},
            "source": [
                "We compare speaker turn recall/precision for the following:\n",
                "- `punctuation`: Simple baseline that adds a speaker turn after every ending punctuation e.g. `.?!` created by whisper.transcribe. While precision will be low (not every punctuation is a speaker turn), the recall of this baseline helps us get a sense for how well the model is already implicitly marking speaker turns. The semantic context of a conversation is a strong signal for punctuations, so we'd expect it to help with speaker turns too.\n",
                "\n",
                "- `pyannote_pre_sr`: Runs full pyannote diarization pipeline, and then whisper.transcribe on segments created by the pipeline, retaining the speakers assigned to each segment. This is a strong baseline with dedicated models running in a 2-stage process (segmentation + clustering). By looking through its errors, we can get a sense for what approaches of this kind (that run indepedently before ASR) are missing.\n",
                "\n",
                "- `segment_timestamped`: Simple baseline that adds a speaker turn after every segment marked between whisper.transcribe timestamps (e.g. 00:27.080 --> 00:32.720 \"this is a segment\"). Similar to `punctuation`, the recall of this simple baseline helps get a sense for how well certain heuristics can do.\n",
                "\n",
                "- `tdrz_token`: tinyDiarize model with a new `speaker_turn` token in the vocabulary that was finetuned on ~100hrs from the AMI meetings dataset prepared into long-form 30s chunks (see [tinydiarize/README.md](https://github.com/akashmjn/tinyDiarize/tree/main/tinydiarize) for details). These are decoded with the rest of tokens in whisper.transcribe. As we've created an explicit token for speaker turns, we'd expect this to have a much better precision than the `punctuation` baseline, with its recall as an upper bound. \n",
                "\n",
                "Note that our goal here is not necessarily to beat state of the art. Via this proof-of-concept, we aim to check the potential of an approach with a much simpler and efficient design. `tdrz_token` has essentially no extra cost at inference time *(overhead from decoding extra tokens is tiny)* and is easy to implement."
            ]
        },
        {
            "cell_type": "code",
            "execution_count": 84,
            "metadata": {},
            "outputs": [
                {
                    "data": {
                        "image/png": "[encoded data removed]",
                        "text/plain": [
                            "<Figure size 1000x400 with 2 Axes>"
                        ]
                    },
                    "metadata": {},
                    "output_type": "display_data"
                }
            ],
            "source": [
                "# comparing results for pyannote_pre_sr, time_segment, punctuation, token\n",
                "subset_df = results_df.query('~(model==\"small.en-ft\" and method != \"tdrz_token\")')\n",
                "subset_df = subset_df.query('method in [\"punctuation\", \"pyannote_pre_sr\", \"segment_timestamped\", \"tdrz_token\"]')\n",
                "fig, axes = plt.subplots(1, 2, figsize=(10, 4), sharey=True)\n",
                "d1 = query_metric_results(subset_df, \"spk_turn_recall\", groups=[\"call_id\", \"method\"])\n",
                "plot_metric_results(d1, title=\"Speaker Turn Recall\", ax=axes[0], legend=False)\n",
                "d2 = query_metric_results(subset_df, \"spk_turn_precision\", groups=[\"call_id\", \"method\"])\n",
                "plot_metric_results(d2, title=\"Speaker Turn Precision\", ax=axes[1])"
            ]
        },
        {
            "cell_type": "markdown",
            "metadata": {},
            "source": [
                "We can make the following observations:\n",
                "1. In terms of recall, the simple `punctuation` baseline does very well. This validates our hypothesis that the model already has a good implicit representation of speaker turns.\n",
                "2. The `pyannote_pre_sr` pipeline has good overall performance, although it actually has a bit lower recall than the simple `punctuation` baseline. As we'll see in the next section this is primarily due to handling of short segments.\n",
                "3. The `segment_timestamped` baseline is somewhat erratic. It either matches `punctuation` or has a big gap on `*910`. The quality of whisper timestamps is known to be a bit erratic, so this is not surprising.\n",
                "4. The `tdrz_token` approach consistently gets near-perfect precision on all meetings, with a fairly decent recall. Given that we used a very simple & cheap finetuning setup, strong performance here indicates that we are indeed isolating representations that were implicitly present in the `punctuation` baseline.\n",
                "\n",
                "Much like punctuations, as speaker turns have both acoustic and semantic cues, Whisper has a strong prior to do well at this task. In the next section, by manually inspecting errors, we'll see that this is also an advantage over conventional pre_pr diarization pipelines that only have access to acoustic cues."
            ]
        },
        {
            "cell_type": "markdown",
            "metadata": {},
            "source": [
                "## Error inspection\n",
                "\n",
                "We now manually look through some examples to build intuition about what's going on and where bottlenecks lie. Our choice of transcript-based metrics (speaker turn precision/recall) allows us to do this in a very interpretable way.\n",
                "\n",
                "TODO@Akash - clearly write down what we learned from this (LM & semantics, short segments, punctuation as a strong prior, etc.)"
            ]
        },
        {
            "cell_type": "code",
            "execution_count": null,
            "metadata": {},
            "outputs": [],
            "source": [
                "# listen to an example file\n",
                "call_id = \"4385939\"\n",
                "ipd.Audio(f'{WORKDIR}/audio/earnings21-{call_id}.mp3')"
            ]
        },
        {
            "cell_type": "markdown",
            "metadata": {},
            "source": [
                "### Recall errors\n",
                "\n",
                "|Recall error type|pyannote_pre_sr|punctuation|tdrz_token|\n",
                "|:----|:----|:----|:----|\n",
                "|# false negatives (out of 131)|22|5|36|\n",
                "|invalid|2|2|2|\n",
                "|ASR deletion|7|3|11|\n",
                "|short backchannel|13|0|10|\n",
                "|other missed|0|0|13|"
            ]
        },
        {
            "cell_type": "markdown",
            "metadata": {},
            "source": [
                "#### pyannote_pre_sr\n",
                "\n",
                "Errors from the pyannote pipeline tend to be around short, few-word segments. From looking through examples, these are mostly backchannel responses that can occasionally involve partially overlapped speech. The errors are of two kinds - \n",
                "\n",
                "[TODO@Akash very wordy, can we simplify?]\n",
                "- ASR errors: Whisper tends to skip over words, which may be exacerbated by transcribing chopped-up segments from the output of pyannote (some recent implementations run whisper as-is on long audio and use heuristics on timestamps to reconcile diarization results. However this too can get gnarly as it has to handle overlaps, missed words and other edge cases). \n",
                "\n",
                "- Pyannote under-segmentation errors: Due to design limitations discussed in the blog post, conventional pipelines have to trade-off temporal resolution with accuracy. This is clearly reflected in the errors we see below, where short segments were likely merged into longer ones either during segmentation or clustering."
            ]
        },
        {
            "cell_type": "code",
            "execution_count": 158,
            "metadata": {},
            "outputs": [
                {
                    "name": "stdout",
                    "output_type": "stream",
                    "text": [
                        "Results for: ('small.en', '4385939', 'pyannote_pre_sr')\n"
                    ]
                },
                {
                    "data": {
                        "text/html": [
                            "<div>\n",
                            "<style scoped>\n",
                            "    .dataframe tbody tr th:only-of-type {\n",
                            "        vertical-align: middle;\n",
                            "    }\n",
                            "\n",
                            "    .dataframe tbody tr th {\n",
                            "        vertical-align: top;\n",
                            "    }\n",
                            "\n",
                            "    .dataframe thead th {\n",
                            "        text-align: right;\n",
                            "    }\n",
                            "</style>\n",
                            "<table border=\"1\" class=\"dataframe\">\n",
                            "  <thead>\n",
                            "    <tr style=\"text-align: right;\">\n",
                            "      <th></th>\n",
                            "      <th>metric</th>\n",
                            "      <th>value</th>\n",
                            "      <th>denominator</th>\n",
                            "      <th>numerator</th>\n",
                            "      <th>deletions</th>\n",
                            "      <th>insertions</th>\n",
                            "      <th>substitutions</th>\n",
                            "    </tr>\n",
                            "  </thead>\n",
                            "  <tbody>\n",
                            "    <tr>\n",
                            "      <th>0</th>\n",
                            "      <td>wer_overall</td>\n",
                            "      <td>14.317279</td>\n",
                            "      <td>9052</td>\n",
                            "      <td>1296</td>\n",
                            "      <td>606</td>\n",
                            "      <td>174</td>\n",
                            "      <td>516</td>\n",
                            "    </tr>\n",
                            "    <tr>\n",
                            "      <th>1</th>\n",
                            "      <td>wer_speaker_switch</td>\n",
                            "      <td>24.849699</td>\n",
                            "      <td>998</td>\n",
                            "      <td>248</td>\n",
                            "      <td>69</td>\n",
                            "      <td>63</td>\n",
                            "      <td>116</td>\n",
                            "    </tr>\n",
                            "    <tr>\n",
                            "      <th>2</th>\n",
                            "      <td>spk_turn_precision</td>\n",
                            "      <td>83.846153</td>\n",
                            "      <td>130</td>\n",
                            "      <td>109</td>\n",
                            "      <td>0</td>\n",
                            "      <td>18</td>\n",
                            "      <td>3</td>\n",
                            "    </tr>\n",
                            "    <tr>\n",
                            "      <th>3</th>\n",
                            "      <td>spk_turn_recall</td>\n",
                            "      <td>83.206108</td>\n",
                            "      <td>131</td>\n",
                            "      <td>109</td>\n",
                            "      <td>16</td>\n",
                            "      <td>0</td>\n",
                            "      <td>6</td>\n",
                            "    </tr>\n",
                            "  </tbody>\n",
                            "</table>\n",
                            "</div>"
                        ],
                        "text/plain": [
                            "               metric      value  denominator  numerator  deletions  \\\n",
                            "0         wer_overall  14.317279         9052       1296        606   \n",
                            "1  wer_speaker_switch  24.849699          998        248         69   \n",
                            "2  spk_turn_precision  83.846153          130        109          0   \n",
                            "3     spk_turn_recall  83.206108          131        109         16   \n",
                            "\n",
                            "   insertions  substitutions  \n",
                            "0         174            516  \n",
                            "1          63            116  \n",
                            "2          18              3  \n",
                            "3           0              6  "
                        ]
                    },
                    "metadata": {},
                    "output_type": "display_data"
                },
                {
                    "name": "stdout",
                    "output_type": "stream",
                    "text": [
                        "Precision errors: 21\n",
                        "Recall errors: 22\n",
                        "\n",
                        " ---------- Recall errors: ----------\n",
                        "\n",
                        "Line: 7387, Index: 17\n",
                        "       speaker__turn\tspeaker__turn       \t\t\t\n",
                        "                good\tgood                \t\t\t\n",
                        "             morning\tmorning             \t\t\t\n",
                        "              thanks\tthanks              \t\t\t\n",
                        "                 for\tfor                 \t\t\t\n",
                        "                 the\tthe                 \t\t\t\n",
                        "            question\tquestion            \t\t\t\n",
                        "       speaker__turn\t<del>               \tERR\t\t\n",
                        "                good\t<del>               \tERR\t\t\n",
                        "             morning\t<del>               \tERR\t\t\n",
                        "       speaker__turn\tso                  \tERR\t___100_SPEAKER_TURN___\t###100_###|\n",
                        "                good\twhere               \tERR\t\t\n",
                        "             morning\tare                 \tERR\t\t\n",
                        "       speaker__turn\tyou                 \tERR\t\t\n",
                        "                  um\tgoing               \tERR\t\t\n",
                        "             michele\tmichelle            \tERR\t\t\n",
                        "                   i\ti                   \t\t\t\n",
                        "                like\tlike                \t\t\t\n",
                        "                  to\tto                  \t\t\t\n",
                        "              follow\tfollow              \t\t\t\n",
                        "                  up\tup                  \t\t\t\n",
                        "\n",
                        "Line: 7390, Index: 18\n",
                        "              thanks\tthanks              \t\t\t\n",
                        "                 for\tfor                 \t\t\t\n",
                        "                 the\tthe                 \t\t\t\n",
                        "            question\tquestion            \t\t\t\n",
                        "       speaker__turn\t<del>               \tERR\t\t\n",
                        "                good\t<del>               \tERR\t\t\n",
                        "             morning\t<del>               \tERR\t\t\n",
                        "       speaker__turn\tso                  \tERR\t\t\n",
                        "                good\twhere               \tERR\t\t\n",
                        "             morning\tare                 \tERR\t\t\n",
                        "       speaker__turn\tyou                 \tERR\t___101_SPEAKER_TURN___\t###101_###|\n",
                        "                  um\tgoing               \tERR\t\t\n",
                        "             michele\tmichelle            \tERR\t\t\n",
                        "                   i\ti                   \t\t\t\n",
                        "                like\tlike                \t\t\t\n",
                        "                  to\tto                  \t\t\t\n",
                        "              follow\tfollow              \t\t\t\n",
                        "                  up\tup                  \t\t\t\n",
                        "                  on\ton                  \t\t\t\n",
                        "                 the\tthe                 \t\t\t\n",
                        "             reese's\tthe                 \tERR\t\t\n"
                    ]
                }
            ],
            "source": [
                "# notes on errors:\n",
                "# 0,7,8,10,11,12,16 - DEL\n",
                "# 1,2,3,6,9,13,14,15,19,20,21,17,18 - miss short backchannel, 17/18 involve ASR errors\n",
                "# 4,5 - invalid inaudible\n",
                "inspect_errors(results_df, analysis_results, (\"small.en\", call_id, \"pyannote_pre_sr\"), recall_errors=[17,18])"
            ]
        },
        {
            "cell_type": "markdown",
            "metadata": {},
            "source": [
                "Manually reading through the transcripts, even without listening to the audio, we can clearly identify these short segments as speaker turns. \n",
                "\n",
                "Semantic context is particularly important for short segments like these, where conventional pre_sr pipelines like pyannote introduce errors due to lack of context (only available during/after ASR)."
            ]
        },
        {
            "cell_type": "markdown",
            "metadata": {},
            "source": [
                "#### punctuation\n",
                "\n",
                "Meanwhile, the punctuation baseline did not miss these short segments. From inspection below we see that all the remaining errors are actually ASR errors, where whisper skipped over some backchannel words. \n",
                "\n",
                "This means that (for the words actually recognized) Whisper almost always correctly demarcates different speakers by placing punctuations at the right place."
            ]
        },
        {
            "cell_type": "code",
            "execution_count": 144,
            "metadata": {},
            "outputs": [
                {
                    "name": "stdout",
                    "output_type": "stream",
                    "text": [
                        "Results for: ('small.en', '4385939', 'punctuation')\n"
                    ]
                },
                {
                    "data": {
                        "text/html": [
                            "<div>\n",
                            "<style scoped>\n",
                            "    .dataframe tbody tr th:only-of-type {\n",
                            "        vertical-align: middle;\n",
                            "    }\n",
                            "\n",
                            "    .dataframe tbody tr th {\n",
                            "        vertical-align: top;\n",
                            "    }\n",
                            "\n",
                            "    .dataframe thead th {\n",
                            "        text-align: right;\n",
                            "    }\n",
                            "</style>\n",
                            "<table border=\"1\" class=\"dataframe\">\n",
                            "  <thead>\n",
                            "    <tr style=\"text-align: right;\">\n",
                            "      <th></th>\n",
                            "      <th>metric</th>\n",
                            "      <th>value</th>\n",
                            "      <th>denominator</th>\n",
                            "      <th>numerator</th>\n",
                            "      <th>deletions</th>\n",
                            "      <th>insertions</th>\n",
                            "      <th>substitutions</th>\n",
                            "    </tr>\n",
                            "  </thead>\n",
                            "  <tbody>\n",
                            "    <tr>\n",
                            "      <th>0</th>\n",
                            "      <td>wer_overall</td>\n",
                            "      <td>10.183142</td>\n",
                            "      <td>9064</td>\n",
                            "      <td>923</td>\n",
                            "      <td>601</td>\n",
                            "      <td>84</td>\n",
                            "      <td>238</td>\n",
                            "    </tr>\n",
                            "    <tr>\n",
                            "      <th>1</th>\n",
                            "      <td>wer_speaker_switch</td>\n",
                            "      <td>12.925851</td>\n",
                            "      <td>998</td>\n",
                            "      <td>129</td>\n",
                            "      <td>76</td>\n",
                            "      <td>17</td>\n",
                            "      <td>36</td>\n",
                            "    </tr>\n",
                            "    <tr>\n",
                            "      <th>2</th>\n",
                            "      <td>spk_turn_precision</td>\n",
                            "      <td>24.324326</td>\n",
                            "      <td>518</td>\n",
                            "      <td>126</td>\n",
                            "      <td>0</td>\n",
                            "      <td>271</td>\n",
                            "      <td>121</td>\n",
                            "    </tr>\n",
                            "    <tr>\n",
                            "      <th>3</th>\n",
                            "      <td>spk_turn_recall</td>\n",
                            "      <td>96.183205</td>\n",
                            "      <td>131</td>\n",
                            "      <td>126</td>\n",
                            "      <td>4</td>\n",
                            "      <td>0</td>\n",
                            "      <td>1</td>\n",
                            "    </tr>\n",
                            "  </tbody>\n",
                            "</table>\n",
                            "</div>"
                        ],
                        "text/plain": [
                            "               metric      value  denominator  numerator  deletions  \\\n",
                            "0         wer_overall  10.183142         9064        923        601   \n",
                            "1  wer_speaker_switch  12.925851          998        129         76   \n",
                            "2  spk_turn_precision  24.324326          518        126          0   \n",
                            "3     spk_turn_recall  96.183205          131        126          4   \n",
                            "\n",
                            "   insertions  substitutions  \n",
                            "0          84            238  \n",
                            "1          17             36  \n",
                            "2         271            121  \n",
                            "3           0              1  "
                        ]
                    },
                    "metadata": {},
                    "output_type": "display_data"
                },
                {
                    "name": "stdout",
                    "output_type": "stream",
                    "text": [
                        "Precision errors: 392\n",
                        "Recall errors: 5\n",
                        "\n",
                        " ---------- Recall errors: ----------\n",
                        "\n",
                        "Line: 3995, Index: 1\n",
                        "                very\t<del>               \tERR\t\t\n",
                        "                much\t<del>               \tERR\t\t\n",
                        "       speaker__turn\tspeaker__turn       \t\t\t\n",
                        "                 and\tand                 \t\t\t\n",
                        "               jason\tjason               \t\t\t\n",
                        "                it's\t<del>               \tERR\t\t\n",
                        "             melissa\t<del>               \tERR\t\t\n",
                        "                 one\tone                 \t\t\t\n",
                        "               other\tother               \t\t\t\n",
                        "               thing\tthing               \t\t\t\n",
                        "       speaker__turn\t<del>               \tERR\t___50_SPEAKER_TURN___\t###50_###|\n",
                        "                sure\t<del>               \tERR\t\t\n",
                        "       speaker__turn\t<del>               \tERR\t\t\n",
                        "                  to\tto                  \t\t\t\n",
                        "                just\tjust                \t\t\t\n",
                        "                keep\tkeep                \t\t\t\n",
                        "                  in\tin                  \t\t\t\n",
                        "                mind\tmind                \t\t\t\n",
                        "               <ins>\tspeaker__turn       \tERR\t\t\n",
                        "               there\tthere               \t\t\t\n",
                        "                  is\tis                  \t\t\t\n",
                        "\n",
                        "Line: 3997, Index: 2\n",
                        "       speaker__turn\tspeaker__turn       \t\t\t\n",
                        "                 and\tand                 \t\t\t\n",
                        "               jason\tjason               \t\t\t\n",
                        "                it's\t<del>               \tERR\t\t\n",
                        "             melissa\t<del>               \tERR\t\t\n",
                        "                 one\tone                 \t\t\t\n",
                        "               other\tother               \t\t\t\n",
                        "               thing\tthing               \t\t\t\n",
                        "       speaker__turn\t<del>               \tERR\t\t\n",
                        "                sure\t<del>               \tERR\t\t\n",
                        "       speaker__turn\t<del>               \tERR\t___51_SPEAKER_TURN___\t###51_###|\n",
                        "                  to\tto                  \t\t\t\n",
                        "                just\tjust                \t\t\t\n",
                        "                keep\tkeep                \t\t\t\n",
                        "                  in\tin                  \t\t\t\n",
                        "                mind\tmind                \t\t\t\n",
                        "               <ins>\tspeaker__turn       \tERR\t\t\n",
                        "               there\tthere               \t\t\t\n",
                        "                  is\tis                  \t\t\t\n",
                        "                   a\ta                   \t\t\t\n",
                        "              little\tlittle              \t\t\t\n"
                    ]
                }
            ],
            "source": [
                "# notes on recall errors:\n",
                "# 0,4 - invalid nonverbal\n",
                "# 1,2,3 - DEL\n",
                "inspect_errors(results_df, analysis_results, (\"small.en\", call_id, \"punctuation\"), recall_errors=[1,2])"
            ]
        },
        {
            "cell_type": "markdown",
            "metadata": {},
            "source": [
                "#### tdrz_token\n",
                "\n",
                "TODO@Akash - add analysis"
            ]
        },
        {
            "cell_type": "code",
            "execution_count": 161,
            "metadata": {},
            "outputs": [
                {
                    "name": "stdout",
                    "output_type": "stream",
                    "text": [
                        "Results for: ('small.en-ft', '4385939', 'tdrz_token')\n"
                    ]
                },
                {
                    "data": {
                        "text/html": [
                            "<div>\n",
                            "<style scoped>\n",
                            "    .dataframe tbody tr th:only-of-type {\n",
                            "        vertical-align: middle;\n",
                            "    }\n",
                            "\n",
                            "    .dataframe tbody tr th {\n",
                            "        vertical-align: top;\n",
                            "    }\n",
                            "\n",
                            "    .dataframe thead th {\n",
                            "        text-align: right;\n",
                            "    }\n",
                            "</style>\n",
                            "<table border=\"1\" class=\"dataframe\">\n",
                            "  <thead>\n",
                            "    <tr style=\"text-align: right;\">\n",
                            "      <th></th>\n",
                            "      <th>metric</th>\n",
                            "      <th>value</th>\n",
                            "      <th>denominator</th>\n",
                            "      <th>numerator</th>\n",
                            "      <th>deletions</th>\n",
                            "      <th>insertions</th>\n",
                            "      <th>substitutions</th>\n",
                            "    </tr>\n",
                            "  </thead>\n",
                            "  <tbody>\n",
                            "    <tr>\n",
                            "      <th>0</th>\n",
                            "      <td>wer_overall</td>\n",
                            "      <td>7.498897</td>\n",
                            "      <td>9068</td>\n",
                            "      <td>680</td>\n",
                            "      <td>83</td>\n",
                            "      <td>228</td>\n",
                            "      <td>369</td>\n",
                            "    </tr>\n",
                            "    <tr>\n",
                            "      <th>1</th>\n",
                            "      <td>wer_speaker_switch</td>\n",
                            "      <td>11.422846</td>\n",
                            "      <td>998</td>\n",
                            "      <td>114</td>\n",
                            "      <td>27</td>\n",
                            "      <td>31</td>\n",
                            "      <td>56</td>\n",
                            "    </tr>\n",
                            "    <tr>\n",
                            "      <th>2</th>\n",
                            "      <td>spk_turn_precision</td>\n",
                            "      <td>98.958328</td>\n",
                            "      <td>96</td>\n",
                            "      <td>95</td>\n",
                            "      <td>0</td>\n",
                            "      <td>1</td>\n",
                            "      <td>0</td>\n",
                            "    </tr>\n",
                            "    <tr>\n",
                            "      <th>3</th>\n",
                            "      <td>spk_turn_recall</td>\n",
                            "      <td>72.519081</td>\n",
                            "      <td>131</td>\n",
                            "      <td>95</td>\n",
                            "      <td>30</td>\n",
                            "      <td>0</td>\n",
                            "      <td>6</td>\n",
                            "    </tr>\n",
                            "  </tbody>\n",
                            "</table>\n",
                            "</div>"
                        ],
                        "text/plain": [
                            "               metric      value  denominator  numerator  deletions  \\\n",
                            "0         wer_overall   7.498897         9068        680         83   \n",
                            "1  wer_speaker_switch  11.422846          998        114         27   \n",
                            "2  spk_turn_precision  98.958328           96         95          0   \n",
                            "3     spk_turn_recall  72.519081          131         95         30   \n",
                            "\n",
                            "   insertions  substitutions  \n",
                            "0         228            369  \n",
                            "1          31             56  \n",
                            "2           1              0  \n",
                            "3           0              6  "
                        ]
                    },
                    "metadata": {},
                    "output_type": "display_data"
                },
                {
                    "name": "stdout",
                    "output_type": "stream",
                    "text": [
                        "Precision errors: 1\n",
                        "Recall errors: 36\n",
                        "\n",
                        " ---------- Recall errors: ----------\n",
                        "\n",
                        "Line: 3240, Index: 6\n",
                        "               could\tcould               \t\t\t\n",
                        "                also\talso                \t\t\t\n",
                        "                 you\tyou                 \t\t\t\n",
                        "                know\tknow                \t\t\t\n",
                        "           gravitate\tgravitate           \t\t\t\n",
                        "                  to\tto                  \t\t\t\n",
                        "                 the\tthe                 \t\t\t\n",
                        "             holiday\tholiday             \t\t\t\n",
                        "              pretty\tpretty              \t\t\t\n",
                        "             quickly\tquickly             \t\t\t\n",
                        "       speaker__turn\t<del>               \tERR\t___37_SPEAKER_TURN___\t###37_###|\n",
                        "         <inaudible>\t<del>               \tERR\t\t\n",
                        "       speaker__turn\t<del>               \tERR\t\t\n",
                        "                   a\ta                   \t\t\t\n",
                        "              strong\tstrong              \t\t\t\n",
                        "           halloween\thalloween           \t\t\t\n",
                        "               <ins>\tsell                \tERR\t\t\n",
                        "               <ins>\tthrough             \tERR\t\t\n",
                        "               <ins>\tyeah                \tERR\t\t\n",
                        "               <ins>\tyeah                \tERR\t\t\n",
                        "                 yes\ta                   \tERR\t\t\n",
                        "\n",
                        "Line: 3242, Index: 7\n",
                        "                 you\tyou                 \t\t\t\n",
                        "                know\tknow                \t\t\t\n",
                        "           gravitate\tgravitate           \t\t\t\n",
                        "                  to\tto                  \t\t\t\n",
                        "                 the\tthe                 \t\t\t\n",
                        "             holiday\tholiday             \t\t\t\n",
                        "              pretty\tpretty              \t\t\t\n",
                        "             quickly\tquickly             \t\t\t\n",
                        "       speaker__turn\t<del>               \tERR\t\t\n",
                        "         <inaudible>\t<del>               \tERR\t\t\n",
                        "       speaker__turn\t<del>               \tERR\t___38_SPEAKER_TURN___\t###38_###|\n",
                        "                   a\ta                   \t\t\t\n",
                        "              strong\tstrong              \t\t\t\n",
                        "           halloween\thalloween           \t\t\t\n",
                        "               <ins>\tsell                \tERR\t\t\n",
                        "               <ins>\tthrough             \tERR\t\t\n",
                        "               <ins>\tyeah                \tERR\t\t\n",
                        "               <ins>\tyeah                \tERR\t\t\n",
                        "                 yes\ta                   \tERR\t\t\n",
                        "              strong\tstrong              \t\t\t\n",
                        "           halloween\thalloween           \t\t\t\n",
                        "\n",
                        "Line: 8385, Index: 27\n",
                        "                very\tvery                \t\t\t\n",
                        "                much\tmuch                \t\t\t\n",
                        "                 and\tand                 \t\t\t\n",
                        "                 and\t<del>               \tERR\t\t\n",
                        "              thanks\tthanks              \t\t\t\n",
                        "                 for\tfor                 \t\t\t\n",
                        "                   a\ta                   \t\t\t\n",
                        "               great\tgreat               \t\t\t\n",
                        "           halloween\thalloween           \t\t\t\n",
                        "                  um\tum                  \t\t\t\n",
                        "       speaker__turn\t<del>               \tERR\t___116_SPEAKER_TURN___\t###116_###|\n",
                        "         <inaudible>\t<del>               \tERR\t\t\n",
                        "       speaker__turn\tpersonally          \tERR\t\t\n",
                        "          personally\tpersonally          \t\t\t\n",
                        "                 and\tand                 \t\t\t\n",
                        "      professionally\tprofessionally      \t\t\t\n",
                        "               <ins>\tthe                 \tERR\t\t\n",
                        "                 you\tyou                 \t\t\t\n",
                        "                know\tknow                \t\t\t\n",
                        "                 the\tthe                 \t\t\t\n",
                        "             leanest\tvenus               \tERR\t\t\n",
                        "\n",
                        "Line: 8387, Index: 28\n",
                        "                 and\tand                 \t\t\t\n",
                        "                 and\t<del>               \tERR\t\t\n",
                        "              thanks\tthanks              \t\t\t\n",
                        "                 for\tfor                 \t\t\t\n",
                        "                   a\ta                   \t\t\t\n",
                        "               great\tgreat               \t\t\t\n",
                        "           halloween\thalloween           \t\t\t\n",
                        "                  um\tum                  \t\t\t\n",
                        "       speaker__turn\t<del>               \tERR\t\t\n",
                        "         <inaudible>\t<del>               \tERR\t\t\n",
                        "       speaker__turn\tpersonally          \tERR\t___117_SPEAKER_TURN___\t###117_###|\n",
                        "          personally\tpersonally          \t\t\t\n",
                        "                 and\tand                 \t\t\t\n",
                        "      professionally\tprofessionally      \t\t\t\n",
                        "               <ins>\tthe                 \tERR\t\t\n",
                        "                 you\tyou                 \t\t\t\n",
                        "                know\tknow                \t\t\t\n",
                        "                 the\tthe                 \t\t\t\n",
                        "             leanest\tvenus               \tERR\t\t\n",
                        "                  of\tof                  \t\t\t\n",
                        "                  my\tmy                  \t\t\t\n"
                    ]
                }
            ],
            "source": [
                "# notes on recall errors:\n",
                "# 0,1,14,18,21,25,26,30,31,34,35 - miss\n",
                "# 5,7,15,16,17,19,20,24,28,29,32,33 - miss short backchannel\n",
                "# 2,3,4,8,9,10,11,12,13,22,23 - DEL\n",
                "# 6,27 - invalid nonverbal\n",
                "# inspect_errors(results_df, analysis_results, (\"small.en-ft\", call_id, \"tdrz_token\"), recall_errors=[0,30])\n",
                "inspect_errors(results_df, analysis_results, (\"small.en-ft\", call_id, \"tdrz_token\"), recall_errors=[6,7,27,28])"
            ]
        },
        {
            "cell_type": "markdown",
            "metadata": {},
            "source": [
                "### Precision errors\n",
                "\n",
                "Here too we see errors involving oversegmentation of short segments. Those mostly comprise of falsely creating extra segments that are either duplicated or overlapped with the main content, with a small over-segmenting/splitting an existing segment.\n",
                "\n",
                "|Precision error type|pyannote_pre_sr|tdrz_token|\n",
                "|:----|:----|:----|\n",
                "|# predictions|130|96|\n",
                "|# false positives|21|1|\n",
                "|short extra segment|17|1|\n",
                "|other extra segment|3|-|\n",
                "|over segment|1|-|"
            ]
        },
        {
            "cell_type": "code",
            "execution_count": 169,
            "metadata": {
                "tags": []
            },
            "outputs": [
                {
                    "name": "stdout",
                    "output_type": "stream",
                    "text": [
                        "Results for: ('small.en', '4385939', 'pyannote_pre_sr')\n"
                    ]
                },
                {
                    "data": {
                        "text/html": [
                            "<div>\n",
                            "<style scoped>\n",
                            "    .dataframe tbody tr th:only-of-type {\n",
                            "        vertical-align: middle;\n",
                            "    }\n",
                            "\n",
                            "    .dataframe tbody tr th {\n",
                            "        vertical-align: top;\n",
                            "    }\n",
                            "\n",
                            "    .dataframe thead th {\n",
                            "        text-align: right;\n",
                            "    }\n",
                            "</style>\n",
                            "<table border=\"1\" class=\"dataframe\">\n",
                            "  <thead>\n",
                            "    <tr style=\"text-align: right;\">\n",
                            "      <th></th>\n",
                            "      <th>metric</th>\n",
                            "      <th>value</th>\n",
                            "      <th>denominator</th>\n",
                            "      <th>numerator</th>\n",
                            "      <th>deletions</th>\n",
                            "      <th>insertions</th>\n",
                            "      <th>substitutions</th>\n",
                            "    </tr>\n",
                            "  </thead>\n",
                            "  <tbody>\n",
                            "    <tr>\n",
                            "      <th>0</th>\n",
                            "      <td>wer_overall</td>\n",
                            "      <td>14.317279</td>\n",
                            "      <td>9052</td>\n",
                            "      <td>1296</td>\n",
                            "      <td>606</td>\n",
                            "      <td>174</td>\n",
                            "      <td>516</td>\n",
                            "    </tr>\n",
                            "    <tr>\n",
                            "      <th>1</th>\n",
                            "      <td>wer_speaker_switch</td>\n",
                            "      <td>24.849699</td>\n",
                            "      <td>998</td>\n",
                            "      <td>248</td>\n",
                            "      <td>69</td>\n",
                            "      <td>63</td>\n",
                            "      <td>116</td>\n",
                            "    </tr>\n",
                            "    <tr>\n",
                            "      <th>2</th>\n",
                            "      <td>spk_turn_precision</td>\n",
                            "      <td>83.846153</td>\n",
                            "      <td>130</td>\n",
                            "      <td>109</td>\n",
                            "      <td>0</td>\n",
                            "      <td>18</td>\n",
                            "      <td>3</td>\n",
                            "    </tr>\n",
                            "    <tr>\n",
                            "      <th>3</th>\n",
                            "      <td>spk_turn_recall</td>\n",
                            "      <td>83.206108</td>\n",
                            "      <td>131</td>\n",
                            "      <td>109</td>\n",
                            "      <td>16</td>\n",
                            "      <td>0</td>\n",
                            "      <td>6</td>\n",
                            "    </tr>\n",
                            "  </tbody>\n",
                            "</table>\n",
                            "</div>"
                        ],
                        "text/plain": [
                            "               metric      value  denominator  numerator  deletions  \\\n",
                            "0         wer_overall  14.317279         9052       1296        606   \n",
                            "1  wer_speaker_switch  24.849699          998        248         69   \n",
                            "2  spk_turn_precision  83.846153          130        109          0   \n",
                            "3     spk_turn_recall  83.206108          131        109         16   \n",
                            "\n",
                            "   insertions  substitutions  \n",
                            "0         174            516  \n",
                            "1          63            116  \n",
                            "2          18              3  \n",
                            "3           0              6  "
                        ]
                    },
                    "metadata": {},
                    "output_type": "display_data"
                },
                {
                    "name": "stdout",
                    "output_type": "stream",
                    "text": [
                        "Precision errors: 21\n",
                        "Recall errors: 22\n",
                        "\n",
                        " ---------- Precision errors: ----------\n",
                        "\n",
                        "Line: 3330, Index: 2\n",
                        "               going\tgoing               \t\t\t\n",
                        "             forward\tforward             \t\t\t\n",
                        "               <ins>\tspeaker__turn       \tERR\t\t\n",
                        "               <ins>\tleave               \tERR\t\t\n",
                        "                  um\tthat                \tERR\t\t\n",
                        "                 the\tthe                 \t\t\t\n",
                        "               <ins>\tventilator          \tERR\t\t\n",
                        "               <ins>\tat                  \tERR\t\t\n",
                        "               <ins>\tany                 \tERR\t\t\n",
                        "               <ins>\tpoint..             \tERR\t\t\n",
                        "               <ins>\tspeaker__turn       \tERR\t\t\n",
                        "               <ins>\tthe                 \tERR\t\t\n",
                        "           halloween\thalloween           \t\t\t\n",
                        "               early\tearly               \t\t\t\n",
                        "                part\theart               \tERR\t\t\n",
                        "             selling\tcellin              \tERR\t\t\n",
                        "                 was\twas                 \t\t\t\n",
                        "               <ins>\tphenomenal          \tERR\t\t\n",
                        "        phenomenally\tit's                \tERR\t\t\n",
                        "            stronger\tprobably            \tERR\t\t\n",
                        "                much\tmuch                \t\t\t\n",
                        "\n",
                        "Line: 4164, Index: 6\n",
                        "                   i\ti                   \t\t\t\n",
                        "               think\tthink               \t\t\t\n",
                        "                  in\tin                  \t\t\t\n",
                        "                your\tyour                \t\t\t\n",
                        "            prepared\tprepared            \t\t\t\n",
                        "            comments\tcomments            \t\t\t\n",
                        "               <ins>\tspeaker__turn       \tERR\t\t\n",
                        "               <ins>\tsee                 \tERR\t\t\n",
                        "                 you\tyou                 \t\t\t\n",
                        "               <ins>\tguys                \tERR\t\t\n",
                        "               <ins>\tspeaker__turn       \tERR\t\t\n",
                        "               <ins>\the                  \tERR\t\t\n",
                        "                said\tsaid                \t\t\t\n",
                        "               north\tnorth               \t\t\t\n",
                        "            american\tamerican            \t\t\t\n",
                        "             organic\torganic             \t\t\t\n",
                        "              growth\tgrowth              \t\t\t\n",
                        "             similar\tsimilar             \t\t\t\n",
                        "                  to\tto                  \t\t\t\n",
                        "               third\tthird               \t\t\t\n",
                        "             quarter\tquarter             \t\t\t\n"
                    ]
                }
            ],
            "source": [
                "# notes on precision errors:\n",
                "# 0,3,4,5,6*,7,9,10,11,13,16,17,18,19 - short extra segment, 8/14/15 have duplicated words\n",
                "# 1,2,20 - extra segment \n",
                "# 12 - oversegment\n",
                "inspect_errors(results_df, analysis_results, (\"small.en\", call_id, \"pyannote_pre_sr\"), precision_errors=[2, 6])"
            ]
        },
        {
            "cell_type": "code",
            "execution_count": 167,
            "metadata": {},
            "outputs": [
                {
                    "name": "stdout",
                    "output_type": "stream",
                    "text": [
                        "Results for: ('small.en-ft', '4385939', 'tdrz_token')\n"
                    ]
                },
                {
                    "data": {
                        "text/html": [
                            "<div>\n",
                            "<style scoped>\n",
                            "    .dataframe tbody tr th:only-of-type {\n",
                            "        vertical-align: middle;\n",
                            "    }\n",
                            "\n",
                            "    .dataframe tbody tr th {\n",
                            "        vertical-align: top;\n",
                            "    }\n",
                            "\n",
                            "    .dataframe thead th {\n",
                            "        text-align: right;\n",
                            "    }\n",
                            "</style>\n",
                            "<table border=\"1\" class=\"dataframe\">\n",
                            "  <thead>\n",
                            "    <tr style=\"text-align: right;\">\n",
                            "      <th></th>\n",
                            "      <th>metric</th>\n",
                            "      <th>value</th>\n",
                            "      <th>denominator</th>\n",
                            "      <th>numerator</th>\n",
                            "      <th>deletions</th>\n",
                            "      <th>insertions</th>\n",
                            "      <th>substitutions</th>\n",
                            "    </tr>\n",
                            "  </thead>\n",
                            "  <tbody>\n",
                            "    <tr>\n",
                            "      <th>0</th>\n",
                            "      <td>wer_overall</td>\n",
                            "      <td>7.498897</td>\n",
                            "      <td>9068</td>\n",
                            "      <td>680</td>\n",
                            "      <td>83</td>\n",
                            "      <td>228</td>\n",
                            "      <td>369</td>\n",
                            "    </tr>\n",
                            "    <tr>\n",
                            "      <th>1</th>\n",
                            "      <td>wer_speaker_switch</td>\n",
                            "      <td>11.422846</td>\n",
                            "      <td>998</td>\n",
                            "      <td>114</td>\n",
                            "      <td>27</td>\n",
                            "      <td>31</td>\n",
                            "      <td>56</td>\n",
                            "    </tr>\n",
                            "    <tr>\n",
                            "      <th>2</th>\n",
                            "      <td>spk_turn_precision</td>\n",
                            "      <td>98.958328</td>\n",
                            "      <td>96</td>\n",
                            "      <td>95</td>\n",
                            "      <td>0</td>\n",
                            "      <td>1</td>\n",
                            "      <td>0</td>\n",
                            "    </tr>\n",
                            "    <tr>\n",
                            "      <th>3</th>\n",
                            "      <td>spk_turn_recall</td>\n",
                            "      <td>72.519081</td>\n",
                            "      <td>131</td>\n",
                            "      <td>95</td>\n",
                            "      <td>30</td>\n",
                            "      <td>0</td>\n",
                            "      <td>6</td>\n",
                            "    </tr>\n",
                            "  </tbody>\n",
                            "</table>\n",
                            "</div>"
                        ],
                        "text/plain": [
                            "               metric      value  denominator  numerator  deletions  \\\n",
                            "0         wer_overall   7.498897         9068        680         83   \n",
                            "1  wer_speaker_switch  11.422846          998        114         27   \n",
                            "2  spk_turn_precision  98.958328           96         95          0   \n",
                            "3     spk_turn_recall  72.519081          131         95         30   \n",
                            "\n",
                            "   insertions  substitutions  \n",
                            "0         228            369  \n",
                            "1          31             56  \n",
                            "2           1              0  \n",
                            "3           0              6  "
                        ]
                    },
                    "metadata": {},
                    "output_type": "display_data"
                },
                {
                    "name": "stdout",
                    "output_type": "stream",
                    "text": [
                        "Precision errors: 1\n",
                        "Recall errors: 36\n"
                    ]
                }
            ],
            "source": [
                "# 0 - short extra segment\n",
                "inspect_errors(results_df, analysis_results, (\"small.en-ft\", call_id, \"tdrz_token\"))"
            ]
        },
        {
            "cell_type": "markdown",
            "metadata": {},
            "source": [
                "### Conclusion \n",
                "\n",
                "`TODO@Akash` - complete this"
            ]
        },
        {
            "cell_type": "markdown",
            "metadata": {},
            "source": [
                "# Misc discussion\n",
                "\n",
                "`TODO@Akash` - clean up rough notes here and complete end section\n",
                "\n",
                "- comparison of WER from pre_sr segmentation and after finetuning\n",
                "- comparison of runtime between pyannote, tinydiarize and time_segment_clustered\n",
                "- discussion of integration with clustering via post_sr results"
            ]
        },
        {
            "attachments": {},
            "cell_type": "markdown",
            "metadata": {},
            "source": [
                "### WER comparison and impact of fine-tuning\n",
                "\n",
                "We can see that naively altering the segments in `drz_pre_sr` can have a significant (15%+ relative) negative impact on the WER. In regions around speaker switches the impact is much higher (40-70%), as segments tend to be much shorter here."
            ]
        },
        {
            "cell_type": "code",
            "execution_count": null,
            "metadata": {},
            "outputs": [
                {
                    "name": "stdout",
                    "output_type": "stream",
                    "text": [
                        "WER impact of finetuning\n"
                    ]
                },
                {
                    "data": {
                        "text/html": [
                            "<div>\n",
                            "<style scoped>\n",
                            "    .dataframe tbody tr th:only-of-type {\n",
                            "        vertical-align: middle;\n",
                            "    }\n",
                            "\n",
                            "    .dataframe tbody tr th {\n",
                            "        vertical-align: top;\n",
                            "    }\n",
                            "\n",
                            "    .dataframe thead th {\n",
                            "        text-align: right;\n",
                            "    }\n",
                            "</style>\n",
                            "<table border=\"1\" class=\"dataframe\">\n",
                            "  <thead>\n",
                            "    <tr style=\"text-align: right;\">\n",
                            "      <th>model</th>\n",
                            "      <th>small.en</th>\n",
                            "      <th>small.en-ft</th>\n",
                            "    </tr>\n",
                            "    <tr>\n",
                            "      <th>call_id</th>\n",
                            "      <th></th>\n",
                            "      <th></th>\n",
                            "    </tr>\n",
                            "  </thead>\n",
                            "  <tbody>\n",
                            "    <tr>\n",
                            "      <th>4359971</th>\n",
                            "      <td>13.03</td>\n",
                            "      <td>13.89</td>\n",
                            "    </tr>\n",
                            "    <tr>\n",
                            "      <th>4374910</th>\n",
                            "      <td>10.14</td>\n",
                            "      <td>6.91</td>\n",
                            "    </tr>\n",
                            "    <tr>\n",
                            "      <th>4385939</th>\n",
                            "      <td>10.18</td>\n",
                            "      <td>7.50</td>\n",
                            "    </tr>\n",
                            "  </tbody>\n",
                            "</table>\n",
                            "</div>"
                        ],
                        "text/plain": [
                            "model    small.en  small.en-ft\n",
                            "call_id                       \n",
                            "4359971     13.03        13.89\n",
                            "4374910     10.14         6.91\n",
                            "4385939     10.18         7.50"
                        ]
                    },
                    "metadata": {},
                    "output_type": "display_data"
                },
                {
                    "name": "stdout",
                    "output_type": "stream",
                    "text": [
                        "WER impact of segmentation in pyannote_pre_sr\n"
                    ]
                },
                {
                    "data": {
                        "text/html": [
                            "<div>\n",
                            "<style scoped>\n",
                            "    .dataframe tbody tr th:only-of-type {\n",
                            "        vertical-align: middle;\n",
                            "    }\n",
                            "\n",
                            "    .dataframe tbody tr th {\n",
                            "        vertical-align: top;\n",
                            "    }\n",
                            "\n",
                            "    .dataframe thead th {\n",
                            "        text-align: right;\n",
                            "    }\n",
                            "</style>\n",
                            "<table border=\"1\" class=\"dataframe\">\n",
                            "  <thead>\n",
                            "    <tr style=\"text-align: right;\">\n",
                            "      <th>method</th>\n",
                            "      <th>pyannote_pre_sr</th>\n",
                            "      <th>time_segment</th>\n",
                            "    </tr>\n",
                            "    <tr>\n",
                            "      <th>call_id</th>\n",
                            "      <th></th>\n",
                            "      <th></th>\n",
                            "    </tr>\n",
                            "  </thead>\n",
                            "  <tbody>\n",
                            "    <tr>\n",
                            "      <th>4359971</th>\n",
                            "      <td>19.58</td>\n",
                            "      <td>13.03</td>\n",
                            "    </tr>\n",
                            "    <tr>\n",
                            "      <th>4374910</th>\n",
                            "      <td>13.71</td>\n",
                            "      <td>6.91</td>\n",
                            "    </tr>\n",
                            "    <tr>\n",
                            "      <th>4385939</th>\n",
                            "      <td>14.32</td>\n",
                            "      <td>7.50</td>\n",
                            "    </tr>\n",
                            "  </tbody>\n",
                            "</table>\n",
                            "</div>"
                        ],
                        "text/plain": [
                            "method   pyannote_pre_sr  time_segment\n",
                            "call_id                               \n",
                            "4359971            19.58         13.03\n",
                            "4374910            13.71          6.91\n",
                            "4385939            14.32          7.50"
                        ]
                    },
                    "metadata": {},
                    "output_type": "display_data"
                }
            ],
            "source": [
                "subset_df = results_df.query('method in [\"pyannote_pre_sr\", \"time_segment\"]')\n",
                "print(\"WER impact of finetuning\")\n",
                "ipd.display(query_metric_results(subset_df.query('method==\"time_segment\"'), \"wer_overall\", groups=[\"call_id\", \"model\"]))\n",
                "# we see that after finetuning, the overall WER not impacted too much\n",
                "print(\"WER impact of segmentation in pyannote_pre_sr\")\n",
                "ipd.display(query_metric_results(subset_df, \"wer_overall\", groups=[\"call_id\", \"method\"]))\n",
                "# ipd.display(query_metric_results(subset_df, \"wer_speaker_switch\", groups=[\"call_id\", \"method\"]))\n",
                "# pre-segmented recognition hurts WER, especially around speaker switches"
            ]
        },
        {
            "cell_type": "markdown",
            "metadata": {},
            "source": [
                "I've also noticed these undesirable regressions/gotchas. The regressions are fixable with more modular and careful finetuning.\n",
                "- the finetuned model spkturn_segments has significantly lower recall from ~ 80% -> 10%. probably because of training on a different (longer) distribution of segments in ami data. or that the model simply forgets to output timestamps\n",
                "- WER is quite different, some better or worse, with very different sub/ins/del pattern"
            ]
        },
        {
            "cell_type": "markdown",
            "metadata": {},
            "source": [
                "### Runtime comparison"
            ]
        },
        {
            "cell_type": "markdown",
            "metadata": {},
            "source": [
                "### Discussion on adding clustering"
            ]
        },
        {
            "attachments": {},
            "cell_type": "markdown",
            "metadata": {},
            "source": [
                "how to retain advantages?\n",
                "\n",
                "looking closer we see why (insert nemo graphic on fidelity vs temporal resolution). this tradeoff comes at a significant extra cost (already quite expensive). even so, it is a patch on a fundamental drawback. SR models can easiliy output tokens at much higher time resolution, making it a much more natural choice. \n",
                "this will only yield local (within 30s chunk) - will still need a clustering process to group speakers across full timescale of meeting.\n",
                "\n",
                "- gap in recall between drz_post_sr and segment            (indicates ?)\n",
                "- gap in precision errors for post sr on 9971 inspite of higher recall?  (indicates clustering errors)\n",
                "\n",
                "overall, the gap between segment and drz_post_sr shows a lot of clustering errors. \n",
                "\n",
                "Summary:\n",
                "- the model makes very few spk turn predictions but with ~100% precision. these are likely already included within punctuations (should check if these were missed by time segments, or diarization)\n",
                "- `drz_post_sr` clustering will still be needed. hope is that `speaker_turn` is predicted well difficult parts (short segments) acting in a complementary way to further improve clustering recall errors. to enable `drz_post_sr`, i need to modify decoding to force sample a timestamp when token is predicted\n",
                "- since the model tends to be very precise, another `speaker_same` token could also help clustering precision errors, so that short segments still get assigned to the same speaker when there are larger # of speakers. in this case we'd skip sampling a timestamp to make a longer segment"
            ]
        }
    ],
    "metadata": {
        "kernelspec": {
            "display_name": "Python 3.9.16 ('whisper-vox')",
            "language": "python",
            "name": "python3"
        },
        "language_info": {
            "codemirror_mode": {
                "name": "ipython",
                "version": 3
            },
            "file_extension": ".py",
            "mimetype": "text/x-python",
            "name": "python",
            "nbconvert_exporter": "python",
            "pygments_lexer": "ipython3",
            "version": "3.9.16"
        },
        "orig_nbformat": 4,
        "vscode": {
            "interpreter": {
                "hash": "a4055415883ccc40d93aa7008ba38b74af943aad60153343b63327b9ef62b431"
            }
        }
    },
    "nbformat": 4,
    "nbformat_minor": 2
}
