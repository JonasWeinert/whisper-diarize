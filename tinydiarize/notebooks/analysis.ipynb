{
    "cells": [
        {
            "attachments": {},
            "cell_type": "markdown",
            "metadata": {},
            "source": [
                "# Outline\n",
                "\n",
                "* setup\n",
                "* run all pipelines, pyannote, baselines + tinydiarize\n",
                "* compile scored results and compare\n",
                "* dive into `pre_sr` baseline errors\n",
                "* diff with punctuation baseline\n",
                "* diff with joint sr approach in `tinydiarize`\n",
                "* misc information w.r.t. tinydiarize\n",
                "\n",
                "TBD - where to insert the post_sr part, and discussion on integration with clustering"
            ]
        },
        {
            "cell_type": "markdown",
            "metadata": {},
            "source": [
                "# Setup\n"
            ]
        },
        {
            "cell_type": "markdown",
            "metadata": {},
            "source": [
                "Add a note to follow setup instructions in tinydiarize/README.md"
            ]
        },
        {
            "cell_type": "code",
            "execution_count": 4,
            "metadata": {},
            "outputs": [],
            "source": [
                "from IPython import display as ipd\n",
                "from IPython import get_ipython\n",
                "from pathlib import Path"
            ]
        },
        {
            "cell_type": "code",
            "execution_count": 147,
            "metadata": {},
            "outputs": [],
            "source": [
                "import os\n",
                "import re\n",
                "import glob\n",
                "import pandas as pd\n",
                "import matplotlib.pyplot as plt\n",
                "# edit matplotlib theme to a better looking one\n",
                "plt.style.use('seaborn-v0_8-notebook')"
            ]
        },
        {
            "cell_type": "code",
            "execution_count": 6,
            "metadata": {},
            "outputs": [],
            "source": [
                "# setup: we need to get tinydiarize files from git repo, install other dependencies, and fetch eval data for analysis\n",
                "# update: google colab wont be possible as score.py uses docker to run fstalign which is not supported by colab\n",
                "# so will have to use pre-computed results\n",
                "\n",
                "if 'google.colab' in str(get_ipython()):\n",
                "    # clone a particular branch of tinydiarize repo\n",
                "    ! git clone https://github.com/akashmjn/tinyDiarize.git -b analysis-1 --single-branch\n",
                "    # pip install \n",
                "    ! pip install -e tinyDiarize \n",
                "    # setup workdir\n",
                "    WORKDIR = 'tinyDiarize/tinydiarize/workdir_analysis'\n",
                "    CODEDIR = 'tinyDiarize/tinydiarize'\n",
                "    # download pre-computed results from blob\n",
                "    ! wget -O {CODEDIR}/workdir_analysis.tar.gz https://sharedstorage7190.blob.core.windows.net/tinydiarize/precomputed/workdir_analysis/5e09d4787a2674ea773547dcb9f23321a472bea883917337e0139a2ba0c2dd34.tar.gz\n",
                "    _PRE_COMPUTED = True\n",
                "else:\n",
                "    # if running locally, assume that tinydiarize repo is already cloned and installed\n",
                "    WORKDIR = '../workdir_analysis'\n",
                "    CODEDIR = '..'\n",
                "    _PRE_COMPUTED = False\n",
                "\n",
                "ipd.clear_output()"
            ]
        },
        {
            "attachments": {},
            "cell_type": "markdown",
            "metadata": {},
            "source": [
                "## Evaluation data\n",
                "\n",
                "I evaluate in an out-of-distribution setup outside of the dataset that the model was finetuned on (AMI meetings). As done in Whisper, this allows us to get a more realistic estimate of real-world generalization vs the model's ability to fit dataset-specific quirks of the AMI dataset.\n",
                "\n",
                "I've chosen 3 earnings calls from [rev/earnings21](https://github.com/revdotcom/speech-datasets/blob/main/earnings21/earnings21-file-metadata.csv). These were selected with the following criteria:\n",
                "- One interactive Q&A meeting (Hershey) with a higher rate of speaker switches and unique speakers\n",
                "- One meeting (Amex) that is moderated Q&A between only 2 speakers\n",
                "- One meeting (Constellium) that is a presentation and Q&A session, and is somewhere in between\n",
                "\n",
                "| file_id | audio_length | company_name | sector | speaker_switches | speaker_switches / minute | unique_speakers |\n",
                "|---------|--------------|--------------|--------|------------------|---------------------------|-----------------|\n",
                "| 4385939 | 3049.832     | Hershey Company | Consumer Goods | 132 | 2.60 | 19 |\n",
                "| 4374910 | 2028.536     | American Express Company | Financial | 56 | 1.66 | 2 |\n",
                "| 4359971 | 3759.944     | Constellium | Industrial Goods | 116 | 1.85 | 10 |\n",
                "\n",
                "For ease of analysis, "
            ]
        },
        {
            "cell_type": "code",
            "execution_count": 12,
            "metadata": {},
            "outputs": [],
            "source": [
                "# make appropriate workdir structure and pull eval files inside it\n",
                "\n",
                "if _PRE_COMPUTED:\n",
                "    # unpack pre-computed results into WORKDIR\n",
                "    ! tar -xzf {CODEDIR}/workdir_analysis.tar.gz -C {CODEDIR}\n",
                "else:\n",
                "    ! mkdir -p {WORKDIR}\n",
                "    # call a bash script with WORKDIR as an environment variable\n",
                "    ! bash {CODEDIR}/scripts/fetch_earnings21_calls.sh {WORKDIR}\n",
                "\n",
                "ipd.clear_output()"
            ]
        },
        {
            "cell_type": "code",
            "execution_count": null,
            "metadata": {},
            "outputs": [],
            "source": [
                "# can listen to first and last 2 minutes of an example file\n",
                "ipd.Audio(f'{WORKDIR}/audio/earnings21-4359971.mp3')"
            ]
        },
        {
            "attachments": {},
            "cell_type": "markdown",
            "metadata": {},
            "source": [
                "## Transcribing\n",
                "\n",
                "We transcribe the calls here using a pyannote + `small.en` pipeline, 2 simple native baselines (explained later in the notebook), and with the `small.en-tdrz` tinyDiarize model. Transcribed results are scored for both WER and accuracy of speaker turns.\n",
                "\n",
                "> *NOTE: On Google colab, we will fetch pre-computed results from my runs, as it's a bit tricky to setup the fstalign scoring tool*"
            ]
        },
        {
            "cell_type": "code",
            "execution_count": null,
            "metadata": {},
            "outputs": [],
            "source": [
                "if not _PRE_COMPUTED:\n",
                "    # change directory to ../scripts \n",
                "    ! cd {CODEDIR}/scripts\n",
                "\n",
                "    # process all the selected calls\n",
                "    calls = [\n",
                "        (\"earnings21-4385939\", 19),\n",
                "        (\"earnings21-4374910\", 2),\n",
                "        (\"earnings21-4359971\", 10),\n",
                "    ]\n",
                "\n",
                "    # iterate over calls and run the script run_pipelines.py\n",
                "    for call_id, num_speakers in calls:\n",
                "        ! python run_pipelines.py {WORKDIR}/audio/{call_id}.mp3 {WORKDIR}/fstalign_scoring/references/{call_id}-ref.nlp {WORKDIR}/transcripts/tiny.en/{call_id} --num_speakers {num_speakers}\n",
                "\n",
                "    # change directory back to ../notebooks\n",
                "    ! cd ./notebooks\n",
                "\n",
                "# TODO@Akash - verify run_pipelines works, for now assuming that results are generated correctly"
            ]
        },
        {
            "cell_type": "markdown",
            "metadata": {},
            "source": [
                "## Metrics\n",
                "\n",
                "Show some examples of transcript, why WYSIWYG metric choice"
            ]
        },
        {
            "cell_type": "code",
            "execution_count": null,
            "metadata": {},
            "outputs": [],
            "source": [
                "import sys\n",
                "sys.path.append(CODEDIR)  # TODO@Akash - consider pip installing vs directly calling code files?\n",
                "from score import parse_analysis_file"
            ]
        },
        {
            "attachments": {},
            "cell_type": "markdown",
            "metadata": {},
            "source": [
                "## Compiling results\n",
                "\n",
                "To understand the gaps in current diarization approaches, compare on these meetings against two very simple baselines (segment, punctuation).\n",
                "\n",
                "Provide some information about baselines. Each one adds `speaker_turns` in the following ways:\n",
                "- `segment`: after every time segment created by whisper\n",
                "- `punctuation`: after every ending punctuation e.g. `.?!`\n",
                "- `drz_pre_sr`: full pyannote diarization pipeline, with ASR on recognized segments\n",
                "- `drz_post_sr`: simple diarization that adds a clustering step after `segment`"
            ]
        },
        {
            "cell_type": "code",
            "execution_count": 117,
            "metadata": {},
            "outputs": [],
            "source": [
                "# define some notebook utility functions\n",
                "\n",
                "def compile_results(results_dir):\n",
                "    # read and compile both scoring_results and analysis_results\n",
                "    # compile all scoring_results.tsv files\n",
                "    scored_tsvs = []\n",
                "    tsv_list = glob.glob(f\"{results_dir}/**/scoring_results.tsv\", recursive=True)\n",
                "    for tsv in tsv_list:\n",
                "        scored_tsvs.append(pd.read_csv(tsv, sep=\"\\t\"))\n",
                "    results_df = pd.concat(scored_tsvs)\n",
                "    model, call_id, method = zip(\n",
                "        *[re.search(r'(.*)__earnings21-([0-9]+)_+(.*)', r).groups() \n",
                "            for r in results_df.result_id]\n",
                "    )\n",
                "    model = [m.split(\"_\")[0] for m in model]  # remove the suffix after -ft_*\n",
                "    # rename some methods to more understandable names\n",
                "    method_map = dict(\n",
                "        drz_pre_sr__segment=\"pyannote_pre_sr\", \n",
                "        segment=\"time_segment\", \n",
                "        drz_post_sr__segment=\"time_segment_clustered\"\n",
                "    )\n",
                "    method = [method_map.get(m, m) for m in method]\n",
                "    results_df[\"model\"], results_df[\"call_id\"], results_df[\"method\"] = model, call_id, method\n",
                "    print(f\"Read {len(results_df)} results from {len(tsv_list)} files\")\n",
                "\n",
                "    # # collect all side-by-side analysis results\n",
                "    # analysis_results = dict()\n",
                "    # sbs_list = glob.glob(f\"../workdir_analysis/fstalign_scoring/results/{model_id}__**/spk_turn/results/*.sbs\", recursive=True)\n",
                "    # for sbs in sbs_list:\n",
                "    #     # get the result_id from the path\n",
                "    #     result_id = Path(sbs).parts[-4]\n",
                "    #     precision_errors, recall_errors = parse_analysis_file(sbs)\n",
                "    #     analysis_results[result_id] = dict(precision_errors=precision_errors, recall_errors=recall_errors)\n",
                "    # print(f\"Read {len(analysis_results)} analysis results\")\n",
                "    return results_df\n",
                "\n",
                "def query_metric_results(results_df, metric, groups=[\"call_id\", \"method\"]):\n",
                "    \"\"\"Query the results for a given metric\"\"\"\n",
                "    metric_df = results_df.query(f'metric==\"{metric}\"').groupby(groups)[\"value\"].first().unstack().round(2)\n",
                "    return metric_df\n",
                "\n",
                "def plot_metric_df(metric_df, title=None, ax=None, legend=True):\n",
                "    # metric = metric_df.metric.iloc[0]\n",
                "    if ax is None:\n",
                "        ax = plt.gca()\n",
                "    metric_df.plot.barh(title=title, ax=ax, legend=legend)\n",
                "    if legend:\n",
                "        # edit the legend of the plot so that it doesn't overlap with the plot\n",
                "        _ = ax.legend(bbox_to_anchor=(1.05, 1), loc='upper left', borderaxespad=0.)"
            ]
        },
        {
            "cell_type": "code",
            "execution_count": 134,
            "metadata": {},
            "outputs": [
                {
                    "name": "stdout",
                    "output_type": "stream",
                    "text": [
                        "Read 84 results from 21 files\n"
                    ]
                },
                {
                    "data": {
                        "text/html": [
                            "<div>\n",
                            "<style scoped>\n",
                            "    .dataframe tbody tr th:only-of-type {\n",
                            "        vertical-align: middle;\n",
                            "    }\n",
                            "\n",
                            "    .dataframe tbody tr th {\n",
                            "        vertical-align: top;\n",
                            "    }\n",
                            "\n",
                            "    .dataframe thead th {\n",
                            "        text-align: right;\n",
                            "    }\n",
                            "</style>\n",
                            "<table border=\"1\" class=\"dataframe\">\n",
                            "  <thead>\n",
                            "    <tr style=\"text-align: right;\">\n",
                            "      <th></th>\n",
                            "      <th>metric</th>\n",
                            "      <th>value</th>\n",
                            "      <th>denominator</th>\n",
                            "      <th>numerator</th>\n",
                            "      <th>deletions</th>\n",
                            "      <th>insertions</th>\n",
                            "      <th>substitutions</th>\n",
                            "      <th>result_id</th>\n",
                            "      <th>model</th>\n",
                            "      <th>call_id</th>\n",
                            "      <th>method</th>\n",
                            "    </tr>\n",
                            "  </thead>\n",
                            "  <tbody>\n",
                            "    <tr>\n",
                            "      <th>0</th>\n",
                            "      <td>wer_overall</td>\n",
                            "      <td>7.498897</td>\n",
                            "      <td>9068</td>\n",
                            "      <td>680</td>\n",
                            "      <td>83</td>\n",
                            "      <td>228</td>\n",
                            "      <td>369</td>\n",
                            "      <td>small.en-ft_decoder-frz_bpe_time_2-hp2.pt__ear...</td>\n",
                            "      <td>small.en-ft</td>\n",
                            "      <td>4385939</td>\n",
                            "      <td>token</td>\n",
                            "    </tr>\n",
                            "    <tr>\n",
                            "      <th>1</th>\n",
                            "      <td>wer_speaker_switch</td>\n",
                            "      <td>11.422846</td>\n",
                            "      <td>998</td>\n",
                            "      <td>114</td>\n",
                            "      <td>27</td>\n",
                            "      <td>31</td>\n",
                            "      <td>56</td>\n",
                            "      <td>small.en-ft_decoder-frz_bpe_time_2-hp2.pt__ear...</td>\n",
                            "      <td>small.en-ft</td>\n",
                            "      <td>4385939</td>\n",
                            "      <td>token</td>\n",
                            "    </tr>\n",
                            "    <tr>\n",
                            "      <th>2</th>\n",
                            "      <td>spk_turn_precision</td>\n",
                            "      <td>98.958328</td>\n",
                            "      <td>96</td>\n",
                            "      <td>95</td>\n",
                            "      <td>0</td>\n",
                            "      <td>1</td>\n",
                            "      <td>0</td>\n",
                            "      <td>small.en-ft_decoder-frz_bpe_time_2-hp2.pt__ear...</td>\n",
                            "      <td>small.en-ft</td>\n",
                            "      <td>4385939</td>\n",
                            "      <td>token</td>\n",
                            "    </tr>\n",
                            "    <tr>\n",
                            "      <th>3</th>\n",
                            "      <td>spk_turn_recall</td>\n",
                            "      <td>72.519081</td>\n",
                            "      <td>131</td>\n",
                            "      <td>95</td>\n",
                            "      <td>30</td>\n",
                            "      <td>0</td>\n",
                            "      <td>6</td>\n",
                            "      <td>small.en-ft_decoder-frz_bpe_time_2-hp2.pt__ear...</td>\n",
                            "      <td>small.en-ft</td>\n",
                            "      <td>4385939</td>\n",
                            "      <td>token</td>\n",
                            "    </tr>\n",
                            "    <tr>\n",
                            "      <th>0</th>\n",
                            "      <td>wer_overall</td>\n",
                            "      <td>13.713123</td>\n",
                            "      <td>4915</td>\n",
                            "      <td>674</td>\n",
                            "      <td>360</td>\n",
                            "      <td>71</td>\n",
                            "      <td>243</td>\n",
                            "      <td>small.en__earnings21-4374910_drz_pre_sr__segment</td>\n",
                            "      <td>small.en</td>\n",
                            "      <td>4374910</td>\n",
                            "      <td>pyannote_pre_sr</td>\n",
                            "    </tr>\n",
                            "  </tbody>\n",
                            "</table>\n",
                            "</div>"
                        ],
                        "text/plain": [
                            "               metric      value  denominator  numerator  deletions  \\\n",
                            "0         wer_overall   7.498897         9068        680         83   \n",
                            "1  wer_speaker_switch  11.422846          998        114         27   \n",
                            "2  spk_turn_precision  98.958328           96         95          0   \n",
                            "3     spk_turn_recall  72.519081          131         95         30   \n",
                            "0         wer_overall  13.713123         4915        674        360   \n",
                            "\n",
                            "   insertions  substitutions  \\\n",
                            "0         228            369   \n",
                            "1          31             56   \n",
                            "2           1              0   \n",
                            "3           0              6   \n",
                            "0          71            243   \n",
                            "\n",
                            "                                           result_id        model  call_id  \\\n",
                            "0  small.en-ft_decoder-frz_bpe_time_2-hp2.pt__ear...  small.en-ft  4385939   \n",
                            "1  small.en-ft_decoder-frz_bpe_time_2-hp2.pt__ear...  small.en-ft  4385939   \n",
                            "2  small.en-ft_decoder-frz_bpe_time_2-hp2.pt__ear...  small.en-ft  4385939   \n",
                            "3  small.en-ft_decoder-frz_bpe_time_2-hp2.pt__ear...  small.en-ft  4385939   \n",
                            "0   small.en__earnings21-4374910_drz_pre_sr__segment     small.en  4374910   \n",
                            "\n",
                            "            method  \n",
                            "0            token  \n",
                            "1            token  \n",
                            "2            token  \n",
                            "3            token  \n",
                            "0  pyannote_pre_sr  "
                        ]
                    },
                    "execution_count": 134,
                    "metadata": {},
                    "output_type": "execute_result"
                }
            ],
            "source": [
                "results_df = compile_results(f\"{WORKDIR}/fstalign_scoring/results\")\n",
                "results_df.head()"
            ]
        },
        {
            "cell_type": "code",
            "execution_count": 148,
            "metadata": {},
            "outputs": [
                {
                    "data": {
                        "image/png": "[encoded data removed]",
                        "text/plain": [
                            "<Figure size 1000x400 with 2 Axes>"
                        ]
                    },
                    "metadata": {},
                    "output_type": "display_data"
                }
            ],
            "source": [
                "# comparing results for pyannote_pre_sr, time_segment, punctuation, token\n",
                "subset_df = results_df.query('method not in [\"time_segment_clustered\"]')\n",
                "subset_df = subset_df.query('~(model==\"small.en-ft\" and method != \"token\")')\n",
                "fig, axes = plt.subplots(1, 2, figsize=(10, 4), sharey=True)\n",
                "d1 = query_metric_results(subset_df, \"spk_turn_recall\", groups=[\"call_id\", \"method\"])\n",
                "plot_metric_df(d1, title=\"Speaker Turn Recall\", ax=axes[0], legend=False)\n",
                "d2 = query_metric_results(subset_df, \"spk_turn_precision\", groups=[\"call_id\", \"method\"])\n",
                "plot_metric_df(d2, title=\"Speaker Turn Precision\", ax=axes[1])"
            ]
        },
        {
            "cell_type": "markdown",
            "metadata": {},
            "source": [
                "Very consistent performance. Finally, can look at a transcripts to get a better feel for what transcripts produced by ft-token look like "
            ]
        },
        {
            "attachments": {},
            "cell_type": "markdown",
            "metadata": {},
            "source": [
                "need to look at side by side to properly understand the drawbacks/bottlnecks of diarization designs\n",
                "\n",
                "- baselines actually have quite good recall, better than existing diarization approaches, at no extra cost (tabulate the cost).\n",
                "- gap in recall between drz_post_sr and segment            (indicates ?)\n",
                "- gap in precision errors for post sr on 9971 inspite of higher recall?  (indicates clustering errors)\n",
                "\n",
                "(suprising that diarization pipelines work the worst on a call with only two speakers, should look into it)\n",
                "\n",
                "overall, the gap between segment and drz_post_sr shows a lot of clustering errors. "
            ]
        },
        {
            "attachments": {},
            "cell_type": "markdown",
            "metadata": {},
            "source": [
                "We can see that naively altering the segments in `drz_pre_sr` can have a significant (15%+ relative) negative impact on the WER. In regions around speaker switches the impact is much higher (40-70%), as segments tend to be much shorter here."
            ]
        },
        {
            "cell_type": "code",
            "execution_count": 104,
            "metadata": {},
            "outputs": [
                {
                    "name": "stdout",
                    "output_type": "stream",
                    "text": [
                        "WER impact of finetuning\n"
                    ]
                },
                {
                    "data": {
                        "text/html": [
                            "<div>\n",
                            "<style scoped>\n",
                            "    .dataframe tbody tr th:only-of-type {\n",
                            "        vertical-align: middle;\n",
                            "    }\n",
                            "\n",
                            "    .dataframe tbody tr th {\n",
                            "        vertical-align: top;\n",
                            "    }\n",
                            "\n",
                            "    .dataframe thead th {\n",
                            "        text-align: right;\n",
                            "    }\n",
                            "</style>\n",
                            "<table border=\"1\" class=\"dataframe\">\n",
                            "  <thead>\n",
                            "    <tr style=\"text-align: right;\">\n",
                            "      <th>model</th>\n",
                            "      <th>small.en</th>\n",
                            "      <th>small.en-ft</th>\n",
                            "    </tr>\n",
                            "    <tr>\n",
                            "      <th>call_id</th>\n",
                            "      <th></th>\n",
                            "      <th></th>\n",
                            "    </tr>\n",
                            "  </thead>\n",
                            "  <tbody>\n",
                            "    <tr>\n",
                            "      <th>4359971</th>\n",
                            "      <td>13.03</td>\n",
                            "      <td>13.89</td>\n",
                            "    </tr>\n",
                            "    <tr>\n",
                            "      <th>4374910</th>\n",
                            "      <td>10.14</td>\n",
                            "      <td>6.91</td>\n",
                            "    </tr>\n",
                            "    <tr>\n",
                            "      <th>4385939</th>\n",
                            "      <td>10.18</td>\n",
                            "      <td>7.50</td>\n",
                            "    </tr>\n",
                            "  </tbody>\n",
                            "</table>\n",
                            "</div>"
                        ],
                        "text/plain": [
                            "model    small.en  small.en-ft\n",
                            "call_id                       \n",
                            "4359971     13.03        13.89\n",
                            "4374910     10.14         6.91\n",
                            "4385939     10.18         7.50"
                        ]
                    },
                    "metadata": {},
                    "output_type": "display_data"
                },
                {
                    "name": "stdout",
                    "output_type": "stream",
                    "text": [
                        "WER impact of segmentation in pyannote_pre_sr\n"
                    ]
                },
                {
                    "data": {
                        "text/html": [
                            "<div>\n",
                            "<style scoped>\n",
                            "    .dataframe tbody tr th:only-of-type {\n",
                            "        vertical-align: middle;\n",
                            "    }\n",
                            "\n",
                            "    .dataframe tbody tr th {\n",
                            "        vertical-align: top;\n",
                            "    }\n",
                            "\n",
                            "    .dataframe thead th {\n",
                            "        text-align: right;\n",
                            "    }\n",
                            "</style>\n",
                            "<table border=\"1\" class=\"dataframe\">\n",
                            "  <thead>\n",
                            "    <tr style=\"text-align: right;\">\n",
                            "      <th>method</th>\n",
                            "      <th>pyannote_pre_sr</th>\n",
                            "      <th>time_segment</th>\n",
                            "    </tr>\n",
                            "    <tr>\n",
                            "      <th>call_id</th>\n",
                            "      <th></th>\n",
                            "      <th></th>\n",
                            "    </tr>\n",
                            "  </thead>\n",
                            "  <tbody>\n",
                            "    <tr>\n",
                            "      <th>4359971</th>\n",
                            "      <td>19.58</td>\n",
                            "      <td>13.03</td>\n",
                            "    </tr>\n",
                            "    <tr>\n",
                            "      <th>4374910</th>\n",
                            "      <td>13.71</td>\n",
                            "      <td>6.91</td>\n",
                            "    </tr>\n",
                            "    <tr>\n",
                            "      <th>4385939</th>\n",
                            "      <td>14.32</td>\n",
                            "      <td>7.50</td>\n",
                            "    </tr>\n",
                            "  </tbody>\n",
                            "</table>\n",
                            "</div>"
                        ],
                        "text/plain": [
                            "method   pyannote_pre_sr  time_segment\n",
                            "call_id                               \n",
                            "4359971            19.58         13.03\n",
                            "4374910            13.71          6.91\n",
                            "4385939            14.32          7.50"
                        ]
                    },
                    "metadata": {},
                    "output_type": "display_data"
                }
            ],
            "source": [
                "subset_df = results_df.query('method in [\"pyannote_pre_sr\", \"time_segment\"]')\n",
                "print(\"WER impact of finetuning\")\n",
                "ipd.display(query_metric_results(subset_df.query('method==\"time_segment\"'), \"wer_overall\", groups=[\"call_id\", \"model\"]))\n",
                "# we see that after finetuning, the overall WER not impacted too much\n",
                "print(\"WER impact of segmentation in pyannote_pre_sr\")\n",
                "ipd.display(query_metric_results(subset_df, \"wer_overall\", groups=[\"call_id\", \"method\"]))\n",
                "# ipd.display(query_metric_results(subset_df, \"wer_speaker_switch\", groups=[\"call_id\", \"method\"]))\n",
                "# pre-segmented recognition hurts WER, especially around speaker switches"
            ]
        },
        {
            "cell_type": "markdown",
            "metadata": {},
            "source": [
                "## Error inspection\n",
                "\n",
                "let's look at some examples to build intuition about what's going on \n",
                "\n",
                "todos: \n",
                "- change line number to reference word number\n",
                "- make into class that stores original lines, configurable context \n",
                "- make a neat side-by-side fixed width print\n",
                "- compare pre_sr and punctuation results "
            ]
        },
        {
            "cell_type": "markdown",
            "metadata": {},
            "source": [
                "The model already separates different speakers using punctuations very reliably, with high recall. "
            ]
        },
        {
            "cell_type": "code",
            "execution_count": 35,
            "metadata": {},
            "outputs": [
                {
                    "name": "stdout",
                    "output_type": "stream",
                    "text": [
                        "Precision errors: 438\n",
                        "Recall errors: 13\n"
                    ]
                }
            ],
            "source": [
                "model_id = \"small.en\"\n",
                "call_id = \"earnings21-4359971\"\n",
                "method = \"__punctuation\"\n",
                "result_id = f\"{model_id}__{call_id}{method}\"\n",
                "\n",
                "spk_turn_errors = analysis_results[result_id]\n",
                "print(f\"Precision errors: {len(spk_turn_errors['precision_errors'])}\")\n",
                "print(f\"Recall errors: {len(spk_turn_errors['recall_errors'])}\")"
            ]
        },
        {
            "cell_type": "markdown",
            "metadata": {},
            "source": [
                "If we look at the few speaker turns that were missed, these mainly because whisper chose to ignore those words (SR error). For the words actually recognized, the model almost always (>90-95%) distinguishes different speakers. Confirms that is has a useful internal representation."
            ]
        },
        {
            "cell_type": "code",
            "execution_count": 45,
            "metadata": {},
            "outputs": [
                {
                    "name": "stdout",
                    "output_type": "stream",
                    "text": [
                        "Line: 9979\n",
                        "              rather\trather              \t\t\t\n",
                        "                than\tthan                \t\t\t\n",
                        "               later\tlater               \t\t\t\n",
                        "               <ins>\tspeaker__turn       \tERR\t\t\n",
                        "                 and\tand                 \t\t\t\n",
                        "                   i\ti                   \t\t\t\n",
                        "               think\tthink               \t\t___100209_SYN_1-1___\t\n",
                        "       speaker__turn\t<del>               \tERR\t___106_SPEAKER_TURN___\t###106_###|\n",
                        "                 got\t<del>               \tERR\t\t\n",
                        "                 you\t<del>               \tERR\t\t\n",
                        "       speaker__turn\t<del>               \tERR\t___107_SPEAKER_TURN___\t###107_###|\n",
                        "              people\tpeople              \t\t\t\n",
                        "                 are\tare                 \t\t\t\n",
                        "              seeing\tseeing              \t\t\t\n",
                        "                 the\tthe                 \t\t___100210_SYN_1-1___\t\n",
                        "                 the\t<del>               \tERR\t\t\n",
                        "          confidence\tconfidence          \t\t\t\n",
                        "            building\tbuilding            \t\t\t\n",
                        "                  up\tup                  \t\t\t\n",
                        "                   i\t<del>               \tERR\t\t\n"
                    ]
                }
            ],
            "source": [
                "i = 12\n",
                "print(\"Line:\", spk_turn_errors[\"recall_errors\"][i][\"line\"])\n",
                "print(spk_turn_errors[\"recall_errors\"][i][\"context\"])"
            ]
        },
        {
            "cell_type": "markdown",
            "metadata": {},
            "source": [
                "Now if we look for the speaker turns that were missed by pyannote, we can see that the errors are always around short, few-word segments."
            ]
        },
        {
            "cell_type": "code",
            "execution_count": 8,
            "metadata": {},
            "outputs": [
                {
                    "name": "stdout",
                    "output_type": "stream",
                    "text": [
                        "Precision errors: 18\n",
                        "Recall errors: 24\n"
                    ]
                }
            ],
            "source": [
                "model_id = \"small.en\"\n",
                "call_id = \"earnings21-4359971\"\n",
                "method = \"_drz_pre_sr__segment\"\n",
                "result_id = f\"{model_id}__{call_id}{method}\"\n",
                "\n",
                "spk_turn_errors = analysis_results[result_id]\n",
                "print(f\"Precision errors: {len(spk_turn_errors['precision_errors'])}\")\n",
                "print(f\"Recall errors: {len(spk_turn_errors['recall_errors'])}\")"
            ]
        },
        {
            "cell_type": "code",
            "execution_count": 33,
            "metadata": {},
            "outputs": [
                {
                    "name": "stdout",
                    "output_type": "stream",
                    "text": [
                        "Line: 4794\n",
                        "                  on\ton                  \t\t\t\n",
                        "                that\tthat                \t\t\t\n",
                        "               front\tfront               \t\t\t\n",
                        "                  of\tof                  \t\t\t\n",
                        "                that\tthat                \t\t\t\n",
                        "                  if\tif                  \t\t\t\n",
                        "                that\tthat                \t\t\t\n",
                        "               comes\tcomes               \t\t\t\n",
                        "                  to\tto                  \t\t\t\n",
                        "            fruition\tfruition            \t\t\t\n",
                        "       speaker__turn\t<del>               \tERR\t___23_SPEAKER_TURN___\t###23_###|\n",
                        "                yeah\tyeah                \t\t\t\n",
                        "                well\twell                \t\t\t\n",
                        "               <ins>\tspeaker__turn       \tERR\t\t\n",
                        "                   i\ti                   \t\t\t\n",
                        "                mean\tmean                \t\t\t\n",
                        "                  we\twe                  \t\t\t\n",
                        "             believe\tbelieve             \t\t\t\n",
                        "                it's\tit's                \t\t\t\n",
                        "                   a\t<del>               \tERR\t\t\n"
                    ]
                }
            ],
            "source": [
                "i = 7\n",
                "print(\"Line:\", spk_turn_errors[\"recall_errors\"][i][\"line\"])\n",
                "print(spk_turn_errors[\"recall_errors\"][i][\"context\"])"
            ]
        },
        {
            "cell_type": "markdown",
            "metadata": {},
            "source": [
                "This confirms the hypothesis that time resolution is clearly a limitation of indepedent pre-sr pipelines.\n",
                "\n",
                "> TODO@Akash - enable diff between errors\n",
                "\n",
                "> TODO@Akash - attempt to breakdown the misses from SR DELs vs misses in diarization"
            ]
        },
        {
            "cell_type": "code",
            "execution_count": null,
            "metadata": {},
            "outputs": [],
            "source": [
                "# function to print two strings side-by-side with a fixed width\n",
                "def print_side_by_side(s1, s2, width=50):\n",
                "    # split the strings into lines\n",
                "    s1_lines = s1.splitlines()\n",
                "    s2_lines = s2.splitlines()\n",
                "    # get the maximum number of lines\n",
                "    max_lines = max(len(s1_lines), len(s2_lines))\n",
                "    # pad the lines with empty strings\n",
                "    s1_lines += [\"\"] * (max_lines - len(s1_lines))\n",
                "    s2_lines += [\"\"] * (max_lines - len(s2_lines))\n",
                "    # print the lines side-by-side\n",
                "    for s1, s2 in zip(s1_lines, s2_lines):\n",
                "        s1 = s1.rsplit('\\t', 2)[0]  # remove the last 2 columns, keep only words and ERR hints\n",
                "        s2 = s2.rsplit('\\t', 2)[0]\n",
                "        print(f\"{s1: <{width}}{s2: <{width}}\")"
            ]
        },
        {
            "attachments": {},
            "cell_type": "markdown",
            "metadata": {},
            "source": [
                "how to retain advantages?\n",
                "\n",
                "looking closer we see why (insert nemo graphic on fidelity vs temporal resolution). this tradeoff comes at a significant extra cost (already quite expensive). even so, it is a patch on a fundamental drawback. SR models can easiliy output tokens at much higher time resolution, making it a much more natural choice. \n",
                "this will only yield local (within 30s chunk) - will still need a clustering process to group speakers across full timescale of meeting."
            ]
        },
        {
            "attachments": {},
            "cell_type": "markdown",
            "metadata": {},
            "source": [
                "## Analysis of finetuned models\n",
                "\n",
                "Here we look at Whisper models finetuned to detect speaker turns, partially solving the speaker-segmentation aspect of diarization. We want to see high accuracy with minimal impact on the WER.\n",
                "\n",
                "Summary:\n",
                "- the model makes very few spk turn predictions but with ~100% precision. these are likely already included within punctuations (should check if these were missed by time segments, or diarization)\n",
                "- `drz_post_sr` clustering will still be needed. hope is that `speaker_turn` is predicted well difficult parts (short segments) acting in a complementary way to further improve clustering recall errors. to enable `drz_post_sr`, i need to modify decoding to force sample a timestamp when token is predicted\n",
                "- since the model tends to be very precise, another `speaker_same` token could also help clustering precision errors, so that short segments still get assigned to the same speaker when there are larger # of speakers. in this case we'd skip sampling a timestamp to make a longer segment\n",
                "- i've also noticed these undesirable regressions/gotchas:\n",
                "    - the finetuned model spkturn_segments has significantly lower recall from ~ 80% -> 10%. probably because of training on a different (longer) distribution of segments in ami data. or that the model simply forgets to output timestamps\n",
                "    - WER is quite different, some better or worse, with very different sub/ins/del pattern\n",
                "\n",
                "The regressions are fixable with more modular and careful finetuning. But first, will aim to check if finetuning can actually improve."
            ]
        }
    ],
    "metadata": {
        "kernelspec": {
            "display_name": "Python 3.9.16 ('whisper-vox')",
            "language": "python",
            "name": "python3"
        },
        "language_info": {
            "codemirror_mode": {
                "name": "ipython",
                "version": 3
            },
            "file_extension": ".py",
            "mimetype": "text/x-python",
            "name": "python",
            "nbconvert_exporter": "python",
            "pygments_lexer": "ipython3",
            "version": "3.9.16"
        },
        "orig_nbformat": 4,
        "vscode": {
            "interpreter": {
                "hash": "a4055415883ccc40d93aa7008ba38b74af943aad60153343b63327b9ef62b431"
            }
        }
    },
    "nbformat": 4,
    "nbformat_minor": 2
}
