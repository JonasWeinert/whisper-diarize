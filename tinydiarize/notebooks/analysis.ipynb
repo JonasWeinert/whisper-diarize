{
    "cells": [
        {
            "attachments": {},
            "cell_type": "markdown",
            "metadata": {},
            "source": [
                "# Outline\n",
                "\n",
                "This notebook complements the blog post and is intended to cover the following:\n",
                "- [Reproducing results](#reproducing-results)\n",
                "- [Deep dive and error analysis](#deep-dive-and-error-analysis)\n",
                "- [How to score and analyze your own data](#how-to-score-and-analyze-your-own-data)\n",
                "- [Conclusion](#conclusion)\n",
                "- [Appendix](#appendix)\n"
            ]
        },
        {
            "cell_type": "markdown",
            "metadata": {},
            "source": [
                "# Reproducing results"
            ]
        },
        {
            "cell_type": "markdown",
            "metadata": {},
            "source": [
                "## Setup\n"
            ]
        },
        {
            "cell_type": "markdown",
            "metadata": {},
            "source": [
                "If you have cloned the repro and are running this locally, make sure you first follow setup in `tinydiarize/README.md`, particularly the section on the fstalign scoring tool. This notebook handles the rest of the setup (including downloading eval data).\n",
                "\n",
                "> *NOTE: If running on Google Colab - until we figure out how to get the fstalign scoring tool working there - this notebook will fetch pre-computed scored results. You can still run the error inspection and analysis sections.*"
            ]
        },
        {
            "cell_type": "code",
            "execution_count": 1,
            "metadata": {},
            "outputs": [],
            "source": [
                "import matplotlib.pyplot as plt\n",
                "from IPython import get_ipython\n",
                "from IPython import display as ipd"
            ]
        },
        {
            "cell_type": "code",
            "execution_count": 2,
            "metadata": {
                "tags": []
            },
            "outputs": [],
            "source": [
                "if 'google.colab' in str(get_ipython()):\n",
                "    # clone a particular branch of tinydiarize repo\n",
                "    ! git clone https://github.com/akashmjn/tinyDiarize.git -b analysis-1 --single-branch\n",
                "    # pip install\n",
                "    ! pip install -e tinyDiarize\n",
                "    # setup workdir\n",
                "    WORKDIR = 'tinyDiarize/tinydiarize/workdir_analysis'\n",
                "    CODEDIR = 'tinyDiarize/tinydiarize'\n",
                "    _PRE_COMPUTED = True\n",
                "else:\n",
                "    # if running locally, assume that tinydiarize repo is already cloned and setup\n",
                "    WORKDIR = '../workdir_analysis'\n",
                "    CODEDIR = '..'\n",
                "    _PRE_COMPUTED = False\n",
                "\n",
                "# _PRE_COMPUTED = True  # comment out if you want to just quickly inpect errors\n",
                "\n",
                "ipd.clear_output()"
            ]
        },
        {
            "attachments": {},
            "cell_type": "markdown",
            "metadata": {},
            "source": [
                "## Evaluation data\n",
                "\n",
                "We adopt the zero-shot evaluation scheme of Whisper, testing out of the distribution that the tinydiarize model was finetuned on (`AMI meetings`). This allows us to get a more realistic estimate of real-world generalization vs the model's ability to fit `AMI meetings` dataset-specific quirks.\n",
                "\n",
                "For ease of analysis (and keeping with the 'tiny' spirit 😉) I've chosen a biased subset of 3 earnings calls from [rev/earnings21](https://github.com/revdotcom/speech-datasets/blob/main/earnings21/earnings21-file-metadata.csv). These were selected with the following criteria:\n",
                "- One interactive Q&A meeting (*939, Hershey) with a higher number of speaker switches and unique speakers\n",
                "- One meeting (*910, Amex) that is a moderated Q&A between only 2 speakers\n",
                "- One meeting (*971, Constellium) that comprises both a presentation and Q&A session, and is somewhere in between\n",
                "\n",
                "| file_id | audio_length | company_name | sector | speaker_switches | speaker_switches / minute | unique_speakers |\n",
                "|---------|--------------|--------------|--------|------------------|---------------------------|-----------------|\n",
                "| 4385939 | 3049.832     | Hershey Company | Consumer Goods | 132 | 2.60 | 19 |\n",
                "| 4374910 | 2028.536     | American Express Company | Financial | 56 | 1.66 | 2 |\n",
                "| 4359971 | 3759.944     | Constellium | Industrial Goods | 116 | 1.85 | 10 |"
            ]
        },
        {
            "cell_type": "code",
            "execution_count": 20,
            "metadata": {},
            "outputs": [],
            "source": [
                "# setup workdir structure and fetch evaluation data\n",
                "if _PRE_COMPUTED:\n",
                "    # download pre-computed results from blob\n",
                "    ! wget -O {CODEDIR}/workdir_analysis.tar.gz https://sharedstorage7190.blob.core.windows.net/tinydiarize/precomputed/workdir_analysis-051923/149b2dc526a1733b348f57cd5ed6bf26b1a819f392740a9b324899849750c484.tar.gz\n",
                "    # compute the SHA256 hash of the downloaded file\n",
                "    ! echo \"SHA256 hash of downloaded file: $(sha256sum {CODEDIR}/workdir_analysis.tar.gz)\"\n",
                "    # unpack pre-computed results into WORKDIR\n",
                "    ! tar -xzf {CODEDIR}/workdir_analysis.tar.gz -C {CODEDIR}\n",
                "else:\n",
                "    ! mkdir -p {WORKDIR}\n",
                "    # call a bash script with WORKDIR as an environment variable\n",
                "    ! bash {CODEDIR}/scripts/fetch_earnings21_calls.sh {WORKDIR}\n",
                "\n",
                "ipd.clear_output()"
            ]
        },
        {
            "cell_type": "code",
            "execution_count": null,
            "metadata": {},
            "outputs": [],
            "source": [
                "# listen to an example file \n",
                "ipd.Audio(f'{WORKDIR}/audio/earnings21-4374910.mp3')"
            ]
        },
        {
            "attachments": {},
            "cell_type": "markdown",
            "metadata": {},
            "source": [
                "## Transcribing and scoring\n",
                "\n",
                "We use the `run_pipelines.py` convenience script to transcribe and score the calls. It runs ASR (Whisper `small.en`) along with various diarization pipelines (explained in the following sections), scores them and parses detailed results into a single tsv file.\n",
                "\n",
                "> *NOTE: On Google colab, we skip this step and use pre-computed results from my runs, as it's currently tricky to setup the fstalign scoring tool*"
            ]
        },
        {
            "cell_type": "code",
            "execution_count": null,
            "metadata": {},
            "outputs": [],
            "source": [
                "if not _PRE_COMPUTED:\n",
                "    # change directory to ../scripts\n",
                "    %cd {CODEDIR}/scripts\n",
                "\n",
                "    # process all the selected calls\n",
                "    calls = [\n",
                "        (\"earnings21-4385939\", 19),\n",
                "        (\"earnings21-4374910\", 2),\n",
                "        (\"earnings21-4359971\", 10),\n",
                "    ]\n",
                "\n",
                "    # iterate over calls and run the script run_pipelines.py\n",
                "    for call_id, num_speakers in calls:\n",
                "        # provide the oracle # speakers to pipelines that do clustering as we only evaluate local diarization i.e. segmentation\n",
                "        ! python run_pipelines.py {WORKDIR}/audio/{call_id}.mp3 {WORKDIR}/fstalign_scoring/references/{call_id}-ref.nlp {WORKDIR}/transcripts --num_speakers {num_speakers}\n",
                "\n",
                "    # change directory back to ../notebooks\n",
                "    %cd {CODEDIR}/notebooks\n"
            ]
        },
        {
            "cell_type": "markdown",
            "metadata": {},
            "source": [
                "# Deep dive and error analysis"
            ]
        },
        {
            "cell_type": "markdown",
            "metadata": {},
            "source": [
                "## Information on metrics\n",
                "\n",
                "Diarization typically uses either time-based metrics (e.g. DER measures % of time correctly attributed) or transcript-based metrics that compare the final transcript. \n",
                "\n",
                "I prefer to use transcript-based metrics as:\n",
                "- It helps us see errors the way an end-user would i.e. [WYSIWYG](https://en.wikipedia.org/wiki/WYSIWYG).\n",
                "- Analyzing errors in the semantic context of the conversation is much more intuitive, and helps us quickly get a sense of where we really need to focus.\n",
                "- Tricky edge cases such as disfluencies, speaker overlap, etc. can be handled in an interpretable way via the transcription convention (e.g. using special tokens and/or text normalization).\n",
                "\n",
                "In this notebook we focus on \"local\" diarization i.e. speaker segmentation (and not the \"global\" task of clustering speakers across the entire meeting). We use the following metrics for ease of interpretation and analysis:\n",
                "- WER: word error rate as measured by `fstalign`\n",
                "- Speaker turn recall: fraction of speaker changes that are correctly identified\n",
                "- Speaker turn precision: fraction of predicted speaker changes that are correct\n",
                "\n",
                "Just like WER, speaker turn recall and precision are computed by aligning reference and hypothesis transcripts after inserting a special `speaker__turn` token, and then counting errors on the special tokens. We also parse the aligned ref/hyp transcripts for error analysis. *(see implementation in `score.py` for details)*"
            ]
        },
        {
            "attachments": {},
            "cell_type": "markdown",
            "metadata": {},
            "source": [
                "## Comparing results"
            ]
        },
        {
            "cell_type": "code",
            "execution_count": 4,
            "metadata": {},
            "outputs": [],
            "source": [
                "# some utility functions\n",
                "%load_ext autoreload\n",
                "%autoreload 2\n",
                "import sys; sys.path.append(CODEDIR)\n",
                "from analysis_utils import compile_results, summarize_results, query_metric_results, plot_metric_results, inspect_errors"
            ]
        },
        {
            "cell_type": "markdown",
            "metadata": {},
            "source": [
                "We compile all the TSV files generated by `run_pipelines.py` into a single dataframe for analysis. The dataframe contains both WER and speaker turn metrics along with a detailed error breakdown e.g. (DEL/INS/SUB) for WER, false negatives (DEL/SUB) for speaker turn recall, and false positives (INS/SUB) for speaker turn precision. \n",
                "\n",
                "We also parse a useful `*.sbs` file output by fstalign containing ref/hyp aligned with the errors. This is very helpful for error inspection and debugging."
            ]
        },
        {
            "cell_type": "code",
            "execution_count": 5,
            "metadata": {},
            "outputs": [
                {
                    "name": "stdout",
                    "output_type": "stream",
                    "text": [
                        "Read 84 results from 21 files\n",
                        "Read 21 side-by-side analysis results\n"
                    ]
                }
            ],
            "source": [
                "results_all_df, analysis_results = compile_results(f\"{WORKDIR}/fstalign_scoring/results\")"
            ]
        },
        {
            "cell_type": "markdown",
            "metadata": {},
            "source": [
                "We compare the following approaches:\n",
                "- `punctuation`: Simple baseline adding a speaker turn after every ending punctuation e.g. `.?!`. The recall of this baseline helps us get a sense for how well Whisper is already implicitly marking speaker turns (i.e. does it miss any). We hypothesize that the semantic context of a conversation is a strong signal for both punctuations and speaker turns.\n",
                "\n",
                "- `pyannote_pre_sr`: Runs full pyannote diarization pipeline, and then whisper.transcribe on segments created by the pipeline, retaining the speaker assignment for each segment. [Pyannote](https://huggingface.co/pyannote/speaker-diarization) is a strong open-source baseline that runs dedicated 2-stage diarization models (segmentation + clustering).\n",
                "\n",
                "- `segment_timestamped`: Simple baseline that adds a speaker turn after every segment marked between timestamps (e.g. 00:27.080 --> 00:32.720 \"this is a segment\"). Similar to `punctuation`, the recall of this simple baseline helps us get a rough upper bound for how well timestamp-based [heuristic clustering approaches](https://huggingface.co/spaces/vumichien/Whisper_speaker_diarization) can do.\n",
                "\n",
                "- `tdrz_token`: tinyDiarize model introducing a new `speaker_turn` token in the vocabulary which is decoded in whisper.transcribe itself. It was finetuned on ~100hrs from the AMI meetings dataset prepared into long-form 30s chunks (see [tinydiarize/README.md](https://github.com/akashmjn/tinyDiarize/tree/main/tinydiarize) for details). Viewing this as a special case of punctuations, we'd expect this to have a much better precision than the `punctuation` baseline, with its recall as an upper bound. \n",
                "\n",
                "We are not aiming to outperform the state of the art, but to explore how well Whisper can infer speaker turns with its implicit prior via the finetuned `tdrz_token` prototype. We also want to see if we can keep the original WER performance without overfitting to the finetuning dataset. If it works, this approach has the advantage of simpler and faster inference that can be easily integrated into optimized pipelines like [whisper.cpp](https://github.com/ggerganov/whisper.cpp)."
            ]
        },
        {
            "cell_type": "code",
            "execution_count": 6,
            "metadata": {},
            "outputs": [
                {
                    "name": "stdout",
                    "output_type": "stream",
                    "text": [
                        "Total # of words: 23630, Total # of speaker turns: 301\n"
                    ]
                },
                {
                    "data": {
                        "text/html": [
                            "<div>\n",
                            "<style scoped>\n",
                            "    .dataframe tbody tr th:only-of-type {\n",
                            "        vertical-align: middle;\n",
                            "    }\n",
                            "\n",
                            "    .dataframe tbody tr th {\n",
                            "        vertical-align: top;\n",
                            "    }\n",
                            "\n",
                            "    .dataframe thead tr th {\n",
                            "        text-align: left;\n",
                            "    }\n",
                            "\n",
                            "    .dataframe thead tr:last-of-type th {\n",
                            "        text-align: right;\n",
                            "    }\n",
                            "</style>\n",
                            "<table border=\"1\" class=\"dataframe\">\n",
                            "  <thead>\n",
                            "    <tr>\n",
                            "      <th>model</th>\n",
                            "      <th colspan=\"3\" halign=\"left\">small.en</th>\n",
                            "      <th>small.en-tdrz</th>\n",
                            "    </tr>\n",
                            "    <tr>\n",
                            "      <th>method</th>\n",
                            "      <th>punctuation</th>\n",
                            "      <th>pyannote_pre_sr</th>\n",
                            "      <th>segment_timestamped</th>\n",
                            "      <th>tdrz_token</th>\n",
                            "    </tr>\n",
                            "    <tr>\n",
                            "      <th>metric</th>\n",
                            "      <th></th>\n",
                            "      <th></th>\n",
                            "      <th></th>\n",
                            "      <th></th>\n",
                            "    </tr>\n",
                            "  </thead>\n",
                            "  <tbody>\n",
                            "    <tr>\n",
                            "      <th>spk_turn_precision</th>\n",
                            "      <td>19.49</td>\n",
                            "      <td>84.89</td>\n",
                            "      <td>14.52</td>\n",
                            "      <td>98.16</td>\n",
                            "    </tr>\n",
                            "    <tr>\n",
                            "      <th>spk_turn_recall</th>\n",
                            "      <td>92.03</td>\n",
                            "      <td>78.41</td>\n",
                            "      <td>86.71</td>\n",
                            "      <td>70.76</td>\n",
                            "    </tr>\n",
                            "    <tr>\n",
                            "      <th>wer_overall</th>\n",
                            "      <td>10.95</td>\n",
                            "      <td>15.44</td>\n",
                            "      <td>10.95</td>\n",
                            "      <td>10.30</td>\n",
                            "    </tr>\n",
                            "    <tr>\n",
                            "      <th>wer_speaker_switch</th>\n",
                            "      <td>14.96</td>\n",
                            "      <td>26.60</td>\n",
                            "      <td>14.96</td>\n",
                            "      <td>15.56</td>\n",
                            "    </tr>\n",
                            "  </tbody>\n",
                            "</table>\n",
                            "</div>"
                        ],
                        "text/plain": [
                            "model                 small.en                                      \\\n",
                            "method             punctuation pyannote_pre_sr segment_timestamped   \n",
                            "metric                                                               \n",
                            "spk_turn_precision       19.49           84.89               14.52   \n",
                            "spk_turn_recall          92.03           78.41               86.71   \n",
                            "wer_overall              10.95           15.44               10.95   \n",
                            "wer_speaker_switch       14.96           26.60               14.96   \n",
                            "\n",
                            "model              small.en-tdrz  \n",
                            "method                tdrz_token  \n",
                            "metric                            \n",
                            "spk_turn_precision         98.16  \n",
                            "spk_turn_recall            70.76  \n",
                            "wer_overall                10.30  \n",
                            "wer_speaker_switch         15.56  "
                        ]
                    },
                    "metadata": {},
                    "output_type": "display_data"
                },
                {
                    "data": {
                        "image/png": "[encoded data removed]",
                        "text/plain": [
                            "<Figure size 900x350 with 2 Axes>"
                        ]
                    },
                    "metadata": {},
                    "output_type": "display_data"
                }
            ],
            "source": [
                "summary_df, results_df = summarize_results(results_all_df)\n",
                "ipd.display(summary_df)\n",
                "\n",
                "# plotting per-meeting speaker turn results\n",
                "fig, axes = plt.subplots(1, 2, figsize=(9, 3.5), sharey=True)\n",
                "d1 = query_metric_results(results_df, \"spk_turn_recall\", groups=[\"call_id\", \"method\"])\n",
                "plot_metric_results(d1, title=\"Speaker Turn Recall\", ax=axes[0], legend=False)\n",
                "d2 = query_metric_results(results_df, \"spk_turn_precision\", groups=[\"call_id\", \"method\"])\n",
                "plot_metric_results(d2, title=\"Speaker Turn Precision\", ax=axes[1])"
            ]
        },
        {
            "cell_type": "markdown",
            "metadata": {},
            "source": [
                "We can make the following observations:\n",
                "1. The recall of the simple `punctuation` baseline is quite high i.e. it rarely misses punctuating a speaker turn. This validates our hypothesis that the model already has a good implicit representation of speaker turns via both acoustic and semantic cues (much like a punctuation).\n",
                "2. The `pyannote_pre_sr` pipeline has good all-round performance, although it actually has a bit lower recall than the simple `punctuation` baseline. As we'll see in the next section this is primarily due to handling of short segments.\n",
                "3. The `segment_timestamped` baseline is somewhat erratic, either matching `punctuation` or with a big gap on call `*910`. The consistency of whisper timestamps is known to be a bit erratic, so this is not surprising.\n",
                "4. The `tdrz_token` approach significantly improves precision over the punctuation baseline to almost 100%, while incurring some loss of recall. Strong performance with a very simple finetuning setup shows that we can cheaply isolate behavior that was already present in Whisper models.\n",
                "\n",
                "In the next section, by manually inspecting errors we can build some intuition for the strengths and weaknesses of different approaches."
            ]
        },
        {
            "cell_type": "markdown",
            "metadata": {},
            "source": [
                "## Error inspection\n",
                "\n",
                "We now look through some examples to understand where the bottlenecks lie. Our choice of transcript-based metrics (speaker turn precision/recall) allows us to do this in a very interpretable way, by simply reading the aligned transcripts around speaker turn errors.\n",
                "\n",
                "We will see that:\n",
                "- Short segments (e.g. 1-2s backchannel) are a major source of errors for `pyannote_pre_sr`. Approaches of this kind have to trade-off temporal resolution vs quality of representations, often at extra cost and complexity, as they operate independently of ASR relying on only acoustic information.\n",
                "- Semantic information available to Whisper simplifies this problem significantly. Being trained to output punctuations imparts a strong prior which nearly eliminates such types of errors.\n",
                "- The near 100% precision of `tdrz_token` approach confirms the value of this prior, although there remains a lot of room for improvement in recall. There is no significant trend in the errors, so it's possible that the current prototype is under-trained and could benefit from more data.\n",
                "\n",
                "> Original un-normalized transcripts can be found under `WORKDIR/transcripts/MODEL/CALLID-METHOD/*.vtt`. These also contain timestamps and can be useful to additionally read the context around errors."
            ]
        },
        {
            "cell_type": "code",
            "execution_count": null,
            "metadata": {},
            "outputs": [],
            "source": [
                "# listen to an example file\n",
                "call_id = \"4385939\"\n",
                "ipd.Audio(f'{WORKDIR}/audio/earnings21-{call_id}.mp3')"
            ]
        },
        {
            "cell_type": "markdown",
            "metadata": {},
            "source": [
                "### Recall errors: Short segments and importance of semantic context\n",
                "\n",
                "We step through individual `recall_errors` below and have categorized them into the following types:\n",
                "\n",
                "|Error type|pyannote_pre_sr|punctuation|tdrz_token|\n",
                "|:----|:----|:----|:----|\n",
                "|Recall|85%|95%|74%|\n",
                "|# false negatives (out of 131)|19|6|34|\n",
                "|invalid|2|2|4|\n",
                "|ASR deletion|6|4|12|\n",
                "|short segment|11|0|10|\n",
                "|other segment|0|0|8|"
            ]
        },
        {
            "cell_type": "markdown",
            "metadata": {},
            "source": [
                "#### pyannote_pre_sr:\n",
                "\n",
                "Due to the way we run `pyannote_pre_sr`, recall errors are slightly inflated due to extra ASR deletions (6 vs 4) caused by Whisper skipping over words when transcribing chopped-up segments from the output of pyannote. See discussion in the next section for more details.\n",
                "\n",
                "Regardless - looking at the remaining errors, all of them (11) are clearly around few-word short segments that are merged into surrounding ones. As discussed in the blog post, this is a known design limitation of acoustic-embedding based diarization that creates a tradeoff between temporal resolution and accuracy. \n",
                "\n",
                "On reading through these errors ourselves, we can actually easily identify many of the speaker turns just from the semantic context even without listening to the audio.\n"
            ]
        },
        {
            "cell_type": "code",
            "execution_count": 8,
            "metadata": {},
            "outputs": [
                {
                    "name": "stdout",
                    "output_type": "stream",
                    "text": [
                        "Results for: ('small.en', '4385939', 'pyannote_pre_sr')\n"
                    ]
                },
                {
                    "data": {
                        "text/html": [
                            "<div>\n",
                            "<style scoped>\n",
                            "    .dataframe tbody tr th:only-of-type {\n",
                            "        vertical-align: middle;\n",
                            "    }\n",
                            "\n",
                            "    .dataframe tbody tr th {\n",
                            "        vertical-align: top;\n",
                            "    }\n",
                            "\n",
                            "    .dataframe thead th {\n",
                            "        text-align: right;\n",
                            "    }\n",
                            "</style>\n",
                            "<table border=\"1\" class=\"dataframe\">\n",
                            "  <thead>\n",
                            "    <tr style=\"text-align: right;\">\n",
                            "      <th></th>\n",
                            "      <th>metric</th>\n",
                            "      <th>value</th>\n",
                            "      <th>denominator</th>\n",
                            "      <th>numerator</th>\n",
                            "      <th>deletions</th>\n",
                            "      <th>insertions</th>\n",
                            "      <th>substitutions</th>\n",
                            "    </tr>\n",
                            "  </thead>\n",
                            "  <tbody>\n",
                            "    <tr>\n",
                            "      <th>0</th>\n",
                            "      <td>wer_overall</td>\n",
                            "      <td>13.214010</td>\n",
                            "      <td>9051</td>\n",
                            "      <td>1196</td>\n",
                            "      <td>592</td>\n",
                            "      <td>151</td>\n",
                            "      <td>453</td>\n",
                            "    </tr>\n",
                            "    <tr>\n",
                            "      <th>1</th>\n",
                            "      <td>wer_speaker_switch</td>\n",
                            "      <td>22.645290</td>\n",
                            "      <td>998</td>\n",
                            "      <td>226</td>\n",
                            "      <td>68</td>\n",
                            "      <td>64</td>\n",
                            "      <td>94</td>\n",
                            "    </tr>\n",
                            "    <tr>\n",
                            "      <th>2</th>\n",
                            "      <td>spk_turn_precision</td>\n",
                            "      <td>87.500000</td>\n",
                            "      <td>128</td>\n",
                            "      <td>112</td>\n",
                            "      <td>0</td>\n",
                            "      <td>14</td>\n",
                            "      <td>2</td>\n",
                            "    </tr>\n",
                            "    <tr>\n",
                            "      <th>3</th>\n",
                            "      <td>spk_turn_recall</td>\n",
                            "      <td>85.496178</td>\n",
                            "      <td>131</td>\n",
                            "      <td>112</td>\n",
                            "      <td>16</td>\n",
                            "      <td>0</td>\n",
                            "      <td>3</td>\n",
                            "    </tr>\n",
                            "  </tbody>\n",
                            "</table>\n",
                            "</div>"
                        ],
                        "text/plain": [
                            "               metric      value  denominator  numerator  deletions  \\\n",
                            "0         wer_overall  13.214010         9051       1196        592   \n",
                            "1  wer_speaker_switch  22.645290          998        226         68   \n",
                            "2  spk_turn_precision  87.500000          128        112          0   \n",
                            "3     spk_turn_recall  85.496178          131        112         16   \n",
                            "\n",
                            "   insertions  substitutions  \n",
                            "0         151            453  \n",
                            "1          64             94  \n",
                            "2          14              2  \n",
                            "3           0              3  "
                        ]
                    },
                    "metadata": {},
                    "output_type": "display_data"
                },
                {
                    "name": "stdout",
                    "output_type": "stream",
                    "text": [
                        "Precision errors: 16\n",
                        "Recall errors: 19\n",
                        "\n",
                        " ---------- Recall errors: ----------\n",
                        "\n",
                        "Line: 3263, Index: 6\n",
                        "                okay\tokay                \t\t\t\n",
                        "              thanks\tthanks              \t\t\t\n",
                        "                  so\tso                  \t\t\t\n",
                        "                much\tmuch                \t\t\t\n",
                        "                 for\tfor                 \t\t\t\n",
                        "                 the\tthe                 \t\t\t\n",
                        "               color\tcolor               \t\t\t\n",
                        "               there\tthere               \t\t\t\n",
                        "       speaker__turn\tspeaker__turn       \t\t\t\n",
                        "          absolutely\tabsolutely          \t\t\t\n",
                        "       speaker__turn\t<del>               \tERR\t___41_SPEAKER_TURN___\t41|\n",
                        "               thank\tthank               \t\t\t\n",
                        "                 you\tyou                 \t\t\t\n",
                        "                 our\tour                 \t\t\t\n",
                        "                next\tnext                \t\t\t\n",
                        "            question\tquestion            \t\t\t\n",
                        "               comes\tcomes               \t\t\t\n",
                        "                from\tfrom                \t\t\t\n",
                        "                line\tline                \t\t\t\n",
                        "                  of\tof                  \t\t\t\n",
                        "               jason\tjason               \t\t\t\n"
                    ]
                }
            ],
            "source": [
                "# notes on errors:\n",
                "# 0,7,8,10,11,13  - ASR deletion\n",
                "# 1,2,3,6*,9,12,14,15,16,17,18  - short segment\n",
                "# 4,5 - invalid (nonverbal speech)\n",
                "inspect_errors(results_df, analysis_results, (\"small.en\", call_id, \"pyannote_pre_sr\"), recall_errors=[6])"
            ]
        },
        {
            "cell_type": "markdown",
            "metadata": {},
            "source": [
                "#### punctuation:\n",
                "\n",
                "Due to availability of semantic context to Whisper's decoder, we see none of the short segment recall errors above i.e. Whisper almost always places punctuations to demarcate different speakers. The only remaining errors are ASR deletions (similar to those seen above) as Whisper doesn't always recognize partially overlapped words."
            ]
        },
        {
            "cell_type": "code",
            "execution_count": 9,
            "metadata": {},
            "outputs": [
                {
                    "name": "stdout",
                    "output_type": "stream",
                    "text": [
                        "Results for: ('small.en', '4385939', 'punctuation')\n"
                    ]
                },
                {
                    "data": {
                        "text/html": [
                            "<div>\n",
                            "<style scoped>\n",
                            "    .dataframe tbody tr th:only-of-type {\n",
                            "        vertical-align: middle;\n",
                            "    }\n",
                            "\n",
                            "    .dataframe tbody tr th {\n",
                            "        vertical-align: top;\n",
                            "    }\n",
                            "\n",
                            "    .dataframe thead th {\n",
                            "        text-align: right;\n",
                            "    }\n",
                            "</style>\n",
                            "<table border=\"1\" class=\"dataframe\">\n",
                            "  <thead>\n",
                            "    <tr style=\"text-align: right;\">\n",
                            "      <th></th>\n",
                            "      <th>metric</th>\n",
                            "      <th>value</th>\n",
                            "      <th>denominator</th>\n",
                            "      <th>numerator</th>\n",
                            "      <th>deletions</th>\n",
                            "      <th>insertions</th>\n",
                            "      <th>substitutions</th>\n",
                            "    </tr>\n",
                            "  </thead>\n",
                            "  <tbody>\n",
                            "    <tr>\n",
                            "      <th>0</th>\n",
                            "      <td>wer_overall</td>\n",
                            "      <td>10.298820</td>\n",
                            "      <td>9069</td>\n",
                            "      <td>934</td>\n",
                            "      <td>622</td>\n",
                            "      <td>84</td>\n",
                            "      <td>228</td>\n",
                            "    </tr>\n",
                            "    <tr>\n",
                            "      <th>1</th>\n",
                            "      <td>wer_speaker_switch</td>\n",
                            "      <td>11.523046</td>\n",
                            "      <td>998</td>\n",
                            "      <td>115</td>\n",
                            "      <td>68</td>\n",
                            "      <td>11</td>\n",
                            "      <td>36</td>\n",
                            "    </tr>\n",
                            "    <tr>\n",
                            "      <th>2</th>\n",
                            "      <td>spk_turn_precision</td>\n",
                            "      <td>20.903011</td>\n",
                            "      <td>598</td>\n",
                            "      <td>125</td>\n",
                            "      <td>0</td>\n",
                            "      <td>336</td>\n",
                            "      <td>137</td>\n",
                            "    </tr>\n",
                            "    <tr>\n",
                            "      <th>3</th>\n",
                            "      <td>spk_turn_recall</td>\n",
                            "      <td>95.419846</td>\n",
                            "      <td>131</td>\n",
                            "      <td>125</td>\n",
                            "      <td>5</td>\n",
                            "      <td>0</td>\n",
                            "      <td>1</td>\n",
                            "    </tr>\n",
                            "  </tbody>\n",
                            "</table>\n",
                            "</div>"
                        ],
                        "text/plain": [
                            "               metric      value  denominator  numerator  deletions  \\\n",
                            "0         wer_overall  10.298820         9069        934        622   \n",
                            "1  wer_speaker_switch  11.523046          998        115         68   \n",
                            "2  spk_turn_precision  20.903011          598        125          0   \n",
                            "3     spk_turn_recall  95.419846          131        125          5   \n",
                            "\n",
                            "   insertions  substitutions  \n",
                            "0          84            228  \n",
                            "1          11             36  \n",
                            "2         336            137  \n",
                            "3           0              1  "
                        ]
                    },
                    "metadata": {},
                    "output_type": "display_data"
                },
                {
                    "name": "stdout",
                    "output_type": "stream",
                    "text": [
                        "Precision errors: 473\n",
                        "Recall errors: 6\n",
                        "\n",
                        " ---------- Recall errors: ----------\n",
                        "\n",
                        "Line: 6714, Index: 3\n",
                        "                  we\twe                  \t\t\t\n",
                        "                sell\tsell                \t\t\t\n",
                        "                  in\tin                  \t\t\t\n",
                        "              bricks\tbricks              \t\t\t\n",
                        "                 and\tand                 \t\t\t\n",
                        "              mortar\tmortar              \t\t\t\n",
                        "              steve-\t<del>               \tERR\t\t\n",
                        "       speaker__turn\tspeaker__turn       \t\t\t\n",
                        "               right\t<del>               \tERR\t\t\n",
                        "               right\t<del>               \tERR\t\t\n",
                        "       speaker__turn\tsteve               \tERR\t___84_SPEAKER_TURN___\t84|\n",
                        "            anything\tanything            \t\t\t\n",
                        "                 you\tyou                 \t\t\t\n",
                        "               <ins>\twant                \tERR\t\t\n",
                        "               wanna\tto                  \tERR\t\t\n",
                        "                 add\tadd                 \t\t\t\n",
                        "       speaker__turn\tspeaker__turn       \t\t\t\n",
                        "                yeah\tyeah                \t\t\t\n",
                        "                   i\ti                   \t\t\t\n",
                        "               would\twould               \t\t\t\n",
                        "                 say\tsay                 \t\t\t\n"
                    ]
                }
            ],
            "source": [
                "# notes on recall errors:\n",
                "# 0,5 - invalid (nonverbal speech)\n",
                "# 1,2,3*,4 - ASR deletion\n",
                "inspect_errors(results_df, analysis_results, (\"small.en\", call_id, \"punctuation\"), recall_errors=[3])"
            ]
        },
        {
            "cell_type": "markdown",
            "metadata": {},
            "source": [
                "#### tdrz_token:\n",
                "\n",
                "The finetuned `tdrz_token` model has higher recall errors in all categories, indicating some kind of under-prediction bias. Given the simple finetuning setup, this is not too bad and we should be able to improve it with more data.\n",
                "One concerning trend is a 3x higher rate of ASR deletions (12 vs 4), which may warrant taking a closer look at the finetuning data labels."
            ]
        },
        {
            "cell_type": "code",
            "execution_count": 10,
            "metadata": {},
            "outputs": [
                {
                    "name": "stdout",
                    "output_type": "stream",
                    "text": [
                        "Results for: ('small.en-tdrz', '4385939', 'tdrz_token')\n"
                    ]
                },
                {
                    "data": {
                        "text/html": [
                            "<div>\n",
                            "<style scoped>\n",
                            "    .dataframe tbody tr th:only-of-type {\n",
                            "        vertical-align: middle;\n",
                            "    }\n",
                            "\n",
                            "    .dataframe tbody tr th {\n",
                            "        vertical-align: top;\n",
                            "    }\n",
                            "\n",
                            "    .dataframe thead th {\n",
                            "        text-align: right;\n",
                            "    }\n",
                            "</style>\n",
                            "<table border=\"1\" class=\"dataframe\">\n",
                            "  <thead>\n",
                            "    <tr style=\"text-align: right;\">\n",
                            "      <th></th>\n",
                            "      <th>metric</th>\n",
                            "      <th>value</th>\n",
                            "      <th>denominator</th>\n",
                            "      <th>numerator</th>\n",
                            "      <th>deletions</th>\n",
                            "      <th>insertions</th>\n",
                            "      <th>substitutions</th>\n",
                            "    </tr>\n",
                            "  </thead>\n",
                            "  <tbody>\n",
                            "    <tr>\n",
                            "      <th>0</th>\n",
                            "      <td>wer_overall</td>\n",
                            "      <td>7.543008</td>\n",
                            "      <td>9068</td>\n",
                            "      <td>684</td>\n",
                            "      <td>85</td>\n",
                            "      <td>232</td>\n",
                            "      <td>367</td>\n",
                            "    </tr>\n",
                            "    <tr>\n",
                            "      <th>1</th>\n",
                            "      <td>wer_speaker_switch</td>\n",
                            "      <td>11.923847</td>\n",
                            "      <td>998</td>\n",
                            "      <td>119</td>\n",
                            "      <td>31</td>\n",
                            "      <td>32</td>\n",
                            "      <td>56</td>\n",
                            "    </tr>\n",
                            "    <tr>\n",
                            "      <th>2</th>\n",
                            "      <td>spk_turn_precision</td>\n",
                            "      <td>98.979591</td>\n",
                            "      <td>98</td>\n",
                            "      <td>97</td>\n",
                            "      <td>0</td>\n",
                            "      <td>1</td>\n",
                            "      <td>0</td>\n",
                            "    </tr>\n",
                            "    <tr>\n",
                            "      <th>3</th>\n",
                            "      <td>spk_turn_recall</td>\n",
                            "      <td>74.045799</td>\n",
                            "      <td>131</td>\n",
                            "      <td>97</td>\n",
                            "      <td>29</td>\n",
                            "      <td>0</td>\n",
                            "      <td>5</td>\n",
                            "    </tr>\n",
                            "  </tbody>\n",
                            "</table>\n",
                            "</div>"
                        ],
                        "text/plain": [
                            "               metric      value  denominator  numerator  deletions  \\\n",
                            "0         wer_overall   7.543008         9068        684         85   \n",
                            "1  wer_speaker_switch  11.923847          998        119         31   \n",
                            "2  spk_turn_precision  98.979591           98         97          0   \n",
                            "3     spk_turn_recall  74.045799          131         97         29   \n",
                            "\n",
                            "   insertions  substitutions  \n",
                            "0         232            367  \n",
                            "1          32             56  \n",
                            "2           1              0  \n",
                            "3           0              5  "
                        ]
                    },
                    "metadata": {},
                    "output_type": "display_data"
                },
                {
                    "name": "stdout",
                    "output_type": "stream",
                    "text": [
                        "Precision errors: 1\n",
                        "Recall errors: 34\n",
                        "\n",
                        " ---------- Recall errors: ----------\n",
                        "\n",
                        "Line: 9385, Index: 32\n",
                        "                 the\tthe                 \t\t\t\n",
                        "               floor\tfloor               \t\t\t\n",
                        "                back\tback                \t\t\t\n",
                        "                  to\tto                  \t\t\t\n",
                        "                  ms\tms                  \t\t\t\n",
                        "               poole\tpoole               \t\t\t\n",
                        "                 for\tfor                 \t\t\t\n",
                        "                 any\tany                 \t\t\t\n",
                        "               final\tfinal               \t\t\t\n",
                        "            comments\tcomments            \t\t\t\n",
                        "       speaker__turn\t<del>               \tERR\t___129_SPEAKER_TURN___\t129|\n",
                        "               thank\tthank               \t\t\t\n",
                        "                 you\tyou                 \t\t\t\n",
                        "                 all\tall                 \t\t\t\n",
                        "                 for\tfor                 \t\t\t\n",
                        "             joining\tjoining             \t\t\t\n",
                        "                  us\tus                  \t\t\t\n",
                        "                this\tthis                \t\t\t\n",
                        "             morning\tmorning             \t\t\t\n",
                        "                   i\ti                   \t\t\t\n",
                        "                will\twill                \t\t\t\n"
                    ]
                }
            ],
            "source": [
                "# notes on recall errors:\n",
                "# 0,1,23*,24,28,29,32*,33 - other segment \n",
                "# 5,15,16,17,18,19,22,27,30,31 - short segment\n",
                "# 2,3,4,8,9,10,11,12,13,14,20,21 - ASR deletion\n",
                "# 6,7,25,26 - invalid (nonverbal speech)\n",
                "inspect_errors(results_df, analysis_results, (\"small.en-tdrz\", call_id, \"tdrz_token\"), recall_errors=[32])"
            ]
        },
        {
            "cell_type": "markdown",
            "metadata": {},
            "source": [
                "### Precision errors\n",
                "\n",
                "Most of precision errors for `pyannote_pre_sr` are due to over-segmentation, where its segmentation model appears to create short extra segments that are either duplicated or overlapped with the main content. This is also related to the time-resolution vs accuracy trade-off discussed above, that is exacerbated in areas of quick speaker turns. In some cases these overlapped extra segments end up getting serialized out of order as well, which is a separate issue. ([discussed later](#combining-pyannote-and-transcription-pipelines))\n",
                "\n",
                "Meanwhile, the `tdrz_token` model has near 100% precision, showing that the extra `speaker_turn` token has quickly learned to be a strong indicator of speaker turns. This is a very promising result, as it shows that we can cheaply isolate behavior that was already present in Whisper models.\n",
                "\n",
                "|Error type|pyannote_pre_sr|tdrz_token|\n",
                "|:----|:----|:----|\n",
                "|Precision|87%|99%|\n",
                "|# predictions|128|96|\n",
                "|# false positives|16|1|\n",
                "|duplicate segment|3|0|\n",
                "|extra segment|5|1|\n",
                "|duplicate + serialization error|3|0|\n",
                "|extra + serialization error|5|0|"
            ]
        },
        {
            "cell_type": "code",
            "execution_count": 11,
            "metadata": {
                "tags": []
            },
            "outputs": [
                {
                    "name": "stdout",
                    "output_type": "stream",
                    "text": [
                        "Results for: ('small.en', '4385939', 'pyannote_pre_sr')\n"
                    ]
                },
                {
                    "data": {
                        "text/html": [
                            "<div>\n",
                            "<style scoped>\n",
                            "    .dataframe tbody tr th:only-of-type {\n",
                            "        vertical-align: middle;\n",
                            "    }\n",
                            "\n",
                            "    .dataframe tbody tr th {\n",
                            "        vertical-align: top;\n",
                            "    }\n",
                            "\n",
                            "    .dataframe thead th {\n",
                            "        text-align: right;\n",
                            "    }\n",
                            "</style>\n",
                            "<table border=\"1\" class=\"dataframe\">\n",
                            "  <thead>\n",
                            "    <tr style=\"text-align: right;\">\n",
                            "      <th></th>\n",
                            "      <th>metric</th>\n",
                            "      <th>value</th>\n",
                            "      <th>denominator</th>\n",
                            "      <th>numerator</th>\n",
                            "      <th>deletions</th>\n",
                            "      <th>insertions</th>\n",
                            "      <th>substitutions</th>\n",
                            "    </tr>\n",
                            "  </thead>\n",
                            "  <tbody>\n",
                            "    <tr>\n",
                            "      <th>0</th>\n",
                            "      <td>wer_overall</td>\n",
                            "      <td>13.214010</td>\n",
                            "      <td>9051</td>\n",
                            "      <td>1196</td>\n",
                            "      <td>592</td>\n",
                            "      <td>151</td>\n",
                            "      <td>453</td>\n",
                            "    </tr>\n",
                            "    <tr>\n",
                            "      <th>1</th>\n",
                            "      <td>wer_speaker_switch</td>\n",
                            "      <td>22.645290</td>\n",
                            "      <td>998</td>\n",
                            "      <td>226</td>\n",
                            "      <td>68</td>\n",
                            "      <td>64</td>\n",
                            "      <td>94</td>\n",
                            "    </tr>\n",
                            "    <tr>\n",
                            "      <th>2</th>\n",
                            "      <td>spk_turn_precision</td>\n",
                            "      <td>87.500000</td>\n",
                            "      <td>128</td>\n",
                            "      <td>112</td>\n",
                            "      <td>0</td>\n",
                            "      <td>14</td>\n",
                            "      <td>2</td>\n",
                            "    </tr>\n",
                            "    <tr>\n",
                            "      <th>3</th>\n",
                            "      <td>spk_turn_recall</td>\n",
                            "      <td>85.496178</td>\n",
                            "      <td>131</td>\n",
                            "      <td>112</td>\n",
                            "      <td>16</td>\n",
                            "      <td>0</td>\n",
                            "      <td>3</td>\n",
                            "    </tr>\n",
                            "  </tbody>\n",
                            "</table>\n",
                            "</div>"
                        ],
                        "text/plain": [
                            "               metric      value  denominator  numerator  deletions  \\\n",
                            "0         wer_overall  13.214010         9051       1196        592   \n",
                            "1  wer_speaker_switch  22.645290          998        226         68   \n",
                            "2  spk_turn_precision  87.500000          128        112          0   \n",
                            "3     spk_turn_recall  85.496178          131        112         16   \n",
                            "\n",
                            "   insertions  substitutions  \n",
                            "0         151            453  \n",
                            "1          64             94  \n",
                            "2          14              2  \n",
                            "3           0              3  "
                        ]
                    },
                    "metadata": {},
                    "output_type": "display_data"
                },
                {
                    "name": "stdout",
                    "output_type": "stream",
                    "text": [
                        "Precision errors: 16\n",
                        "Recall errors: 19\n",
                        "\n",
                        " ---------- Precision errors: ----------\n",
                        "\n",
                        "Line: 4776, Index: 11\n",
                        "                  an\tan                  \t\t\t\n",
                        "                even\teven                \t\t\t\n",
                        "             greater\tgreater             \t\t\t\n",
                        "              amount\tamount              \t\t\t\n",
                        "                  of\tof                  \t\t\t\n",
                        "             pricing\tpricing             \t\t\t\n",
                        "               power\tpower               \t\t\t\n",
                        "       speaker__turn\tspeaker__turn       \t\t\t\n",
                        "              really\treally              \t\t\t\n",
                        "             helpful\thelpful             \t\t\t\n",
                        "               <ins>\tspeaker__turn       \tERR\t\t\n",
                        "               <ins>\treally              \tERR\t\t\n",
                        "               <ins>\thelpful             \tERR\t\t\n",
                        "               thank\tthank               \t\t\t\n",
                        "                 you\tyou                 \t\t\t\n",
                        "                  so\tso                  \t\t\t\n",
                        "                much\tmuch                \t\t\t\n",
                        "       speaker__turn\tspeaker__turn       \t\t\t\n",
                        "               thank\tthank               \t\t\t\n",
                        "                 you\tyou                 \t\t\t\n",
                        "                 our\tour                 \t\t\t\n"
                    ]
                }
            ],
            "source": [
                "# notes on precision errors:\n",
                "# 0,8,11* - duplicate segment\n",
                "# 1,2,4,5,6 - extra segment\n",
                "# 3,7,12 - duplicate + serialisation error\n",
                "# 9,10,13,14,16 - extra segment + serialisation error\n",
                "inspect_errors(results_df, analysis_results, (\"small.en\", call_id, \"pyannote_pre_sr\"), precision_errors=[11])"
            ]
        },
        {
            "cell_type": "code",
            "execution_count": 12,
            "metadata": {},
            "outputs": [
                {
                    "name": "stdout",
                    "output_type": "stream",
                    "text": [
                        "Results for: ('small.en-tdrz', '4385939', 'tdrz_token')\n"
                    ]
                },
                {
                    "data": {
                        "text/html": [
                            "<div>\n",
                            "<style scoped>\n",
                            "    .dataframe tbody tr th:only-of-type {\n",
                            "        vertical-align: middle;\n",
                            "    }\n",
                            "\n",
                            "    .dataframe tbody tr th {\n",
                            "        vertical-align: top;\n",
                            "    }\n",
                            "\n",
                            "    .dataframe thead th {\n",
                            "        text-align: right;\n",
                            "    }\n",
                            "</style>\n",
                            "<table border=\"1\" class=\"dataframe\">\n",
                            "  <thead>\n",
                            "    <tr style=\"text-align: right;\">\n",
                            "      <th></th>\n",
                            "      <th>metric</th>\n",
                            "      <th>value</th>\n",
                            "      <th>denominator</th>\n",
                            "      <th>numerator</th>\n",
                            "      <th>deletions</th>\n",
                            "      <th>insertions</th>\n",
                            "      <th>substitutions</th>\n",
                            "    </tr>\n",
                            "  </thead>\n",
                            "  <tbody>\n",
                            "    <tr>\n",
                            "      <th>0</th>\n",
                            "      <td>wer_overall</td>\n",
                            "      <td>7.543008</td>\n",
                            "      <td>9068</td>\n",
                            "      <td>684</td>\n",
                            "      <td>85</td>\n",
                            "      <td>232</td>\n",
                            "      <td>367</td>\n",
                            "    </tr>\n",
                            "    <tr>\n",
                            "      <th>1</th>\n",
                            "      <td>wer_speaker_switch</td>\n",
                            "      <td>11.923847</td>\n",
                            "      <td>998</td>\n",
                            "      <td>119</td>\n",
                            "      <td>31</td>\n",
                            "      <td>32</td>\n",
                            "      <td>56</td>\n",
                            "    </tr>\n",
                            "    <tr>\n",
                            "      <th>2</th>\n",
                            "      <td>spk_turn_precision</td>\n",
                            "      <td>98.979591</td>\n",
                            "      <td>98</td>\n",
                            "      <td>97</td>\n",
                            "      <td>0</td>\n",
                            "      <td>1</td>\n",
                            "      <td>0</td>\n",
                            "    </tr>\n",
                            "    <tr>\n",
                            "      <th>3</th>\n",
                            "      <td>spk_turn_recall</td>\n",
                            "      <td>74.045799</td>\n",
                            "      <td>131</td>\n",
                            "      <td>97</td>\n",
                            "      <td>29</td>\n",
                            "      <td>0</td>\n",
                            "      <td>5</td>\n",
                            "    </tr>\n",
                            "  </tbody>\n",
                            "</table>\n",
                            "</div>"
                        ],
                        "text/plain": [
                            "               metric      value  denominator  numerator  deletions  \\\n",
                            "0         wer_overall   7.543008         9068        684         85   \n",
                            "1  wer_speaker_switch  11.923847          998        119         31   \n",
                            "2  spk_turn_precision  98.979591           98         97          0   \n",
                            "3     spk_turn_recall  74.045799          131         97         29   \n",
                            "\n",
                            "   insertions  substitutions  \n",
                            "0         232            367  \n",
                            "1          32             56  \n",
                            "2           1              0  \n",
                            "3           0              5  "
                        ]
                    },
                    "metadata": {},
                    "output_type": "display_data"
                },
                {
                    "name": "stdout",
                    "output_type": "stream",
                    "text": [
                        "Precision errors: 1\n",
                        "Recall errors: 34\n"
                    ]
                }
            ],
            "source": [
                "# 0 - short extra segment\n",
                "inspect_errors(results_df, analysis_results, (\"small.en-tdrz\", call_id, \"tdrz_token\"))"
            ]
        },
        {
            "cell_type": "markdown",
            "metadata": {},
            "source": [
                "# How to score and analyze your own data \n",
                "\n",
                "To do so, you will need to:\n",
                "- Replace files under `WORKDIR/audio` with your own audio files\n",
                "- Create reference files in the [fstalign NLP format](https://github.com/revdotcom/fstalign/blob/develop/docs/NLP-Format.md]) under `WORKDIR/fstalign_scoring/references` \n",
                "- Make sure that the NLP contains speaker IDs in column 2. These are only used to score speaker turns. If your transcript only has speaker turns without global IDs, you can just increment a dummy speaker ID after every turn.\n",
                "\n",
                "Once this is done, you can simply plug it in to the `run_pipelines.py` script as above."
            ]
        },
        {
            "cell_type": "markdown",
            "metadata": {},
            "source": [
                "# Conclusion \n",
                "\n",
                "In conclusion, we have shown that:\n",
                "- Whisper models already have a good implicit representation of speaker turns via both acoustic and semantic cues (much like a punctuation).\n",
                "- The `tdrz_token` prototype shows that we can cheaply isolate this behavior with a simple finetuning setup, without too much impact on word error rate.\n",
                "- Conventional acoustic-embedding diarization approaches like `pyannote_pre_sr` have trouble with short segments & quick speaker turns due to design limitations, and can benefit from semantic context.\n",
                "- With improvments to the finetuning setup, we can expect to see strong performance from `tdrz_token` which can leverage the best of both worlds."
            ]
        },
        {
            "cell_type": "code",
            "execution_count": 13,
            "metadata": {},
            "outputs": [
                {
                    "data": {
                        "text/html": [
                            "<div>\n",
                            "<style scoped>\n",
                            "    .dataframe tbody tr th:only-of-type {\n",
                            "        vertical-align: middle;\n",
                            "    }\n",
                            "\n",
                            "    .dataframe tbody tr th {\n",
                            "        vertical-align: top;\n",
                            "    }\n",
                            "\n",
                            "    .dataframe thead tr th {\n",
                            "        text-align: left;\n",
                            "    }\n",
                            "\n",
                            "    .dataframe thead tr:last-of-type th {\n",
                            "        text-align: right;\n",
                            "    }\n",
                            "</style>\n",
                            "<table border=\"1\" class=\"dataframe\">\n",
                            "  <thead>\n",
                            "    <tr>\n",
                            "      <th>model</th>\n",
                            "      <th colspan=\"3\" halign=\"left\">small.en</th>\n",
                            "      <th>small.en-tdrz</th>\n",
                            "    </tr>\n",
                            "    <tr>\n",
                            "      <th>method</th>\n",
                            "      <th>punctuation</th>\n",
                            "      <th>pyannote_pre_sr</th>\n",
                            "      <th>segment_timestamped</th>\n",
                            "      <th>tdrz_token</th>\n",
                            "    </tr>\n",
                            "    <tr>\n",
                            "      <th>metric</th>\n",
                            "      <th></th>\n",
                            "      <th></th>\n",
                            "      <th></th>\n",
                            "      <th></th>\n",
                            "    </tr>\n",
                            "  </thead>\n",
                            "  <tbody>\n",
                            "    <tr>\n",
                            "      <th>spk_turn_precision</th>\n",
                            "      <td>19.49</td>\n",
                            "      <td>84.89</td>\n",
                            "      <td>14.52</td>\n",
                            "      <td>98.16</td>\n",
                            "    </tr>\n",
                            "    <tr>\n",
                            "      <th>spk_turn_recall</th>\n",
                            "      <td>92.03</td>\n",
                            "      <td>78.41</td>\n",
                            "      <td>86.71</td>\n",
                            "      <td>70.76</td>\n",
                            "    </tr>\n",
                            "    <tr>\n",
                            "      <th>wer_overall</th>\n",
                            "      <td>10.95</td>\n",
                            "      <td>15.44</td>\n",
                            "      <td>10.95</td>\n",
                            "      <td>10.30</td>\n",
                            "    </tr>\n",
                            "    <tr>\n",
                            "      <th>wer_speaker_switch</th>\n",
                            "      <td>14.96</td>\n",
                            "      <td>26.60</td>\n",
                            "      <td>14.96</td>\n",
                            "      <td>15.56</td>\n",
                            "    </tr>\n",
                            "  </tbody>\n",
                            "</table>\n",
                            "</div>"
                        ],
                        "text/plain": [
                            "model                 small.en                                      \\\n",
                            "method             punctuation pyannote_pre_sr segment_timestamped   \n",
                            "metric                                                               \n",
                            "spk_turn_precision       19.49           84.89               14.52   \n",
                            "spk_turn_recall          92.03           78.41               86.71   \n",
                            "wer_overall              10.95           15.44               10.95   \n",
                            "wer_speaker_switch       14.96           26.60               14.96   \n",
                            "\n",
                            "model              small.en-tdrz  \n",
                            "method                tdrz_token  \n",
                            "metric                            \n",
                            "spk_turn_precision         98.16  \n",
                            "spk_turn_recall            70.76  \n",
                            "wer_overall                10.30  \n",
                            "wer_speaker_switch         15.56  "
                        ]
                    },
                    "metadata": {},
                    "output_type": "display_data"
                }
            ],
            "source": [
                "ipd.display(summary_df)"
            ]
        },
        {
            "cell_type": "markdown",
            "metadata": {},
            "source": [
                "# Appendix\n",
                "\n",
                "In this section we go over some miscellaneous notes and observations that didn't fit in the main sections."
            ]
        },
        {
            "cell_type": "markdown",
            "metadata": {},
            "source": [
                "### Runtime comparison\n",
                "\n",
                "These numbers were tested using the earnings21-4374910 call (33.8 min) on a Quadro RTX 5000 GPU. Whisper is run with beam_size=4 and condition_on_previous_text=True.\n",
                "\n",
                "- The pyannote pipeline takes ~47% of transcription time. This includes 2 steps: local speaker segmentation + global clustering.\n",
                "- To get an idea of the time taken for the global clustering step, I tested a naive clustering of Whisper produced segments (see `drz_post_sr` in `run_pipelines.py`). This is quite fast, taking only 3% of transcription time, implying that the segmentation step is likely the main bottleneck in pyannote.\n",
                "- Lastly, we see that speaker segmentation done by `tdrz_token` is much cheaper, taking 8% extra transcription time. The extra time is a mix of the marginal cost of decoding extra `speaker_turn` tokens, and whisper.transcribe re-decoding hallucinations from the finetuned model.\n",
                "\n",
                "|Stage|Runtime (s)|Extra cost (%)|\n",
                "|:----|:----|:----|\n",
                "|Whisper.transcribe|121.2|-|\n",
                "|Pyannote diarization|56.6|47%|\n",
                "|Clustering whisper segments|3.4|3%|\n",
                "|Whisper.transcribe (tdrz)|131.5|8%|"
            ]
        },
        {
            "attachments": {},
            "cell_type": "markdown",
            "metadata": {},
            "source": [
                "### Impact of fine-tuning\n",
                "\n",
                "While the overall numbers are similar - taking a closer look, we do see some differences in both recognition (especially deletions) and timestamp behavior of the finetuned model. This is likely related to properties of the finetuning data, and could be probably be mitigated further with parameter-efficient finetuning methods that will be better regularizers."
            ]
        },
        {
            "cell_type": "code",
            "execution_count": 14,
            "metadata": {},
            "outputs": [
                {
                    "data": {
                        "text/html": [
                            "<div>\n",
                            "<style scoped>\n",
                            "    .dataframe tbody tr th:only-of-type {\n",
                            "        vertical-align: middle;\n",
                            "    }\n",
                            "\n",
                            "    .dataframe tbody tr th {\n",
                            "        vertical-align: top;\n",
                            "    }\n",
                            "\n",
                            "    .dataframe thead th {\n",
                            "        text-align: right;\n",
                            "    }\n",
                            "</style>\n",
                            "<table border=\"1\" class=\"dataframe\">\n",
                            "  <thead>\n",
                            "    <tr style=\"text-align: right;\">\n",
                            "      <th></th>\n",
                            "      <th>call_id</th>\n",
                            "      <th>model</th>\n",
                            "      <th>value</th>\n",
                            "      <th>deletions</th>\n",
                            "      <th>insertions</th>\n",
                            "      <th>substitutions</th>\n",
                            "    </tr>\n",
                            "  </thead>\n",
                            "  <tbody>\n",
                            "    <tr>\n",
                            "      <th>0</th>\n",
                            "      <td>4359971</td>\n",
                            "      <td>small.en</td>\n",
                            "      <td>12.074689</td>\n",
                            "      <td>663</td>\n",
                            "      <td>130</td>\n",
                            "      <td>371</td>\n",
                            "    </tr>\n",
                            "    <tr>\n",
                            "      <th>0</th>\n",
                            "      <td>4359971</td>\n",
                            "      <td>small.en-tdrz</td>\n",
                            "      <td>14.672616</td>\n",
                            "      <td>151</td>\n",
                            "      <td>589</td>\n",
                            "      <td>674</td>\n",
                            "    </tr>\n",
                            "    <tr>\n",
                            "      <th>0</th>\n",
                            "      <td>4374910</td>\n",
                            "      <td>small.en</td>\n",
                            "      <td>9.937005</td>\n",
                            "      <td>322</td>\n",
                            "      <td>41</td>\n",
                            "      <td>126</td>\n",
                            "    </tr>\n",
                            "    <tr>\n",
                            "      <th>0</th>\n",
                            "      <td>4374910</td>\n",
                            "      <td>small.en-tdrz</td>\n",
                            "      <td>6.825107</td>\n",
                            "      <td>53</td>\n",
                            "      <td>99</td>\n",
                            "      <td>184</td>\n",
                            "    </tr>\n",
                            "    <tr>\n",
                            "      <th>0</th>\n",
                            "      <td>4385939</td>\n",
                            "      <td>small.en</td>\n",
                            "      <td>10.298820</td>\n",
                            "      <td>622</td>\n",
                            "      <td>84</td>\n",
                            "      <td>228</td>\n",
                            "    </tr>\n",
                            "    <tr>\n",
                            "      <th>0</th>\n",
                            "      <td>4385939</td>\n",
                            "      <td>small.en-tdrz</td>\n",
                            "      <td>7.543008</td>\n",
                            "      <td>85</td>\n",
                            "      <td>232</td>\n",
                            "      <td>367</td>\n",
                            "    </tr>\n",
                            "  </tbody>\n",
                            "</table>\n",
                            "</div>"
                        ],
                        "text/plain": [
                            "   call_id          model      value  deletions  insertions  substitutions\n",
                            "0  4359971       small.en  12.074689        663         130            371\n",
                            "0  4359971  small.en-tdrz  14.672616        151         589            674\n",
                            "0  4374910       small.en   9.937005        322          41            126\n",
                            "0  4374910  small.en-tdrz   6.825107         53          99            184\n",
                            "0  4385939       small.en  10.298820        622          84            228\n",
                            "0  4385939  small.en-tdrz   7.543008         85         232            367"
                        ]
                    },
                    "execution_count": 14,
                    "metadata": {},
                    "output_type": "execute_result"
                }
            ],
            "source": [
                "cols = [\"call_id\", \"model\", \"value\", \"deletions\", \"insertions\", \"substitutions\"]\n",
                "results_all_df.query(\"metric=='wer_overall' and method=='punctuation'\")[cols].sort_values([\"call_id\", \"model\"])"
            ]
        },
        {
            "cell_type": "code",
            "execution_count": 15,
            "metadata": {},
            "outputs": [
                {
                    "data": {
                        "text/html": [
                            "<div>\n",
                            "<style scoped>\n",
                            "    .dataframe tbody tr th:only-of-type {\n",
                            "        vertical-align: middle;\n",
                            "    }\n",
                            "\n",
                            "    .dataframe tbody tr th {\n",
                            "        vertical-align: top;\n",
                            "    }\n",
                            "\n",
                            "    .dataframe thead th {\n",
                            "        text-align: right;\n",
                            "    }\n",
                            "</style>\n",
                            "<table border=\"1\" class=\"dataframe\">\n",
                            "  <thead>\n",
                            "    <tr style=\"text-align: right;\">\n",
                            "      <th></th>\n",
                            "      <th>call_id</th>\n",
                            "      <th>model</th>\n",
                            "      <th>value</th>\n",
                            "      <th>deletions</th>\n",
                            "      <th>insertions</th>\n",
                            "      <th>substitutions</th>\n",
                            "    </tr>\n",
                            "  </thead>\n",
                            "  <tbody>\n",
                            "    <tr>\n",
                            "      <th>3</th>\n",
                            "      <td>4359971</td>\n",
                            "      <td>small.en</td>\n",
                            "      <td>90.434784</td>\n",
                            "      <td>10</td>\n",
                            "      <td>0</td>\n",
                            "      <td>1</td>\n",
                            "    </tr>\n",
                            "    <tr>\n",
                            "      <th>3</th>\n",
                            "      <td>4359971</td>\n",
                            "      <td>small.en-tdrz</td>\n",
                            "      <td>75.652176</td>\n",
                            "      <td>21</td>\n",
                            "      <td>0</td>\n",
                            "      <td>7</td>\n",
                            "    </tr>\n",
                            "    <tr>\n",
                            "      <th>3</th>\n",
                            "      <td>4374910</td>\n",
                            "      <td>small.en</td>\n",
                            "      <td>60.000004</td>\n",
                            "      <td>19</td>\n",
                            "      <td>0</td>\n",
                            "      <td>3</td>\n",
                            "    </tr>\n",
                            "    <tr>\n",
                            "      <th>3</th>\n",
                            "      <td>4374910</td>\n",
                            "      <td>small.en-tdrz</td>\n",
                            "      <td>70.909088</td>\n",
                            "      <td>15</td>\n",
                            "      <td>0</td>\n",
                            "      <td>1</td>\n",
                            "    </tr>\n",
                            "    <tr>\n",
                            "      <th>3</th>\n",
                            "      <td>4385939</td>\n",
                            "      <td>small.en</td>\n",
                            "      <td>94.656494</td>\n",
                            "      <td>6</td>\n",
                            "      <td>0</td>\n",
                            "      <td>1</td>\n",
                            "    </tr>\n",
                            "    <tr>\n",
                            "      <th>3</th>\n",
                            "      <td>4385939</td>\n",
                            "      <td>small.en-tdrz</td>\n",
                            "      <td>80.152672</td>\n",
                            "      <td>21</td>\n",
                            "      <td>0</td>\n",
                            "      <td>5</td>\n",
                            "    </tr>\n",
                            "  </tbody>\n",
                            "</table>\n",
                            "</div>"
                        ],
                        "text/plain": [
                            "   call_id          model      value  deletions  insertions  substitutions\n",
                            "3  4359971       small.en  90.434784         10           0              1\n",
                            "3  4359971  small.en-tdrz  75.652176         21           0              7\n",
                            "3  4374910       small.en  60.000004         19           0              3\n",
                            "3  4374910  small.en-tdrz  70.909088         15           0              1\n",
                            "3  4385939       small.en  94.656494          6           0              1\n",
                            "3  4385939  small.en-tdrz  80.152672         21           0              5"
                        ]
                    },
                    "execution_count": 15,
                    "metadata": {},
                    "output_type": "execute_result"
                }
            ],
            "source": [
                "cols = [\"call_id\", \"model\", \"value\", \"deletions\", \"insertions\", \"substitutions\"]\n",
                "results_all_df.query(\"metric=='spk_turn_recall' and method=='segment_timestamped'\")[cols].sort_values([\"call_id\", \"model\"])"
            ]
        },
        {
            "cell_type": "markdown",
            "metadata": {},
            "source": [
                "### Combining pyannote and transcription pipelines\n",
                "\n",
                "For our analysis we chose to transcribe segments output by pyannote after serializing them into a single order. This removes any ambiguity in speaker assignment, however impacts WER and can have a few edge cases due to duplicate overlapped segments created by Pyannote that are serialized out of order as seen with \"in your mind\" below.\n",
                "\n",
                "![screenshot of transcript](duplicate-serialization.png)]\n",
                "\n",
                "Both ASR and diarization could also be run totally indepedently. This way the original WER is not affected. But it requires combining the two with careful heuristic matching of timestamps to handle various overlap/extra/duplicate segment edge cases. The best example of this is [WhisperX](https://github.com/m-bain/whisperX) which currently adds a 3rd model to get word-level timestamps to help matching. For simplicity/ease of illustration, I used the former, although it should be possible to compare the two approaches as well.\n",
                "\n",
                "*(as a sidenote, since reconciling duplicate/partially overlapped speech requires semantic information, I personally think it is cleanest and best done within the transcription pipeline itself as it has access to both acoustic and semantic information)*"
            ]
        },
        {
            "cell_type": "markdown",
            "metadata": {},
            "source": [
                "### Extending with global clustering"
            ]
        },
        {
            "attachments": {},
            "cell_type": "markdown",
            "metadata": {},
            "source": [
                "Future work will explore extending segments produced by `tdrz_token` with global clustering. Here are some rough thoughts:\n",
                "- As we saw above, clustering a given set of segments is much faster than the segmentation step itself, so it will remain relatively \"tiny\" and efficient 😊.\n",
                "- Since we're getting near-perfect precision from predicted speaker turns, they can actually be used as constraints during clustering as done in [Turn-to-Diarize](https://arxiv.org/abs/2109.11641).\n",
                "- An early implementation of AHC-based clustering is in `drz_post_sr` in `run_pipelines.py`, although we'll likely want to use [NMESC](https://github.com/tango4j/Auto-Tuning-Spectral-Clustering). Contributions welcome!"
            ]
        }
    ],
    "metadata": {
        "kernelspec": {
            "display_name": "Python 3.9.12 ('tdrz')",
            "language": "python",
            "name": "python3"
        },
        "language_info": {
            "codemirror_mode": {
                "name": "ipython",
                "version": 3
            },
            "file_extension": ".py",
            "mimetype": "text/x-python",
            "name": "python",
            "nbconvert_exporter": "python",
            "pygments_lexer": "ipython3",
            "version": "3.9.16"
        },
        "orig_nbformat": 4,
        "vscode": {
            "interpreter": {
                "hash": "2bb77140dc548291d9467d2298e70a02631615c7599652cc807f295f0a493157"
            }
        }
    },
    "nbformat": 4,
    "nbformat_minor": 2
}
