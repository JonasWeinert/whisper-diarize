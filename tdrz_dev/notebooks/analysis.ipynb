{
    "cells": [
        {
            "attachments": {},
            "cell_type": "markdown",
            "metadata": {},
            "source": [
                "# Outline\n",
                "\n",
                "This notebook complements the blog post and is intended to cover the following:\n",
                "- [Reproducing diarization pipelines](#reproducing-diarization-pipelines)\n",
                "- [Comparing results](#comparing-results)\n",
                "- [Deep dive and error analysis](#deep-dive-and-error-analysis)\n",
                "- [Conclusion](#conclusion)\n",
                "- [Score and analyze your own data](#score-and-analyze-your-own-data)\n",
                "- [Appendix](#appendix)\n"
            ]
        },
        {
            "cell_type": "markdown",
            "metadata": {},
            "source": [
                "# Reproducing diarization pipelines<a id='reproducing-diarization-pipelines'></a>"
            ]
        },
        {
            "cell_type": "markdown",
            "metadata": {},
            "source": [
                "## Setup\n"
            ]
        },
        {
            "cell_type": "markdown",
            "metadata": {},
            "source": [
                "If you have cloned the repro and are running this locally, make sure you first follow setup in `tdrz_dev/README.md`. This notebook handles the rest of the setup (including downloading eval data).\n",
                "\n",
                "> *NOTE: If running on Google Colab - until we figure out how to get the fstalign scoring tool working there - this notebook will fetch pre-computed scored results. You can still run the error inspection and analysis sections.*"
            ]
        },
        {
            "cell_type": "code",
            "execution_count": 1,
            "metadata": {},
            "outputs": [],
            "source": [
                "import matplotlib.pyplot as plt\n",
                "from IPython import get_ipython\n",
                "from IPython import display as ipd"
            ]
        },
        {
            "cell_type": "code",
            "execution_count": 2,
            "metadata": {
                "tags": []
            },
            "outputs": [],
            "source": [
                "if 'google.colab' in str(get_ipython()):\n",
                "    # clone a particular branch of tinydiarize repo\n",
                "    ! git clone https://github.com/akashmjn/tinydiarize.git\n",
                "    # pip install\n",
                "    ! pip install -e tinydiarize\n",
                "    # setup workdir\n",
                "    WORKDIR = 'tinydiarize/tdrz_dev/workdir_analysis'\n",
                "    CODEDIR = 'tinydiarize/tdrz_dev'\n",
                "    _PRE_COMPUTED = True\n",
                "else:\n",
                "    # if running locally, assume that tinydiarize repo is already cloned and setup\n",
                "    WORKDIR = '../workdir_analysis'\n",
                "    CODEDIR = '..'\n",
                "    _PRE_COMPUTED = False\n",
                "\n",
                "# _PRE_COMPUTED = True  # comment out if you want to just quickly step through analysis\n",
                "\n",
                "ipd.clear_output()"
            ]
        },
        {
            "cell_type": "code",
            "execution_count": 4,
            "metadata": {},
            "outputs": [],
            "source": [
                "# setup workdir structure and fetch evaluation data\n",
                "if _PRE_COMPUTED:\n",
                "    # download pre-computed results from blob\n",
                "    ! wget -O {CODEDIR}/workdir_analysis.tar.gz https://sharedstorage7190.blob.core.windows.net/tinydiarize/precomputed/workdir_analysis-060823/24ce3e95e3d8d0b8efd4395d5f9e5f0dc07d5078cc5ec00aca6b4b61129fa5d5.tar.gz\n",
                "    # compute the SHA256 hash of the downloaded file\n",
                "    ! echo \"SHA256 hash of downloaded file: $(sha256sum {CODEDIR}/workdir_analysis.tar.gz)\"\n",
                "    # unpack pre-computed results into WORKDIR\n",
                "    ! tar -xzf {CODEDIR}/workdir_analysis.tar.gz -C {CODEDIR}\n",
                "else:\n",
                "    ! mkdir -p {WORKDIR}\n",
                "    # call a bash script with WORKDIR as an environment variable and fetch eval data\n",
                "    ! bash {CODEDIR}/scripts/fetch_earnings21_calls.sh {WORKDIR}\n",
                "\n",
                "ipd.clear_output()"
            ]
        },
        {
            "cell_type": "code",
            "execution_count": null,
            "metadata": {},
            "outputs": [],
            "source": [
                "# listen to an example file \n",
                "ipd.Audio(f'{WORKDIR}/audio/earnings21-4374910.mp3')"
            ]
        },
        {
            "attachments": {},
            "cell_type": "markdown",
            "metadata": {},
            "source": [
                "## Transcribing and scoring\n",
                "\n",
                "We use the `run_pipelines.py` convenience script to transcribe and score the calls. It runs ASR (Whisper `small.en`) along with various diarization pipelines (explained in the following sections), scores them and parses detailed results into a single tsv file. Make sure you have completed the setup steps above and have an appropriate token file.\n",
                "\n",
                "> *NOTE: On Google colab, we skip this step and use pre-computed results from my runs, as it's currently tricky to setup the fstalign scoring tool*"
            ]
        },
        {
            "cell_type": "code",
            "execution_count": null,
            "metadata": {},
            "outputs": [],
            "source": [
                "if not _PRE_COMPUTED:\n",
                "    # change directory to ../scripts\n",
                "    %cd {CODEDIR}/scripts\n",
                "\n",
                "    # process all the selected calls\n",
                "    calls = [\n",
                "        (\"earnings21-4385939\", 19),\n",
                "        (\"earnings21-4374910\", 2),\n",
                "        (\"earnings21-4359971\", 10),\n",
                "    ]\n",
                "\n",
                "    # iterate over calls and run the script run_pipelines.py\n",
                "    for call_id, num_speakers in calls:\n",
                "        # provide the oracle # speakers to pipelines that do clustering as we only evaluate local diarization i.e. segmentation\n",
                "        ! python run_pipelines.py {WORKDIR}/audio/{call_id}.mp3 {WORKDIR}/fstalign_scoring/references/{call_id}-ref.nlp {WORKDIR}/transcripts --num_speakers {num_speakers} --hf_token_file \"HF_TOK.txt\"\n",
                "\n",
                "    # change directory back to ../notebooks\n",
                "    %cd {CODEDIR}/notebooks\n"
            ]
        },
        {
            "cell_type": "markdown",
            "metadata": {},
            "source": [
                "# Comparing results<a id='comparing-results'></a>"
            ]
        },
        {
            "attachments": {},
            "cell_type": "markdown",
            "metadata": {},
            "source": [
                "## Evaluation data\n",
                "\n",
                "We adopt the zero-shot evaluation scheme of Whisper, testing on a different dataset than the tinydiarize model was finetuned on (`AMI meetings`). This helps us get a more realistic estimate of real-world generalization vs the model's ability to fit `AMI meetings` dataset-specific quirks.\n",
                "\n",
                "For ease of analysis (and keeping with the 'tiny' spirit 😉) I've chosen a biased subset of 3 earnings calls from [rev/earnings21](https://github.com/revdotcom/speech-datasets/blob/main/earnings21/earnings21-file-metadata.csv). These were selected with the following criteria:\n",
                "- One interactive Q&A meeting (*939, Hershey) with a higher number of speaker switches and unique speakers\n",
                "- One meeting (*910, Amex) that is a moderated Q&A between only 2 speakers\n",
                "- One meeting (*971, Constellium) that comprises both a presentation and Q&A session, and is somewhere in between\n",
                "\n",
                "| file_id | audio_length | company_name | sector | speaker_switches | speaker_switches / minute | unique_speakers |\n",
                "|---------|--------------|--------------|--------|------------------|---------------------------|-----------------|\n",
                "| 4385939 | 3049.832     | Hershey Company | Consumer Goods | 132 | 2.60 | 19 |\n",
                "| 4374910 | 2028.536     | American Express Company | Financial | 56 | 1.66 | 2 |\n",
                "| 4359971 | 3759.944     | Constellium | Industrial Goods | 116 | 1.85 | 10 |"
            ]
        },
        {
            "cell_type": "markdown",
            "metadata": {},
            "source": [
                "## Information on metrics\n",
                "\n",
                "Diarization typically uses either time-based metrics (e.g. DER measures % of time correctly attributed) or transcript-based metrics that compare the final transcript. \n",
                "\n",
                "I prefer to use transcript-based metrics as:\n",
                "- It helps us see errors the way an end-user would i.e. [WYSIWYG](https://en.wikipedia.org/wiki/WYSIWYG).\n",
                "- Analyzing errors in the semantic context of the conversation is much more intuitive, and helps us quickly get a sense of where we really need to focus.\n",
                "- Tricky edge cases such as disfluencies, speaker overlap, etc. can be handled in an interpretable way via the transcription convention (e.g. using special tokens and/or text normalization).\n",
                "\n",
                "In this notebook we focus on \"local\" diarization i.e. speaker segmentation (and not the \"global\" task of clustering speakers across the entire meeting). We use the following metrics for ease of interpretation and analysis:\n",
                "- WER: word error rate as measured by `fstalign`\n",
                "- Speaker turn recall: fraction of speaker changes that are correctly identified\n",
                "- Speaker turn precision: fraction of predicted speaker changes that are correct\n",
                "\n",
                "Just like WER, speaker turn recall and precision are computed by aligning reference and hypothesis transcripts after inserting a special `speaker__turn` token, and then counting errors on the special tokens. We also parse the aligned ref/hyp transcripts for error analysis. *(see implementation in `score.py` for details)*"
            ]
        },
        {
            "attachments": {},
            "cell_type": "markdown",
            "metadata": {},
            "source": [
                "## Compiling results"
            ]
        },
        {
            "cell_type": "code",
            "execution_count": 3,
            "metadata": {},
            "outputs": [],
            "source": [
                "# some utility functions\n",
                "%load_ext autoreload\n",
                "%autoreload 2\n",
                "import sys; sys.path.extend([CODEDIR, f\"{CODEDIR}/notebooks\"])\n",
                "from analysis_utils import compile_results, summarize_results, query_metric_results, plot_metric_results, inspect_spk_errors"
            ]
        },
        {
            "cell_type": "markdown",
            "metadata": {},
            "source": [
                "We compile all the TSV files generated by `run_pipelines.py` into a single dataframe for analysis. The dataframe contains both WER and speaker turn metrics along with a detailed error breakdown e.g. (DEL/INS/SUB) for WER, false negatives (DEL/SUB) for speaker turn recall, and false positives (INS/SUB) for speaker turn precision. \n",
                "\n",
                "We also parse a useful `*.sbs` file output by fstalign containing ref/hyp aligned with the errors. This is very helpful for error inspection and debugging."
            ]
        },
        {
            "cell_type": "code",
            "execution_count": 4,
            "metadata": {},
            "outputs": [
                {
                    "name": "stdout",
                    "output_type": "stream",
                    "text": [
                        "Read 84 results from 21 files\n",
                        "Read 21 side-by-side analysis results\n"
                    ]
                }
            ],
            "source": [
                "results_all_df, analysis_results = compile_results(f\"{WORKDIR}/fstalign_scoring/results\")"
            ]
        },
        {
            "cell_type": "markdown",
            "metadata": {},
            "source": [
                "We compare the following approaches:\n",
                "- `punctuation`: Simple baseline adding a speaker turn after every ending punctuation e.g. `.?!`. The recall of this baseline helps us get a sense for how well Whisper is already implicitly marking speaker turns (i.e. does it miss any). We hypothesize that the semantic context of a conversation is a strong signal for both punctuations and speaker turns.\n",
                "\n",
                "- `pyannote_pre_sr`: Runs full pyannote diarization pipeline, and then whisper.transcribe on segments created by the pipeline, retaining the speaker assignment for each segment. [Pyannote](https://huggingface.co/pyannote/speaker-diarization) is a strong open-source baseline that runs dedicated 2-stage diarization models (segmentation + clustering).\n",
                "\n",
                "- `segment_timestamped`: Simple baseline that separates every time segment created by Whisper (e.g. 00:27.080 --> 00:32.720 \"this is a segment\") with a speaker turn. Similar to `punctuation`, the recall of this simple baseline helps us get a rough upper bound for how well [clustering Whisper segments](https://huggingface.co/spaces/vumichien/Whisper_speaker_diarization) can do.\n",
                "\n",
                "- `tdrz_token`: tinydiarize model introducing a new `speaker_turn` token in the vocabulary which is decoded in whisper.transcribe itself. It was finetuned on ~100hrs from the AMI meetings dataset prepared into long-form 30s chunks. Viewing this as a special case of punctuations, we'd expect this to have a much better precision than the `punctuation` baseline, with its recall as an upper bound. \n",
                "\n",
                "Our aim here is not to claim a new state of the art or anything but to (i) study whether Whisper already has a useful internal representation (ii) see how well we can extract that representation via a tiny finetuning budget (iii) see if we can retain original WER performance without overfitting to the finetuning dataset.\n",
                "\n",
                "If it works, this approach has the advantage of much simpler and faster inference that can be easily integrated into optimized pipelines like [whisper.cpp](https://github.com/ggerganov/whisper.cpp)."
            ]
        },
        {
            "cell_type": "code",
            "execution_count": 5,
            "metadata": {},
            "outputs": [
                {
                    "name": "stdout",
                    "output_type": "stream",
                    "text": [
                        "Total # of words: 23630, Total # of speaker turns: 301\n"
                    ]
                },
                {
                    "data": {
                        "text/html": [
                            "<div>\n",
                            "<style scoped>\n",
                            "    .dataframe tbody tr th:only-of-type {\n",
                            "        vertical-align: middle;\n",
                            "    }\n",
                            "\n",
                            "    .dataframe tbody tr th {\n",
                            "        vertical-align: top;\n",
                            "    }\n",
                            "\n",
                            "    .dataframe thead tr th {\n",
                            "        text-align: left;\n",
                            "    }\n",
                            "\n",
                            "    .dataframe thead tr:last-of-type th {\n",
                            "        text-align: right;\n",
                            "    }\n",
                            "</style>\n",
                            "<table border=\"1\" class=\"dataframe\">\n",
                            "  <thead>\n",
                            "    <tr>\n",
                            "      <th>model</th>\n",
                            "      <th colspan=\"3\" halign=\"left\">small.en</th>\n",
                            "      <th>small.en-tdrz</th>\n",
                            "    </tr>\n",
                            "    <tr>\n",
                            "      <th>method</th>\n",
                            "      <th>punctuation</th>\n",
                            "      <th>pyannote_pre_sr</th>\n",
                            "      <th>segment_timestamped</th>\n",
                            "      <th>tdrz_token</th>\n",
                            "    </tr>\n",
                            "    <tr>\n",
                            "      <th>metric</th>\n",
                            "      <th></th>\n",
                            "      <th></th>\n",
                            "      <th></th>\n",
                            "      <th></th>\n",
                            "    </tr>\n",
                            "  </thead>\n",
                            "  <tbody>\n",
                            "    <tr>\n",
                            "      <th>spk_turn_precision</th>\n",
                            "      <td>19.5</td>\n",
                            "      <td>83.4</td>\n",
                            "      <td>14.5</td>\n",
                            "      <td>97.7</td>\n",
                            "    </tr>\n",
                            "    <tr>\n",
                            "      <th>spk_turn_recall</th>\n",
                            "      <td>92.0</td>\n",
                            "      <td>78.4</td>\n",
                            "      <td>86.7</td>\n",
                            "      <td>70.8</td>\n",
                            "    </tr>\n",
                            "    <tr>\n",
                            "      <th>wer_overall</th>\n",
                            "      <td>10.9</td>\n",
                            "      <td>12.9</td>\n",
                            "      <td>10.9</td>\n",
                            "      <td>10.3</td>\n",
                            "    </tr>\n",
                            "    <tr>\n",
                            "      <th>wer_speaker_switch</th>\n",
                            "      <td>15.0</td>\n",
                            "      <td>23.1</td>\n",
                            "      <td>15.0</td>\n",
                            "      <td>15.5</td>\n",
                            "    </tr>\n",
                            "  </tbody>\n",
                            "</table>\n",
                            "</div>"
                        ],
                        "text/plain": [
                            "model                 small.en                                       \n",
                            "method             punctuation pyannote_pre_sr segment_timestamped   \n",
                            "metric                                                               \n",
                            "spk_turn_precision        19.5            83.4                14.5  \\\n",
                            "spk_turn_recall           92.0            78.4                86.7   \n",
                            "wer_overall               10.9            12.9                10.9   \n",
                            "wer_speaker_switch        15.0            23.1                15.0   \n",
                            "\n",
                            "model              small.en-tdrz  \n",
                            "method                tdrz_token  \n",
                            "metric                            \n",
                            "spk_turn_precision          97.7  \n",
                            "spk_turn_recall             70.8  \n",
                            "wer_overall                 10.3  \n",
                            "wer_speaker_switch          15.5  "
                        ]
                    },
                    "metadata": {},
                    "output_type": "display_data"
                },
                {
                    "data": {
                        "image/png": "[encoded data removed]",
                        "text/plain": [
                            "<Figure size 900x350 with 2 Axes>"
                        ]
                    },
                    "metadata": {},
                    "output_type": "display_data"
                }
            ],
            "source": [
                "summary_df, results_df = summarize_results(results_all_df)\n",
                "ipd.display(summary_df)\n",
                "\n",
                "# plotting per-meeting speaker turn results\n",
                "fig, axes = plt.subplots(1, 2, figsize=(9, 3.5), sharey=True)\n",
                "d1 = query_metric_results(results_df, \"spk_turn_recall\", groups=[\"call_id\", \"method\"])\n",
                "plot_metric_results(d1, title=\"Speaker Turn Recall\", ax=axes[0], legend=False)\n",
                "d2 = query_metric_results(results_df, \"spk_turn_precision\", groups=[\"call_id\", \"method\"])\n",
                "plot_metric_results(d2, title=\"Speaker Turn Precision\", ax=axes[1])"
            ]
        },
        {
            "cell_type": "markdown",
            "metadata": {},
            "source": [
                "Going through the results, we can make the following observations:\n",
                "1. The recall of the simple `punctuation` baseline is quite high i.e. it rarely misses punctuating a speaker turn. This validates our hypothesis that the model already has a good implicit representation of speaker turns via both acoustic and semantic cues (much like a punctuation).\n",
                "2. The `pyannote_pre_sr` pipeline has the best all-round performance, but not as good recall or precision as the best individual methods. As we'll see in the next section, this is due to a design limitation that hinders its performance on short segments and quick speaker changes.\n",
                "3. The recall of the `segment_timestamped` baseline is somewhat erratic compared to `punctuation`, with a big gap on call `*910`. I have also found it to be quite sensitive to other decoding parameters (e.g. previous_text_context). This aligns with common observations on the instability of Whisper timestamps.\n",
                "4. The `tdrz_token` approach significantly improves precision over the punctuation baseline to almost 100%, while incurring some loss of recall. Strong performance with a very simple finetuning setup confirms that we can cheaply isolate representations that were already present in Whisper models.\n",
                "\n",
                "In the next section, by manually inspecting errors we can build some intuition for the strengths and weaknesses of different approaches."
            ]
        },
        {
            "cell_type": "markdown",
            "metadata": {},
            "source": [
                "# Deep dive and error analysis<a id='deep-dive-and-error-analysis'></a>"
            ]
        },
        {
            "cell_type": "markdown",
            "metadata": {},
            "source": [
                "## Error inspection\n",
                "\n",
                "We now look through some examples to understand where the bottlenecks lie. Our choice of transcript-based metrics (speaker turn precision/recall) allows us to do this in a very interpretable way, by simply reading the aligned transcripts around speaker turn errors.\n",
                "\n",
                "We will see that:\n",
                "- Short segments (e.g. \"yeah okay\") and quick speaker changes are hard for `pyannote_pre_sr` because it uses acoustic embeddings to tell speakers apart locally. It is hard for even us to recognize a speaker from just a 1s audio clip - so the smaller the time unit, the worse the acoustic embeddings. This is a limitation of such approaches.\n",
                "- Whisper can use the semantic context to make this problem much easier. Being trained to output punctuations helps it have a high recall on speaker turns, even in short segments.\n",
                "- Finetuning `tdrz_token` to directly output speaker turns doesn't have as high recall as punctuations yet, although seems promising given the relatively cheap setup.\n",
                "- Precision errors incurred by `pyannote_pre_sr` are also related to the short segment issue, where `tdrz_token` has a clear advantage."
            ]
        },
        {
            "cell_type": "code",
            "execution_count": 6,
            "metadata": {},
            "outputs": [],
            "source": [
                "# listen to an example file\n",
                "call_id = \"4385939\"\n",
                "ipd.Audio(f'{WORKDIR}/audio/earnings21-{call_id}.mp3')"
            ]
        },
        {
            "cell_type": "markdown",
            "metadata": {},
            "source": [
                "### Recall errors: Short segments and importance of semantic context\n",
                "\n",
                "We step through individual `recall_errors` below and have categorized them into the following types:\n",
                "\n",
                "|Error type|pyannote_pre_sr|punctuation|tdrz_token|\n",
                "|:----|:----|:----|:----|\n",
                "|Recall|85%|95%|74%|\n",
                "|# false negatives (out of 131)|19|6|34|\n",
                "|invalid|2|2|4|\n",
                "|ASR deletion|6|4|12|\n",
                "|short segment|11|0|10|\n",
                "|other segment|0|0|8|"
            ]
        },
        {
            "cell_type": "markdown",
            "metadata": {},
            "source": [
                "#### pyannote_pre_sr (recall 85%):\n",
                "\n",
                "Most of the errors (11) are around few-word short segments that are merged into surrounding ones. As discussed above, this is because of a design limitation of methods that only rely on acoustic information. *(the smaller the time unit, the worse the acoustic embeddings)*\n",
                "\n",
                "> When we combine pyannote_pre_sr with whisper, it slightly increases recall errors (6 vs 4) because whisper deletes more words when it transcribes the segments cut by pyannote. See the Appendix for more details.\n",
                "\n",
                "On reading through these errors ourselves, we can actually easily identify many of the speaker turns just from the semantic context even without listening to the audio.\n"
            ]
        },
        {
            "cell_type": "code",
            "execution_count": 34,
            "metadata": {},
            "outputs": [
                {
                    "name": "stdout",
                    "output_type": "stream",
                    "text": [
                        "Results for: ('small.en', '4385939', 'pyannote_pre_sr')\n",
                        "Precision: 86.15, # of false positives: 18\n",
                        "Recall: 85.50, # of false negatives: 19\n",
                        "\n",
                        " ---------- Spk turn recall errors: ----------\n",
                        "\n",
                        "Line: 3263, Index: 6\n",
                        "                okay\tokay                \t\t\t\n",
                        "              thanks\tthanks              \t\t\t\n",
                        "                  so\tso                  \t\t\t\n",
                        "                much\tmuch                \t\t\t\n",
                        "                 for\tfor                 \t\t\t\n",
                        "                 the\tthe                 \t\t\t\n",
                        "               color\tcolor               \t\t\t\n",
                        "               there\tthere               \t\t\t\n",
                        "       speaker__turn\tspeaker__turn       \t\t\t\n",
                        "          absolutely\tabsolutely          \t\t\t\n",
                        "       speaker__turn\t<del>               \tERR\t___41_SPEAKER_TURN___\t41|\n",
                        "               thank\tthank               \t\t\t\n",
                        "                 you\tyou                 \t\t\t\n",
                        "                 our\tour                 \t\t\t\n",
                        "                next\tnext                \t\t\t\n",
                        "            question\tquestion            \t\t\t\n",
                        "               comes\tcomes               \t\t\t\n",
                        "                from\tfrom                \t\t\t\n",
                        "               <ins>\tthe                 \t\t\t\n",
                        "                line\tline                \t\t\t\n",
                        "                  of\tof                  \t\t\t\n"
                    ]
                }
            ],
            "source": [
                "# manually tagged errors:\n",
                "# 0,7,8,10,11,13  - ASR deletion\n",
                "# 1,2,3,6*,9,12,14,15,16,17,18  - short segment\n",
                "# 4,5 - invalid (nonverbal speech)\n",
                "\n",
                "# edit the list passed to recall_errors to inspect different error by tagged index\n",
                "inspect_spk_errors(results_df, analysis_results, (\"small.en\", call_id, \"pyannote_pre_sr\"), recall_errors=[6])"
            ]
        },
        {
            "cell_type": "markdown",
            "metadata": {},
            "source": [
                "#### punctuation (recall 95%):\n",
                "\n",
                "Due to availability of semantic context to Whisper's decoder, we see none of the short segment recall errors above. Whisper almost always places punctuations to demarcate different speakers. The only remaining errors are ASR deletions (similar to those seen above)."
            ]
        },
        {
            "cell_type": "code",
            "execution_count": 35,
            "metadata": {},
            "outputs": [
                {
                    "name": "stdout",
                    "output_type": "stream",
                    "text": [
                        "Results for: ('small.en', '4385939', 'punctuation')\n",
                        "Precision: 20.90, # of false positives: 473\n",
                        "Recall: 95.42, # of false negatives: 6\n",
                        "\n",
                        " ---------- Spk turn recall errors: ----------\n",
                        "\n",
                        "Line: 6714, Index: 3\n",
                        "                  we\twe                  \t\t\t\n",
                        "                sell\tsell                \t\t\t\n",
                        "                  in\tin                  \t\t\t\n",
                        "              bricks\tbricks              \t\t\t\n",
                        "                 and\tand                 \t\t\t\n",
                        "              mortar\tmortar              \t\t\t\n",
                        "              steve-\t<del>               \t\t\t\n",
                        "       speaker__turn\tspeaker__turn       \t\t\t\n",
                        "               right\t<del>               \t\t\t\n",
                        "               right\t<del>               \t\t\t\n",
                        "       speaker__turn\tsteve               \tERR\t___84_SPEAKER_TURN___\t84|\n",
                        "            anything\tanything            \t\t\t\n",
                        "                 you\tyou                 \t\t\t\n",
                        "               <ins>\twant                \t\t\t\n",
                        "               wanna\tto                  \t\t\t\n",
                        "                 add\tadd                 \t\t\t\n",
                        "       speaker__turn\tspeaker__turn       \t\t\t\n",
                        "                yeah\tyeah                \t\t\t\n",
                        "                   i\ti                   \t\t\t\n",
                        "               would\twould               \t\t\t\n",
                        "                 say\tsay                 \t\t\t\n"
                    ]
                }
            ],
            "source": [
                "# manually tagged recall errors:\n",
                "# 0,5 - invalid (nonverbal speech)\n",
                "# 1,2,3*,4 - ASR deletion\n",
                "inspect_spk_errors(results_df, analysis_results, (\"small.en\", call_id, \"punctuation\"), recall_errors=[3])"
            ]
        },
        {
            "cell_type": "markdown",
            "metadata": {},
            "source": [
                "#### tdrz_token (recall 74%):\n",
                "\n",
                "In an ideal case - we'd like to combine the high recall of the `punctuation` baseline, with a better precision as we assign a special token.\n",
                "\n",
                "However we can see that there's still some room to improve on recall. No particular error type stands out, so it's possible that the current model favors precision over recall and will improve with a better finetuning setup."
            ]
        },
        {
            "cell_type": "code",
            "execution_count": 7,
            "metadata": {},
            "outputs": [
                {
                    "name": "stdout",
                    "output_type": "stream",
                    "text": [
                        "Results for: ('small.en-tdrz', '4385939', 'tdrz_token')\n",
                        "Precision: 98.98, # of false positives: 1\n",
                        "Recall: 74.05, # of false negatives: 34\n",
                        "\n",
                        " ---------- Spk turn recall errors: ----------\n",
                        "\n",
                        "Line: 9385, Index: 32\n",
                        "                 the\tthe                 \t\t\t\n",
                        "               floor\tfloor               \t\t\t\n",
                        "                back\tback                \t\t\t\n",
                        "                  to\tto                  \t\t\t\n",
                        "                  ms\tms                  \t\t\t\n",
                        "               poole\tpoole               \t\t\t\n",
                        "                 for\tfor                 \t\t\t\n",
                        "                 any\tany                 \t\t\t\n",
                        "               final\tfinal               \t\t\t\n",
                        "            comments\tcomments            \t\t\t\n",
                        "       speaker__turn\t<del>               \tERR\t___129_SPEAKER_TURN___\t129|\n",
                        "               thank\tthank               \t\t\t\n",
                        "                 you\tyou                 \t\t\t\n",
                        "                 all\tall                 \t\t\t\n",
                        "                 for\tfor                 \t\t\t\n",
                        "             joining\tjoining             \t\t\t\n",
                        "                  us\tus                  \t\t\t\n",
                        "                this\tthis                \t\t\t\n",
                        "             morning\tmorning             \t\t\t\n",
                        "                   i\ti                   \t\t\t\n",
                        "                will\twill                \t\t\t\n"
                    ]
                }
            ],
            "source": [
                "# manually tagged recall errors:\n",
                "# 0,1,23*,24,28,29,32*,33 - other segment \n",
                "# 5,15,16,17,18,19,22,27,30,31 - short segment\n",
                "# 2,3,4,8,9,10,11,12,13,14,20,21 - ASR deletion\n",
                "# 6,7,25,26 - invalid (nonverbal speech)\n",
                "inspect_spk_errors(results_df, analysis_results, (\"small.en-tdrz\", call_id, \"tdrz_token\"), recall_errors=[32])"
            ]
        },
        {
            "cell_type": "markdown",
            "metadata": {},
            "source": [
                "### Precision errors\n",
                "\n",
                "Most precision errors for `pyannote_pre_sr` are because it can often split the audio into small overlapped segments that are not needed. These segments can either contain duplicate speech that is already in other segments or be false alarms. This happens more often when speakers change quickly, and is related to the time resolution design limitation discussed above.\n",
                "\n",
                "Sometimes these overlapping segments are also written in the wrong order (serialization error), which is another problem. ([discussed later](#combining-pyannote-and-transcription-pipelines))\n",
                "\n",
                "Meanwhile, the `tdrz_token` model has near 100% precision, showing that the extra `speaker_turn` token has quickly learned to be a strong indicator of speaker turns. This is a very promising result, as it shows that we can cheaply isolate behavior that was already present in Whisper models.\n",
                "\n",
                "|Error type|pyannote_pre_sr|tdrz_token|\n",
                "|:----|:----|:----|\n",
                "|Precision|86%|99%|\n",
                "|# predictions|130|96|\n",
                "|# false positives|18|1|\n",
                "|duplicate segment|3|0|\n",
                "|extra segment|6|1|\n",
                "|duplicate + serialization error|3|0|\n",
                "|extra + serialization error|6|0|"
            ]
        },
        {
            "cell_type": "code",
            "execution_count": 37,
            "metadata": {
                "tags": []
            },
            "outputs": [
                {
                    "name": "stdout",
                    "output_type": "stream",
                    "text": [
                        "Results for: ('small.en', '4385939', 'pyannote_pre_sr')\n",
                        "Precision: 86.15, # of false positives: 18\n",
                        "Recall: 85.50, # of false negatives: 19\n",
                        "\n",
                        " ---------- Spk turn precision errors: ----------\n",
                        "\n",
                        "Line: 4772, Index: 11\n",
                        "                  an\tan                  \t\t\t\n",
                        "                even\teven                \t\t\t\n",
                        "             greater\tgreater             \t\t\t\n",
                        "              amount\tamount              \t\t\t\n",
                        "                  of\tof                  \t\t\t\n",
                        "             pricing\tpricing             \t\t\t\n",
                        "               power\tpower               \t\t\t\n",
                        "       speaker__turn\tspeaker__turn       \t\t\t\n",
                        "              really\treally              \t\t\t\n",
                        "             helpful\thelpful             \t\t\t\n",
                        "               <ins>\tspeaker__turn       \tERR\t\t\n",
                        "               <ins>\treally              \t\t\t\n",
                        "               <ins>\thelpful             \t\t\t\n",
                        "               thank\tthank               \t\t\t\n",
                        "                 you\tyou                 \t\t\t\n",
                        "                  so\tso                  \t\t\t\n",
                        "                much\tmuch                \t\t\t\n",
                        "       speaker__turn\tspeaker__turn       \t\t\t\n",
                        "               thank\tthank               \t\t\t\n",
                        "                 you\tyou                 \t\t\t\n",
                        "                 our\tour                 \t\t\t\n"
                    ]
                }
            ],
            "source": [
                "# manually tagged precision errors:\n",
                "# 0,8,11* - duplicate segment\n",
                "# 1,2,4,5,6,17 - extra segment\n",
                "# 3,7,12 - duplicate + serialisation\n",
                "# 9,10,13,14,15,16 - extra segment + serialisation \n",
                "\n",
                "# in the example below there is a duplicate segment containing \"really helpful\"\n",
                "inspect_spk_errors(results_df, analysis_results, (\"small.en\", call_id, \"pyannote_pre_sr\"), precision_errors=[11])"
            ]
        },
        {
            "cell_type": "code",
            "execution_count": 8,
            "metadata": {},
            "outputs": [
                {
                    "name": "stdout",
                    "output_type": "stream",
                    "text": [
                        "Results for: ('small.en-tdrz', '4385939', 'tdrz_token')\n",
                        "Precision: 98.98, # of false positives: 1\n",
                        "Recall: 74.05, # of false negatives: 34\n"
                    ]
                }
            ],
            "source": [
                "# 0 - short extra segment\n",
                "inspect_spk_errors(results_df, analysis_results, (\"small.en-tdrz\", call_id, \"tdrz_token\"))"
            ]
        },
        {
            "cell_type": "markdown",
            "metadata": {},
            "source": [
                "# Conclusion<a id=\"conclusion\"></a>\n",
                "\n",
                "In conclusion, we have shown that:\n",
                "\n",
                "- Whisper models already have a good internal representation of speaker turns via both acoustic and semantic cues.\n",
                "- Their placement of `punctuation` tokens appears to be very consistent with speaker turns (high recall).\n",
                "- Whisper's time segments `segment_timestamped` (used for clustering [here](https://huggingface.co/spaces/vumichien/Whisper_speaker_diarization)) are less consistent.\n",
                "- Acoustic embedding-based diarization methods like `pyannote_pre_sr` perform well overall, but struggle with short segments & quick speaker turns. This leaves a gap with the best individual precision or recall.\n",
                "- `tdrz_token` shows that we can extract Whisper's speaker representations cheaply, and with small word error rate impact.\n",
                "- With improvements to finetuning, strong performance can be expected as it can use both voice and semantic context to tell speakers apart, which is a unique benefit of this approach."
            ]
        },
        {
            "cell_type": "code",
            "execution_count": 9,
            "metadata": {},
            "outputs": [
                {
                    "data": {
                        "text/html": [
                            "<div>\n",
                            "<style scoped>\n",
                            "    .dataframe tbody tr th:only-of-type {\n",
                            "        vertical-align: middle;\n",
                            "    }\n",
                            "\n",
                            "    .dataframe tbody tr th {\n",
                            "        vertical-align: top;\n",
                            "    }\n",
                            "\n",
                            "    .dataframe thead tr th {\n",
                            "        text-align: left;\n",
                            "    }\n",
                            "\n",
                            "    .dataframe thead tr:last-of-type th {\n",
                            "        text-align: right;\n",
                            "    }\n",
                            "</style>\n",
                            "<table border=\"1\" class=\"dataframe\">\n",
                            "  <thead>\n",
                            "    <tr>\n",
                            "      <th>model</th>\n",
                            "      <th colspan=\"3\" halign=\"left\">small.en</th>\n",
                            "      <th>small.en-tdrz</th>\n",
                            "    </tr>\n",
                            "    <tr>\n",
                            "      <th>method</th>\n",
                            "      <th>punctuation</th>\n",
                            "      <th>pyannote_pre_sr</th>\n",
                            "      <th>segment_timestamped</th>\n",
                            "      <th>tdrz_token</th>\n",
                            "    </tr>\n",
                            "    <tr>\n",
                            "      <th>metric</th>\n",
                            "      <th></th>\n",
                            "      <th></th>\n",
                            "      <th></th>\n",
                            "      <th></th>\n",
                            "    </tr>\n",
                            "  </thead>\n",
                            "  <tbody>\n",
                            "    <tr>\n",
                            "      <th>spk_turn_precision</th>\n",
                            "      <td>19.5</td>\n",
                            "      <td>83.4</td>\n",
                            "      <td>14.5</td>\n",
                            "      <td>97.7</td>\n",
                            "    </tr>\n",
                            "    <tr>\n",
                            "      <th>spk_turn_recall</th>\n",
                            "      <td>92.0</td>\n",
                            "      <td>78.4</td>\n",
                            "      <td>86.7</td>\n",
                            "      <td>70.8</td>\n",
                            "    </tr>\n",
                            "    <tr>\n",
                            "      <th>wer_overall</th>\n",
                            "      <td>10.9</td>\n",
                            "      <td>12.9</td>\n",
                            "      <td>10.9</td>\n",
                            "      <td>10.3</td>\n",
                            "    </tr>\n",
                            "    <tr>\n",
                            "      <th>wer_speaker_switch</th>\n",
                            "      <td>15.0</td>\n",
                            "      <td>23.1</td>\n",
                            "      <td>15.0</td>\n",
                            "      <td>15.5</td>\n",
                            "    </tr>\n",
                            "  </tbody>\n",
                            "</table>\n",
                            "</div>"
                        ],
                        "text/plain": [
                            "model                 small.en                                       \n",
                            "method             punctuation pyannote_pre_sr segment_timestamped   \n",
                            "metric                                                               \n",
                            "spk_turn_precision        19.5            83.4                14.5  \\\n",
                            "spk_turn_recall           92.0            78.4                86.7   \n",
                            "wer_overall               10.9            12.9                10.9   \n",
                            "wer_speaker_switch        15.0            23.1                15.0   \n",
                            "\n",
                            "model              small.en-tdrz  \n",
                            "method                tdrz_token  \n",
                            "metric                            \n",
                            "spk_turn_precision          97.7  \n",
                            "spk_turn_recall             70.8  \n",
                            "wer_overall                 10.3  \n",
                            "wer_speaker_switch          15.5  "
                        ]
                    },
                    "metadata": {},
                    "output_type": "display_data"
                }
            ],
            "source": [
                "ipd.display(summary_df)"
            ]
        },
        {
            "cell_type": "markdown",
            "metadata": {},
            "source": [
                "# Score and analyze your own data<a id=\"score-and-analyze-your-own-data\"></a>\n",
                "\n",
                "To do so, you will need to:\n",
                "- Replace files under `WORKDIR/audio` with your own audio files\n",
                "- Create reference files in the [fstalign NLP format](https://github.com/revdotcom/fstalign/blob/develop/docs/NLP-Format.md]) under `WORKDIR/fstalign_scoring/references` \n",
                "- Make sure that the NLP contains speaker IDs in column 2. These are only used to score speaker turns. If your transcript only has speaker turns without global IDs, you can just increment a dummy speaker ID after every turn.\n",
                "\n",
                "Once this is done, you can simply plug it in to the `run_pipelines.py` script as above."
            ]
        },
        {
            "cell_type": "markdown",
            "metadata": {},
            "source": [
                "# Appendix<a id=\"appendix\"></a>\n",
                "\n",
                "In this section we go over some miscellaneous notes and observations that didn't fit in the main sections."
            ]
        },
        {
            "cell_type": "markdown",
            "metadata": {},
            "source": [
                "### Runtime comparison\n",
                "\n",
                "These numbers were tested using the earnings21-4374910 call (33.8 min) on a Quadro RTX 5000 GPU. Whisper is run with beam_size=4 and condition_on_previous_text=True.\n",
                "\n",
                "- The pyannote diarization pipeline takes an extra ~47% of transcription time. This includes 2 steps: local speaker segmentation + global clustering.\n",
                "- To get an idea of the time taken for the global clustering step, I tested a naive clustering of Whisper produced segments (see `drz_post_sr` in `run_pipelines.py`). This is quite fast, taking only 3% of transcription time, implying that the segmentation step is likely the main bottleneck in pyannote.\n",
                "- Lastly, we see that speaker segmentation done by `tdrz_token` is much cheaper, taking 8% extra transcription time. The extra time is a mix of the marginal cost of decoding extra `speaker_turn` tokens, and a couple of more hallucinations from the finetuned model.\n",
                "\n",
                "|Stage|Runtime (s)|Extra cost (%)|\n",
                "|:----|:----|:----|\n",
                "|Whisper.transcribe|121.2|-|\n",
                "|Pyannote diarization|56.6|47%|\n",
                "|Clustering whisper segments|3.4|3%|\n",
                "|Whisper.transcribe (tdrz)|131.5|8%|"
            ]
        },
        {
            "attachments": {},
            "cell_type": "markdown",
            "metadata": {},
            "source": [
                "### Impact of fine-tuning\n",
                "\n",
                "While the overall numbers are similar - taking a closer look, we do see some differences in recognition WER (especially deletions)."
            ]
        },
        {
            "cell_type": "code",
            "execution_count": 10,
            "metadata": {},
            "outputs": [
                {
                    "data": {
                        "text/html": [
                            "<div>\n",
                            "<style scoped>\n",
                            "    .dataframe tbody tr th:only-of-type {\n",
                            "        vertical-align: middle;\n",
                            "    }\n",
                            "\n",
                            "    .dataframe tbody tr th {\n",
                            "        vertical-align: top;\n",
                            "    }\n",
                            "\n",
                            "    .dataframe thead th {\n",
                            "        text-align: right;\n",
                            "    }\n",
                            "</style>\n",
                            "<table border=\"1\" class=\"dataframe\">\n",
                            "  <thead>\n",
                            "    <tr style=\"text-align: right;\">\n",
                            "      <th></th>\n",
                            "      <th>call_id</th>\n",
                            "      <th>model</th>\n",
                            "      <th>value</th>\n",
                            "      <th>deletions</th>\n",
                            "      <th>insertions</th>\n",
                            "      <th>substitutions</th>\n",
                            "    </tr>\n",
                            "  </thead>\n",
                            "  <tbody>\n",
                            "    <tr>\n",
                            "      <th>0</th>\n",
                            "      <td>4359971</td>\n",
                            "      <td>small.en</td>\n",
                            "      <td>12.074689</td>\n",
                            "      <td>663</td>\n",
                            "      <td>130</td>\n",
                            "      <td>371</td>\n",
                            "    </tr>\n",
                            "    <tr>\n",
                            "      <th>0</th>\n",
                            "      <td>4359971</td>\n",
                            "      <td>small.en-tdrz</td>\n",
                            "      <td>14.579226</td>\n",
                            "      <td>149</td>\n",
                            "      <td>590</td>\n",
                            "      <td>666</td>\n",
                            "    </tr>\n",
                            "    <tr>\n",
                            "      <th>0</th>\n",
                            "      <td>4374910</td>\n",
                            "      <td>small.en</td>\n",
                            "      <td>9.937005</td>\n",
                            "      <td>322</td>\n",
                            "      <td>41</td>\n",
                            "      <td>126</td>\n",
                            "    </tr>\n",
                            "    <tr>\n",
                            "      <th>0</th>\n",
                            "      <td>4374910</td>\n",
                            "      <td>small.en-tdrz</td>\n",
                            "      <td>6.825107</td>\n",
                            "      <td>53</td>\n",
                            "      <td>99</td>\n",
                            "      <td>184</td>\n",
                            "    </tr>\n",
                            "    <tr>\n",
                            "      <th>0</th>\n",
                            "      <td>4385939</td>\n",
                            "      <td>small.en</td>\n",
                            "      <td>10.298820</td>\n",
                            "      <td>622</td>\n",
                            "      <td>84</td>\n",
                            "      <td>228</td>\n",
                            "    </tr>\n",
                            "    <tr>\n",
                            "      <th>0</th>\n",
                            "      <td>4385939</td>\n",
                            "      <td>small.en-tdrz</td>\n",
                            "      <td>7.543008</td>\n",
                            "      <td>85</td>\n",
                            "      <td>232</td>\n",
                            "      <td>367</td>\n",
                            "    </tr>\n",
                            "  </tbody>\n",
                            "</table>\n",
                            "</div>"
                        ],
                        "text/plain": [
                            "   call_id          model      value  deletions  insertions  substitutions\n",
                            "0  4359971       small.en  12.074689        663         130            371\n",
                            "0  4359971  small.en-tdrz  14.579226        149         590            666\n",
                            "0  4374910       small.en   9.937005        322          41            126\n",
                            "0  4374910  small.en-tdrz   6.825107         53          99            184\n",
                            "0  4385939       small.en  10.298820        622          84            228\n",
                            "0  4385939  small.en-tdrz   7.543008         85         232            367"
                        ]
                    },
                    "execution_count": 10,
                    "metadata": {},
                    "output_type": "execute_result"
                }
            ],
            "source": [
                "cols = [\"call_id\", \"model\", \"value\", \"deletions\", \"insertions\", \"substitutions\"]\n",
                "results_all_df.query(\"metric=='wer_overall' and method=='punctuation'\")[cols].sort_values([\"call_id\", \"model\"])"
            ]
        },
        {
            "cell_type": "markdown",
            "metadata": {},
            "source": [
                "There is also a difference in the time segments i.e. `segment_timestamped`. Lower recall here implies that the model is producing longer time segments.\n",
                "\n",
                "This is likely related to the nature of the finetuning data. Regularizing via more parameter-efficient finetuning methods might help avoid drastically changing the timestamp behavior."
            ]
        },
        {
            "cell_type": "code",
            "execution_count": 11,
            "metadata": {},
            "outputs": [
                {
                    "data": {
                        "text/html": [
                            "<div>\n",
                            "<style scoped>\n",
                            "    .dataframe tbody tr th:only-of-type {\n",
                            "        vertical-align: middle;\n",
                            "    }\n",
                            "\n",
                            "    .dataframe tbody tr th {\n",
                            "        vertical-align: top;\n",
                            "    }\n",
                            "\n",
                            "    .dataframe thead th {\n",
                            "        text-align: right;\n",
                            "    }\n",
                            "</style>\n",
                            "<table border=\"1\" class=\"dataframe\">\n",
                            "  <thead>\n",
                            "    <tr style=\"text-align: right;\">\n",
                            "      <th></th>\n",
                            "      <th>call_id</th>\n",
                            "      <th>model</th>\n",
                            "      <th>value</th>\n",
                            "      <th>deletions</th>\n",
                            "      <th>insertions</th>\n",
                            "      <th>substitutions</th>\n",
                            "    </tr>\n",
                            "  </thead>\n",
                            "  <tbody>\n",
                            "    <tr>\n",
                            "      <th>3</th>\n",
                            "      <td>4359971</td>\n",
                            "      <td>small.en</td>\n",
                            "      <td>90.434784</td>\n",
                            "      <td>10</td>\n",
                            "      <td>0</td>\n",
                            "      <td>1</td>\n",
                            "    </tr>\n",
                            "    <tr>\n",
                            "      <th>3</th>\n",
                            "      <td>4359971</td>\n",
                            "      <td>small.en-tdrz</td>\n",
                            "      <td>74.782608</td>\n",
                            "      <td>22</td>\n",
                            "      <td>0</td>\n",
                            "      <td>7</td>\n",
                            "    </tr>\n",
                            "    <tr>\n",
                            "      <th>3</th>\n",
                            "      <td>4374910</td>\n",
                            "      <td>small.en</td>\n",
                            "      <td>60.000004</td>\n",
                            "      <td>19</td>\n",
                            "      <td>0</td>\n",
                            "      <td>3</td>\n",
                            "    </tr>\n",
                            "    <tr>\n",
                            "      <th>3</th>\n",
                            "      <td>4374910</td>\n",
                            "      <td>small.en-tdrz</td>\n",
                            "      <td>70.909088</td>\n",
                            "      <td>15</td>\n",
                            "      <td>0</td>\n",
                            "      <td>1</td>\n",
                            "    </tr>\n",
                            "    <tr>\n",
                            "      <th>3</th>\n",
                            "      <td>4385939</td>\n",
                            "      <td>small.en</td>\n",
                            "      <td>94.656494</td>\n",
                            "      <td>6</td>\n",
                            "      <td>0</td>\n",
                            "      <td>1</td>\n",
                            "    </tr>\n",
                            "    <tr>\n",
                            "      <th>3</th>\n",
                            "      <td>4385939</td>\n",
                            "      <td>small.en-tdrz</td>\n",
                            "      <td>80.152672</td>\n",
                            "      <td>21</td>\n",
                            "      <td>0</td>\n",
                            "      <td>5</td>\n",
                            "    </tr>\n",
                            "  </tbody>\n",
                            "</table>\n",
                            "</div>"
                        ],
                        "text/plain": [
                            "   call_id          model      value  deletions  insertions  substitutions\n",
                            "3  4359971       small.en  90.434784         10           0              1\n",
                            "3  4359971  small.en-tdrz  74.782608         22           0              7\n",
                            "3  4374910       small.en  60.000004         19           0              3\n",
                            "3  4374910  small.en-tdrz  70.909088         15           0              1\n",
                            "3  4385939       small.en  94.656494          6           0              1\n",
                            "3  4385939  small.en-tdrz  80.152672         21           0              5"
                        ]
                    },
                    "execution_count": 11,
                    "metadata": {},
                    "output_type": "execute_result"
                }
            ],
            "source": [
                "cols = [\"call_id\", \"model\", \"value\", \"deletions\", \"insertions\", \"substitutions\"]\n",
                "results_all_df.query(\"metric=='spk_turn_recall' and method=='segment_timestamped'\")[cols].sort_values([\"call_id\", \"model\"])"
            ]
        },
        {
            "cell_type": "markdown",
            "metadata": {},
            "source": [
                "### Combining pyannote and transcription pipelines\n",
                "\n",
                "For our analysis we chose to transcribe segments output by pyannote after serializing them into a single order. This removes any ambiguity in speaker assignment, however can have a few edge cases due to duplicate overlapped segments created by Pyannote that are serialized out of order as seen with \"in your mind\" below. This particularly impacts WER around speaker switches (15% -> 23% as seen above).\n",
                "\n",
                "> For the serialization errors here, it is especially helpful to correlate precision errors with the original transcripts that contain timestamps. These can be found under `WORKDIR/transcripts/small.en/CALLID_drz_pre_sr/*.vtt`. \n",
                "\n",
                "![screenshot of transcript](duplicate-serialization.png)]\n",
                "\n",
                "Both ASR and diarization could also be run totally indepedently. This way the original WER is not affected. But it requires combining the two with careful heuristic matching of timestamps to handle various overlap/extra/duplicate segment edge cases. The best example of this is [WhisperX](https://github.com/m-bain/whisperX) which currently adds a 3rd model to get word-level timestamps to help matching. I went with a simple approach for ease of illustration, although it should be possible to compare the two approaches as well.\n",
                "\n",
                "*(as a sidenote, since reconciling duplicate/partially overlapped speech requires semantic information, I personally think it is cleanest and best done within the transcription pipeline itself as it has access to both acoustic and semantic information)*"
            ]
        },
        {
            "cell_type": "markdown",
            "metadata": {},
            "source": [
                "### Extending with global clustering"
            ]
        },
        {
            "attachments": {},
            "cell_type": "markdown",
            "metadata": {},
            "source": [
                "Future work will explore extending segments produced by `tdrz_token` with global clustering. Here are some rough thoughts:\n",
                "- As we saw above, creating embeddings + clustering a given set of segments is much faster than the segmentation step itself, so it will remain relatively \"tiny\" and efficient 😊.\n",
                "- Since we're getting near-perfect precision from predicted speaker turns, they can actually be used as constraints during clustering as done in [Turn-to-Diarize](https://arxiv.org/abs/2109.11641).\n",
                "- An early implementation of AHC-based clustering is in `drz_post_sr` in `run_pipelines.py`, although we'll likely want to use [NMESC](https://github.com/tango4j/Auto-Tuning-Spectral-Clustering). Contributions are welcome!"
            ]
        }
    ],
    "metadata": {
        "kernelspec": {
            "display_name": "Python 3.9.16 ('tdrz')",
            "language": "python",
            "name": "python3"
        },
        "language_info": {
            "codemirror_mode": {
                "name": "ipython",
                "version": 3
            },
            "file_extension": ".py",
            "mimetype": "text/x-python",
            "name": "python",
            "nbconvert_exporter": "python",
            "pygments_lexer": "ipython3",
            "version": "3.9.16"
        },
        "orig_nbformat": 4,
        "vscode": {
            "interpreter": {
                "hash": "2bb77140dc548291d9467d2298e70a02631615c7599652cc807f295f0a493157"
            }
        }
    },
    "nbformat": 4,
    "nbformat_minor": 2
}
